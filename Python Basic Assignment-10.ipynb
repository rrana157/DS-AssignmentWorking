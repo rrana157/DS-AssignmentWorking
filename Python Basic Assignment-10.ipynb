{
 "cells": [
  {
   "cell_type": "markdown",
   "id": "da668c7f",
   "metadata": {},
   "source": [
    "# Python Basic Assignment"
   ]
  },
  {
   "cell_type": "markdown",
   "id": "04d1e807",
   "metadata": {},
   "source": [
    "### Q-1 How do you distinguish between shutil.copy() and shutil.copytree()?"
   ]
  },
  {
   "cell_type": "code",
   "execution_count": null,
   "id": "c9b608c9",
   "metadata": {},
   "outputs": [],
   "source": [
    "# Ans:\n",
    "\"\"\"\n",
    "shutil.copy() will copy a single file, while shutil.copytree() will copy an entire folder and \n",
    "every folder and file contained in it.\n",
    "\"\"\""
   ]
  },
  {
   "cell_type": "markdown",
   "id": "8309cf8d",
   "metadata": {},
   "source": [
    "### Q-2 What function is used to rename files?"
   ]
  },
  {
   "cell_type": "code",
   "execution_count": null,
   "id": "d92a96e5",
   "metadata": {},
   "outputs": [],
   "source": [
    "# Ans:\n",
    "\"\"\"\n",
    "os.rename() function is used to rename a file.\n",
    "\"\"\""
   ]
  },
  {
   "cell_type": "markdown",
   "id": "0824196d",
   "metadata": {},
   "source": [
    "### Q-3 What is the difference between the delete functions in the send2trash and shutil modules?"
   ]
  },
  {
   "cell_type": "code",
   "execution_count": null,
   "id": "4d062f32",
   "metadata": {},
   "outputs": [],
   "source": [
    "# Ans:\n",
    "\"\"\"\n",
    "The send2trash functions will move the file or folder to the recycle bin, while shutil function will\n",
    "delete files or folder permanently.\n",
    "\"\"\""
   ]
  },
  {
   "cell_type": "markdown",
   "id": "f54ed582",
   "metadata": {},
   "source": [
    "### Q-4 ZipFile objects have a close() method just like File objects’ close() method. What ZipFile method is equivalent to File objects’ open() method?"
   ]
  },
  {
   "cell_type": "code",
   "execution_count": null,
   "id": "6f74a272",
   "metadata": {},
   "outputs": [],
   "source": [
    "# Ans:\n",
    "\"\"\"\n",
    "In, ZipFile OpenRead() method work just like file objects' open() method.\n",
    "\"\"\""
   ]
  },
  {
   "cell_type": "markdown",
   "id": "6a5a4850",
   "metadata": {},
   "source": [
    "### Q-5 Create a programme that searches a folder tree for files with a certain file extension (such as .pdf or .jpg). Copy these files from whatever location they are in to a new folder."
   ]
  },
  {
   "cell_type": "code",
   "execution_count": null,
   "id": "93a223e4",
   "metadata": {},
   "outputs": [],
   "source": [
    "# Ans:\n",
    "\n",
    "import os, shutil\n",
    "\n",
    "extension = ['.pdf','.jpg']\n",
    "\n",
    "currfold = 'C:/Users/ravrana'\n",
    "desfold = 'C:/Users/ravrana/PycharmProjects'\n",
    "\n",
    "currfold = os.path.abspath(currfold)\n",
    "desfold = os.path.abspath(desfold)\n",
    "\n",
    "for foldername,subfolders,files in os.walk(currfold):\n",
    "    for file in files:\n",
    "        name, ext = os.path.splitext(file)\n",
    "        if ext in extension:\n",
    "            fileabspath = foldername + os.path.sep + file\n",
    "            shutil.copy(fileabspath, desfold)\n",
    "            "
   ]
  },
  {
   "cell_type": "code",
   "execution_count": null,
   "id": "00f3ca0c",
   "metadata": {},
   "outputs": [],
   "source": []
  },
  {
   "cell_type": "code",
   "execution_count": null,
   "id": "a3b3748f",
   "metadata": {},
   "outputs": [],
   "source": []
  }
 ],
 "metadata": {
  "kernelspec": {
   "display_name": "Python 3 (ipykernel)",
   "language": "python",
   "name": "python3"
  },
  "language_info": {
   "codemirror_mode": {
    "name": "ipython",
    "version": 3
   },
   "file_extension": ".py",
   "mimetype": "text/x-python",
   "name": "python",
   "nbconvert_exporter": "python",
   "pygments_lexer": "ipython3",
   "version": "3.8.0"
  }
 },
 "nbformat": 4,
 "nbformat_minor": 5
}
