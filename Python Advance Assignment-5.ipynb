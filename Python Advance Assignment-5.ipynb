{
 "cells": [
  {
   "cell_type": "markdown",
   "id": "b26cda2c",
   "metadata": {},
   "source": [
    "# Python Advance Assignment"
   ]
  },
  {
   "cell_type": "markdown",
   "id": "d0ac3eb2",
   "metadata": {},
   "source": [
    "### Q-1 What is the meaning of multiple inheritance?"
   ]
  },
  {
   "cell_type": "code",
   "execution_count": null,
   "id": "7f3bf917",
   "metadata": {},
   "outputs": [],
   "source": [
    "# Ans:\n",
    "\"\"\"\n",
    "When a class derived from more than one base class it is multiple inheritance.\n",
    "The derived class inherits all the features of the base case.\n",
    "\"\"\""
   ]
  },
  {
   "cell_type": "markdown",
   "id": "fe09c691",
   "metadata": {},
   "source": [
    "### Q-2 What is the concept of delegation?"
   ]
  },
  {
   "cell_type": "code",
   "execution_count": null,
   "id": "349e01b4",
   "metadata": {},
   "outputs": [],
   "source": [
    "# Ans:\n",
    "\"\"\"\n",
    "The delegation pattern is an object-oriented design pattern that allows object composition to achieve\n",
    "the same code reuse as inheritance.\n",
    "\"\"\""
   ]
  },
  {
   "cell_type": "markdown",
   "id": "046e3a98",
   "metadata": {},
   "source": [
    "### Q-3 What is the concept of composition?"
   ]
  },
  {
   "cell_type": "code",
   "execution_count": null,
   "id": "50cff747",
   "metadata": {},
   "outputs": [],
   "source": [
    "# Ans:\n",
    "\"\"\"\n",
    "composition is an object oriented concept that models has a relationship.\n",
    "In composition, a class known as composite contains an object of another class\n",
    "known to as component. In other words, a composite class has a component of another class.\n",
    "\"\"\""
   ]
  },
  {
   "cell_type": "markdown",
   "id": "dcd3521b",
   "metadata": {},
   "source": [
    "### Q-4 What are bound methods and how do we use them?"
   ]
  },
  {
   "cell_type": "code",
   "execution_count": null,
   "id": "2aed5acb",
   "metadata": {},
   "outputs": [],
   "source": [
    "# Ans:\n",
    "\"\"\"\n",
    "A bound method is the one which is dependent on the instance of the class as the first argument.\n",
    "it passes the instance as the first argument which is used to access the variable and functions.\n",
    "now in python all the function in the class are by default bound methods.\n",
    "\"\"\""
   ]
  },
  {
   "cell_type": "markdown",
   "id": "d8be5a0e",
   "metadata": {},
   "source": [
    "### Q-5 What is the purpose of pseudoprivate attributes?"
   ]
  },
  {
   "cell_type": "code",
   "execution_count": null,
   "id": "3616616b",
   "metadata": {},
   "outputs": [],
   "source": [
    "# Ans:\n",
    "\"\"\"\n",
    "Pseudoprivate attributes are also useful in largeer frameworks or tools, both to avoid introducing\n",
    "new method names that might accidentally hide definitions elsewhere in the class tree. this feature\n",
    "is mostly intended to avoid namespace collisions in instances, not to restrict access to name in general.\n",
    "\"\"\""
   ]
  },
  {
   "cell_type": "code",
   "execution_count": null,
   "id": "7a821b09",
   "metadata": {},
   "outputs": [],
   "source": []
  },
  {
   "cell_type": "code",
   "execution_count": null,
   "id": "21c9b1b6",
   "metadata": {},
   "outputs": [],
   "source": []
  },
  {
   "cell_type": "code",
   "execution_count": null,
   "id": "174ff587",
   "metadata": {},
   "outputs": [],
   "source": []
  }
 ],
 "metadata": {
  "kernelspec": {
   "display_name": "Python 3 (ipykernel)",
   "language": "python",
   "name": "python3"
  },
  "language_info": {
   "codemirror_mode": {
    "name": "ipython",
    "version": 3
   },
   "file_extension": ".py",
   "mimetype": "text/x-python",
   "name": "python",
   "nbconvert_exporter": "python",
   "pygments_lexer": "ipython3",
   "version": "3.8.0"
  }
 },
 "nbformat": 4,
 "nbformat_minor": 5
}
