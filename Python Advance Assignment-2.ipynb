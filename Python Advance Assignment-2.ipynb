{
 "cells": [
  {
   "cell_type": "markdown",
   "id": "27515b36",
   "metadata": {},
   "source": [
    "# Python Advance Assignment"
   ]
  },
  {
   "cell_type": "markdown",
   "id": "9235d515",
   "metadata": {},
   "source": [
    "### Q-1 What is the relationship between classes and modules?"
   ]
  },
  {
   "cell_type": "code",
   "execution_count": null,
   "id": "94c5eebb",
   "metadata": {},
   "outputs": [],
   "source": [
    "# Ans:\n",
    "\"\"\"\n",
    "The difference between classes and modules is that class is used to define a blueprint for a given object.\n",
    "while, a module is used to reuse a given piece of code inside another program.\n",
    "\"\"\""
   ]
  },
  {
   "cell_type": "markdown",
   "id": "359a098e",
   "metadata": {},
   "source": [
    "### Q-2 How do you make instances and classes?"
   ]
  },
  {
   "cell_type": "code",
   "execution_count": null,
   "id": "1acf1b21",
   "metadata": {},
   "outputs": [],
   "source": [
    "# Ans:\n",
    "\"\"\"\n",
    "To create instances of a class, you call the class using class name and pass in whatever arguments its init method accepts.\n",
    "\"\"\""
   ]
  },
  {
   "cell_type": "markdown",
   "id": "4544236c",
   "metadata": {},
   "source": [
    "### Q-3 Where and how should be class attributes created?"
   ]
  },
  {
   "cell_type": "code",
   "execution_count": null,
   "id": "69732ae4",
   "metadata": {},
   "outputs": [],
   "source": [
    "# Ans:\n",
    "\"\"\"\n",
    "Inside a class, we should qualify all references to class attributes with the class name.\n",
    "All references to instance attributes should be qualified with the self variable.\n",
    "\"\"\""
   ]
  },
  {
   "cell_type": "markdown",
   "id": "940af364",
   "metadata": {},
   "source": [
    "### Q-4 Where and how are instance attributes created?"
   ]
  },
  {
   "cell_type": "code",
   "execution_count": null,
   "id": "b2a8054a",
   "metadata": {},
   "outputs": [],
   "source": [
    "# Ans:\n",
    "\"\"\"\n",
    "instance attributes are defined in the constructor. Defined directly a class.\n",
    "defined inside a constructor using the self parameter.\n",
    "\"\"\""
   ]
  },
  {
   "cell_type": "markdown",
   "id": "c2ea0c2e",
   "metadata": {},
   "source": [
    "### Q-5 What does the term \"self\" in a Python class mean?"
   ]
  },
  {
   "cell_type": "code",
   "execution_count": null,
   "id": "b22d0625",
   "metadata": {},
   "outputs": [],
   "source": [
    "# Ans:\n",
    "\"\"\"\n",
    "self bind the attributes with the given arguments. self allows access to the attributes and methods of each object.\n",
    "\"\"\""
   ]
  },
  {
   "cell_type": "markdown",
   "id": "1a833d24",
   "metadata": {},
   "source": [
    "### Q-6 How does a Python class handle operator overloading?"
   ]
  },
  {
   "cell_type": "code",
   "execution_count": null,
   "id": "3d32bc2d",
   "metadata": {},
   "outputs": [],
   "source": [
    "# Ans:\n",
    "\"\"\"\n",
    "In Python, when we use + operator, the magic method__add__ is automatically invoked in which the operation for + operator is \n",
    "define.\n",
    "\"\"\""
   ]
  },
  {
   "cell_type": "markdown",
   "id": "b1c1dcc2",
   "metadata": {},
   "source": [
    "### Q-7 When do you consider allowing operator overloading of your classes?"
   ]
  },
  {
   "cell_type": "code",
   "execution_count": null,
   "id": "04dd3efb",
   "metadata": {},
   "outputs": [],
   "source": [
    "# Ans:\n",
    "\"\"\"\n",
    "When we add two objects with binary '+' operator it gives error. because compiler don't know how to add two objects.\n",
    "So we define a method for an operator and that process is called operator overloading.\n",
    "\"\"\""
   ]
  },
  {
   "cell_type": "markdown",
   "id": "72934f0a",
   "metadata": {},
   "source": [
    "### Q-8 What is the most popular form of operator overloading?"
   ]
  },
  {
   "cell_type": "code",
   "execution_count": null,
   "id": "8a0a0865",
   "metadata": {},
   "outputs": [],
   "source": [
    "# Ans:\n",
    "\"\"\"\n",
    "Very common and eassy method is Addition(+) operator. It perform 'addition' on numbers whereas it performs\n",
    "'concatenation' on strings.\n",
    "\"\"\""
   ]
  },
  {
   "cell_type": "markdown",
   "id": "015a7f93",
   "metadata": {},
   "source": [
    "### Q-9 What are the two most important concepts to grasp in order to comprehend Python OOP code?"
   ]
  },
  {
   "cell_type": "code",
   "execution_count": null,
   "id": "7355f507",
   "metadata": {},
   "outputs": [],
   "source": [
    "# Ans:\n",
    "\"\"\"\n",
    "To develop robust and well-designed software products with python, it is essential to obtain a comprehensive\n",
    "understanding of OOP. the (Inheritance and polymorphism) are two most important concepts to grasp in order \n",
    "to comprehend in python OOP code.\n",
    "\"\"\""
   ]
  },
  {
   "cell_type": "code",
   "execution_count": null,
   "id": "ac56f588",
   "metadata": {},
   "outputs": [],
   "source": []
  },
  {
   "cell_type": "code",
   "execution_count": null,
   "id": "4efc1bbc",
   "metadata": {},
   "outputs": [],
   "source": []
  },
  {
   "cell_type": "code",
   "execution_count": null,
   "id": "fd26c546",
   "metadata": {},
   "outputs": [],
   "source": [
    "\"\"\"\n",
    "Note:- please share the feedback if any.\n",
    "\"\"\""
   ]
  }
 ],
 "metadata": {
  "kernelspec": {
   "display_name": "Python 3 (ipykernel)",
   "language": "python",
   "name": "python3"
  },
  "language_info": {
   "codemirror_mode": {
    "name": "ipython",
    "version": 3
   },
   "file_extension": ".py",
   "mimetype": "text/x-python",
   "name": "python",
   "nbconvert_exporter": "python",
   "pygments_lexer": "ipython3",
   "version": "3.8.0"
  }
 },
 "nbformat": 4,
 "nbformat_minor": 5
}
