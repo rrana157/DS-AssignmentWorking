{
 "cells": [
  {
   "cell_type": "markdown",
   "id": "5d28b6f0",
   "metadata": {},
   "source": [
    "# Python Programming Basic Assignment"
   ]
  },
  {
   "cell_type": "markdown",
   "id": "ec4f4c5c",
   "metadata": {},
   "source": [
    "### Q-1 Write a Python program to print \"Hello Python\"?"
   ]
  },
  {
   "cell_type": "code",
   "execution_count": 19,
   "id": "7c26a988",
   "metadata": {},
   "outputs": [
    {
     "name": "stdout",
     "output_type": "stream",
     "text": [
      "Hello Python\n"
     ]
    }
   ],
   "source": [
    "#Ans:\n",
    "\n",
    "wr = 'Hello Python'\n",
    "print(wr)\n"
   ]
  },
  {
   "cell_type": "markdown",
   "id": "90b72752",
   "metadata": {},
   "source": [
    "### Q-2 Write a Python Program to do arithmetical operations addition and division?"
   ]
  },
  {
   "cell_type": "code",
   "execution_count": 18,
   "id": "49f18df9",
   "metadata": {},
   "outputs": [
    {
     "name": "stdout",
     "output_type": "stream",
     "text": [
      "Addition of 10 and 19 is 29.\n",
      "Division of 10 and 19 is 0.53.\n"
     ]
    }
   ],
   "source": [
    "#Ans:\n",
    "\n",
    "a = 10 # First input\n",
    "b = 19 # second input\n",
    "\n",
    "c = a + b # Addition\n",
    "d = round(a / b,2) # division\n",
    "\n",
    "print(f'Addition of {a} and {b} is {c}.')\n",
    "print(f'Division of {a} and {b} is {d}.')\n"
   ]
  },
  {
   "cell_type": "markdown",
   "id": "3cbbb139",
   "metadata": {},
   "source": [
    "### Q-3 Write a Python program to find the area of triangle?"
   ]
  },
  {
   "cell_type": "code",
   "execution_count": 41,
   "id": "f5feb6b9",
   "metadata": {},
   "outputs": [
    {
     "name": "stdout",
     "output_type": "stream",
     "text": [
      "Enter first input:- 53\n",
      "Enter first Second:- 55\n",
      "Enter first Third:- 85\n",
      "The area of Triangle is 1415.41.\n"
     ]
    }
   ],
   "source": [
    "#Ans:\n",
    "\n",
    "f1 = float(input(\"Enter first input:- \")) # First length\n",
    "f2 = float(input(\"Enter first Second:- \")) # second length\n",
    "f3 = float(input(\"Enter first Third:- \")) # third length\n",
    "\n",
    "s = (f1 + f2 + f3) / 2\n",
    "\n",
    "area = (s * (s - f1) * (s - f2) * (s - f3)) ** 0.5 # calculation of area\n",
    "\n",
    "print(f'The area of Triangle is %0.2f.'%area)\n"
   ]
  },
  {
   "cell_type": "markdown",
   "id": "4f4adb3c",
   "metadata": {},
   "source": [
    "### Q-4 Write a Python program to swap two variables?"
   ]
  },
  {
   "cell_type": "code",
   "execution_count": 47,
   "id": "ce409540",
   "metadata": {},
   "outputs": [
    {
     "name": "stdout",
     "output_type": "stream",
     "text": [
      "X1 value before swaping 10.\n",
      "X2 value before swaping 15.\n",
      " \n",
      "X1 value after swaping 15.\n",
      "X2 value after swaping 10.\n"
     ]
    }
   ],
   "source": [
    "#Ans:\n",
    "x1 = 10 # x1 value\n",
    "\n",
    "x2 = 15 # x2 value\n",
    "\n",
    "print(f\"X1 value before swaping {x1}.\")\n",
    "print(f\"X2 value before swaping {x2}.\")\n",
    "print(\" \")\n",
    "# swaping the two variables\n",
    "temp = x1\n",
    "x1 = x2 \n",
    "x2 = temp\n",
    "\n",
    "\n",
    "print(f\"X1 value after swaping {x1}.\")\n",
    "print(f\"X2 value after swaping {x2}.\")\n",
    "\n"
   ]
  },
  {
   "cell_type": "markdown",
   "id": "32f238f1",
   "metadata": {},
   "source": [
    "### Q-5 Write a Python program to generate a random number?"
   ]
  },
  {
   "cell_type": "code",
   "execution_count": 5,
   "id": "fc73bb78",
   "metadata": {},
   "outputs": [
    {
     "name": "stdout",
     "output_type": "stream",
     "text": [
      "73\n"
     ]
    }
   ],
   "source": [
    "#Ans:\n",
    "\n",
    "import random\n",
    "\n",
    "num = [1,2,3,4,42,63,73,98,48,13,19] \n",
    "\n",
    "print(random.choice(num))\n"
   ]
  },
  {
   "cell_type": "code",
   "execution_count": null,
   "id": "0134ca5d",
   "metadata": {},
   "outputs": [],
   "source": []
  },
  {
   "cell_type": "code",
   "execution_count": null,
   "id": "4cb4ee60",
   "metadata": {},
   "outputs": [],
   "source": []
  }
 ],
 "metadata": {
  "kernelspec": {
   "display_name": "Python 3 (ipykernel)",
   "language": "python",
   "name": "python3"
  },
  "language_info": {
   "codemirror_mode": {
    "name": "ipython",
    "version": 3
   },
   "file_extension": ".py",
   "mimetype": "text/x-python",
   "name": "python",
   "nbconvert_exporter": "python",
   "pygments_lexer": "ipython3",
   "version": "3.8.0"
  }
 },
 "nbformat": 4,
 "nbformat_minor": 5
}
