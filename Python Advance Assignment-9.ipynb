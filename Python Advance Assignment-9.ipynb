{
 "cells": [
  {
   "cell_type": "markdown",
   "id": "4e170f15",
   "metadata": {},
   "source": [
    "# Python Advance Assignment"
   ]
  },
  {
   "cell_type": "markdown",
   "id": "a87ce766",
   "metadata": {},
   "source": [
    "### Q-1 In Python 3.X, what are the names and functions of string object types?"
   ]
  },
  {
   "cell_type": "code",
   "execution_count": null,
   "id": "6dc2b191",
   "metadata": {},
   "outputs": [],
   "source": [
    "# Ans:\n",
    "\"\"\"\n",
    "1. capitalize()\n",
    "2. lower()\n",
    "3. title()\n",
    "4. casefold()\n",
    "5. upper()\n",
    "6. count()\n",
    "7. find()\n",
    "8. replace()\n",
    "\"\"\""
   ]
  },
  {
   "cell_type": "markdown",
   "id": "73f59ff3",
   "metadata": {},
   "source": [
    "### Q-2 How do the string forms in Python 3.X vary in terms of operations?"
   ]
  },
  {
   "cell_type": "code",
   "execution_count": null,
   "id": "cc45a9a0",
   "metadata": {},
   "outputs": [],
   "source": [
    "# Ans:\n",
    "\"\"\"\n",
    "'+' Concatenates (joins) string1 and string2.\n",
    "'*' Repeats the string for as many times as specified by x.\n",
    "'[]' Slice — Returns the character from the index provided at x.\n",
    "'not in' Membership — Returns True if x does not exist in the string. Can be multiple characters.\n",
    "\"\"\""
   ]
  },
  {
   "cell_type": "markdown",
   "id": "d585e6ad",
   "metadata": {},
   "source": [
    "### Q-3 In 3.X, how do you put non-ASCII Unicode characters in a string?"
   ]
  },
  {
   "cell_type": "code",
   "execution_count": null,
   "id": "a245a6de",
   "metadata": {},
   "outputs": [],
   "source": [
    "# Ans:\n",
    "\"\"\"\n",
    "In order to use non-ASCII characters, Python requires explicit encoding and decoding of strings into Unicode. \n",
    "Python scripts are assumed to be encoded in UTF-8, which is a standard Unicode encoding that supports non-ASCII characters\n",
    "\"\"\""
   ]
  },
  {
   "cell_type": "markdown",
   "id": "58702d31",
   "metadata": {},
   "source": [
    "### Q-4 In Python 3.X, what are the key differences between text-mode and binary-mode files?"
   ]
  },
  {
   "cell_type": "code",
   "execution_count": null,
   "id": "4c73f3d2",
   "metadata": {},
   "outputs": [],
   "source": [
    "# Ans:\n",
    "\"\"\"\n",
    "A text file stores data in the form of alphabets, digits and other special symbols by storing their ASCII values\n",
    "and are in a human readable format. Whereas, a binary file contains a sequence or a collection of bytes which are not in\n",
    "a human readable format.\n",
    "\"\"\""
   ]
  },
  {
   "cell_type": "markdown",
   "id": "ba0528e5",
   "metadata": {},
   "source": [
    "### Q-5 How can you interpret a Unicode text file containing text encoded in a different encoding than your platform's default?"
   ]
  },
  {
   "cell_type": "code",
   "execution_count": null,
   "id": "b0d40f48",
   "metadata": {},
   "outputs": [],
   "source": [
    "# Ans:\n",
    "\"\"\"\n",
    "the files to be processed are nominally in a consistent encoding, you know the exact encoding in advance and\n",
    "it is acceptable to refuse to process files that are not properly encoded. This is becoming more and more common,\n",
    "especially with many text file formats beginning to standardise on UTF-8 as the preferred text encoding.\n",
    "We can pass the encoding parameter in 'open' function. The 'open' function only support the encoding argument in python 3.\n",
    "\"\"\""
   ]
  },
  {
   "cell_type": "markdown",
   "id": "b1666f16",
   "metadata": {},
   "source": [
    "### Q-6 What is the best way to make a Unicode text file in a particular encoding format?"
   ]
  },
  {
   "cell_type": "code",
   "execution_count": null,
   "id": "705b4d79",
   "metadata": {},
   "outputs": [],
   "source": [
    "# Ans:\n",
    "\"\"\"\n",
    "call str.encode(encoding) with encoding set to \"utf8\" to encode str. \n",
    "Call open(file, mode) to open a file with mode set to 'wb'.\n",
    "'wb' writes to files in binary mode and preserves UTF-8 format.\n",
    "Call file.write(data) to write data to the file.\n",
    "\"\"\""
   ]
  },
  {
   "cell_type": "markdown",
   "id": "ecf1ba68",
   "metadata": {},
   "source": [
    "### Q-7 What qualifies ASCII text as a form of Unicode text?"
   ]
  },
  {
   "cell_type": "code",
   "execution_count": null,
   "id": "26d2dabc",
   "metadata": {},
   "outputs": [],
   "source": [
    "# Ans:\n",
    "\"\"\"\n",
    "The first 128 Unicode code points represent the ASCII characters, which means that any ASCII text is also a UTF-8 text.\n",
    "UCS-2 uses two bytes (16 bits) for each character but can only encode the first 65,536 code points,\n",
    "the so-called Basic Multilingual Plane (BMP).\n",
    "\"\"\""
   ]
  },
  {
   "cell_type": "markdown",
   "id": "9d5602e5",
   "metadata": {},
   "source": [
    "### Q-8 How much of an effect does the change in string types in Python 3.X have on your code?"
   ]
  },
  {
   "cell_type": "code",
   "execution_count": null,
   "id": "cb1bef72",
   "metadata": {},
   "outputs": [],
   "source": [
    "# Ans:\n",
    "\"\"\"\n",
    "Python3 has several built-in functions associated with the string data type. These functions let us easily modify \n",
    "and manipulate strings. We can think of functions as being actions that we perform on elements of our code.\n",
    "Built-in functions are those that are defined in the Python programming language and are readily available for us to use.\n",
    "\"\"\""
   ]
  },
  {
   "cell_type": "code",
   "execution_count": null,
   "id": "f1df63d7",
   "metadata": {},
   "outputs": [],
   "source": []
  },
  {
   "cell_type": "code",
   "execution_count": null,
   "id": "1103e6f2",
   "metadata": {},
   "outputs": [],
   "source": []
  },
  {
   "cell_type": "code",
   "execution_count": null,
   "id": "f6423fb0",
   "metadata": {},
   "outputs": [],
   "source": []
  },
  {
   "cell_type": "code",
   "execution_count": null,
   "id": "29dab641",
   "metadata": {},
   "outputs": [],
   "source": []
  },
  {
   "cell_type": "code",
   "execution_count": null,
   "id": "432cf044",
   "metadata": {},
   "outputs": [],
   "source": []
  }
 ],
 "metadata": {
  "kernelspec": {
   "display_name": "Python 3 (ipykernel)",
   "language": "python",
   "name": "python3"
  },
  "language_info": {
   "codemirror_mode": {
    "name": "ipython",
    "version": 3
   },
   "file_extension": ".py",
   "mimetype": "text/x-python",
   "name": "python",
   "nbconvert_exporter": "python",
   "pygments_lexer": "ipython3",
   "version": "3.8.0"
  }
 },
 "nbformat": 4,
 "nbformat_minor": 5
}
