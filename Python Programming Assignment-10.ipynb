{
 "cells": [
  {
   "cell_type": "markdown",
   "id": "bc6abbce",
   "metadata": {},
   "source": [
    "# Python Programming Basic Assignment"
   ]
  },
  {
   "cell_type": "markdown",
   "id": "8a839db9",
   "metadata": {},
   "source": [
    "### Q-1 Write a Python program to find sum of elements in list?"
   ]
  },
  {
   "cell_type": "code",
   "execution_count": 1,
   "id": "4994d58d",
   "metadata": {},
   "outputs": [
    {
     "data": {
      "text/plain": [
       "15"
      ]
     },
     "execution_count": 1,
     "metadata": {},
     "output_type": "execute_result"
    }
   ],
   "source": [
    "# Ans:\n",
    "\n",
    "def Listaddition(n):\n",
    "    \"\"\"\n",
    "    This Function will return the addition of the given list.\n",
    "    \"\"\"\n",
    "    try:\n",
    "        add = 0\n",
    "        for i in ls:\n",
    "            add += i\n",
    "        return add\n",
    "    except Exception as e:\n",
    "        return e\n",
    "\n",
    "ls = [1,2,3,4,5]\n",
    "\n",
    "Listaddition(ls)\n"
   ]
  },
  {
   "cell_type": "markdown",
   "id": "e6fcb4a1",
   "metadata": {},
   "source": [
    "### Q-2 Write a Python program to Multiply all numbers in the list?"
   ]
  },
  {
   "cell_type": "code",
   "execution_count": 2,
   "id": "11d133a4",
   "metadata": {},
   "outputs": [
    {
     "data": {
      "text/plain": [
       "14515200"
      ]
     },
     "execution_count": 2,
     "metadata": {},
     "output_type": "execute_result"
    }
   ],
   "source": [
    "# Ans:\n",
    "\n",
    "def ListMultiply(n):\n",
    "    \"\"\"\n",
    "    This Function will return the multiplication of the given list.\n",
    "    \"\"\"\n",
    "    try:\n",
    "        mult = 1\n",
    "        for i in ls:\n",
    "            mult *= i\n",
    "        return mult\n",
    "    except Exception as e:\n",
    "        return e\n",
    "\n",
    "ls = [1,2,3,4,4,5,6,7,8,9,10]\n",
    "\n",
    "ListMultiply(ls)\n"
   ]
  },
  {
   "cell_type": "markdown",
   "id": "5efa7d84",
   "metadata": {},
   "source": [
    "### Q-3 Write a Python program to find smallest number in a list?"
   ]
  },
  {
   "cell_type": "code",
   "execution_count": 3,
   "id": "5084096e",
   "metadata": {},
   "outputs": [
    {
     "data": {
      "text/plain": [
       "11"
      ]
     },
     "execution_count": 3,
     "metadata": {},
     "output_type": "execute_result"
    }
   ],
   "source": [
    "# Ans:\n",
    "\n",
    "def FunSmallest(ls):\n",
    "    \"\"\"\n",
    "    This Function will return the smallest number from the given list.\n",
    "    \"\"\"\n",
    "    try:\n",
    "        add = ls[0]\n",
    "        for i in range(len(ls)):\n",
    "            if ls[i] < add:\n",
    "                add = ls[i]\n",
    "        return add\n",
    "    except Exception as e:\n",
    "        return e\n",
    "\n",
    "\n",
    "ls = [11,23,33]\n",
    "FunSmallest(ls)\n"
   ]
  },
  {
   "cell_type": "markdown",
   "id": "787ffc39",
   "metadata": {},
   "source": [
    "### Q-4 Write a Python program to find largest number in a list?"
   ]
  },
  {
   "cell_type": "code",
   "execution_count": 4,
   "id": "7dab91ae",
   "metadata": {},
   "outputs": [
    {
     "data": {
      "text/plain": [
       "33"
      ]
     },
     "execution_count": 4,
     "metadata": {},
     "output_type": "execute_result"
    }
   ],
   "source": [
    "# Ans:\n",
    "\n",
    "def FunLargest(ls):\n",
    "    \"\"\"\n",
    "    This Function will return the largest number from the given list.\n",
    "    \"\"\"\n",
    "    try:\n",
    "        add = ls[0]\n",
    "        for i in range(len(ls)):\n",
    "            if ls[i] > add:\n",
    "                add = ls[i]\n",
    "        return add\n",
    "    except Exception as e:\n",
    "        return e\n",
    "\n",
    "\n",
    "ls = [33,23,11]\n",
    "FunLargest(ls)\n"
   ]
  },
  {
   "cell_type": "markdown",
   "id": "bf80a6a2",
   "metadata": {},
   "source": [
    "### Q-5 Write a Python program to find second largest number in a list?"
   ]
  },
  {
   "cell_type": "code",
   "execution_count": 5,
   "id": "5b0ef051",
   "metadata": {},
   "outputs": [
    {
     "data": {
      "text/plain": [
       "23"
      ]
     },
     "execution_count": 5,
     "metadata": {},
     "output_type": "execute_result"
    }
   ],
   "source": [
    "# Ans:\n",
    "\n",
    "def FunSecLargest(ls):\n",
    "    \"\"\"\n",
    "    This Function will return the second largest number from the given list.\n",
    "    \"\"\"\n",
    "    try:\n",
    "        ls1 = []\n",
    "        for i in ls:\n",
    "            ls1.append(i)\n",
    "        ls1.sort()\n",
    "        return ls1[-2]\n",
    "    except Exception as e:\n",
    "        return e\n",
    "\n",
    "\n",
    "num = [11,33,23]\n",
    "FunSecLargest(num)"
   ]
  },
  {
   "cell_type": "markdown",
   "id": "02503333",
   "metadata": {},
   "source": [
    "### Q-6 Write a Python program to find N largest elements from a list?"
   ]
  },
  {
   "cell_type": "code",
   "execution_count": 6,
   "id": "e2ebc415",
   "metadata": {},
   "outputs": [
    {
     "data": {
      "text/plain": [
       "[6464, 879]"
      ]
     },
     "execution_count": 6,
     "metadata": {},
     "output_type": "execute_result"
    }
   ],
   "source": [
    "#Ans:\n",
    "\n",
    "def FunNLargEle(lsn,n):\n",
    "    \"\"\"\n",
    "    This Function will return the n largest elements from the given list.\n",
    "    \"\"\"\n",
    "    try:\n",
    "        out = []\n",
    "        for i in range(0,n):\n",
    "            mx = 0\n",
    "\n",
    "            for j in range(len(lsn)):\n",
    "                if lsn[j] > mx:\n",
    "                    mx = lsn[j]\n",
    "            lsn.remove(mx)\n",
    "            out.append(mx)\n",
    "        return out\n",
    "    except Exception as e:\n",
    "        return e\n",
    "    \n",
    "    \n",
    "    \n",
    "list1 = [5,6,757,454,363,879,464,53,6464]\n",
    "N = 2\n",
    "\n",
    "FunNLargEle(list1,N)\n",
    "        "
   ]
  },
  {
   "cell_type": "markdown",
   "id": "163e80a5",
   "metadata": {},
   "source": [
    "### Q-7 Write a Python program to print even numbers in a list?"
   ]
  },
  {
   "cell_type": "code",
   "execution_count": 7,
   "id": "675fc882",
   "metadata": {},
   "outputs": [
    {
     "data": {
      "text/plain": [
       "[4, 6, 78, 90, 24, 56]"
      ]
     },
     "execution_count": 7,
     "metadata": {},
     "output_type": "execute_result"
    }
   ],
   "source": [
    "# Ans:\n",
    "\n",
    "def CheckEven(ls):\n",
    "    \"\"\"\n",
    "    This Function will return the even numbers from the given list.\n",
    "    \"\"\"\n",
    "    try:\n",
    "        ls1 = []\n",
    "        for i in ls:\n",
    "            if (i%2) == 0:\n",
    "                ls1.append(i)\n",
    "        return ls1\n",
    "    except Exception as e:\n",
    "        return e\n",
    "\n",
    "\n",
    "num = [4,5,6,78,90,33,31,24,56]\n",
    "CheckEven(num)"
   ]
  },
  {
   "cell_type": "markdown",
   "id": "06b2199b",
   "metadata": {},
   "source": [
    "### Q-8 Write a Python program to print odd numbers in a List?"
   ]
  },
  {
   "cell_type": "code",
   "execution_count": 8,
   "id": "8606a9cd",
   "metadata": {},
   "outputs": [
    {
     "data": {
      "text/plain": [
       "[5, 33, 31]"
      ]
     },
     "execution_count": 8,
     "metadata": {},
     "output_type": "execute_result"
    }
   ],
   "source": [
    "# Ans:\n",
    "\n",
    "def CheckOdd(ls):\n",
    "    \"\"\"\n",
    "    This Function will return the odd numbers from the given list.\n",
    "    \"\"\"\n",
    "    try:\n",
    "        ls1 = []\n",
    "        for i in ls:\n",
    "            if (i%2) != 0:\n",
    "                ls1.append(i)\n",
    "        return ls1\n",
    "    except Exception as e:\n",
    "        return e\n",
    "\n",
    "\n",
    "num = [4,5,6,78,90,33,31,24,56]\n",
    "CheckOdd(num)"
   ]
  },
  {
   "cell_type": "markdown",
   "id": "9dca4be1",
   "metadata": {},
   "source": [
    "### Q-9 Write a Python program to Remove empty List from List?"
   ]
  },
  {
   "cell_type": "code",
   "execution_count": 9,
   "id": "5414f374",
   "metadata": {},
   "outputs": [
    {
     "name": "stdout",
     "output_type": "stream",
     "text": [
      "[54, 545, 9]\n",
      "[1, 4, 7]\n",
      "[8, 2, 5]\n"
     ]
    }
   ],
   "source": [
    "# Ans:\n",
    "\n",
    "def RemEmpLst(lsemp):\n",
    "    \"\"\"\n",
    "    This Function will remove the empty list from the given list.\n",
    "    \"\"\"\n",
    "    try:\n",
    "        for i in lsemp:\n",
    "            if i !=[]:\n",
    "                print(i)\n",
    "    except Exception as e:\n",
    "        return e\n",
    "           \n",
    "\n",
    "lsemp = [[], [54, 545,9], [], [1, 4, 7], [], [8, 2, 5] ]\n",
    "\n",
    "RemEmpLst(lsemp)\n"
   ]
  },
  {
   "cell_type": "markdown",
   "id": "cc8a68cb",
   "metadata": {},
   "source": [
    "### Q-10 Write a Python program to Cloning or Copying a list?"
   ]
  },
  {
   "cell_type": "code",
   "execution_count": 10,
   "id": "bd741515",
   "metadata": {},
   "outputs": [
    {
     "data": {
      "text/plain": [
       "[1, 2, 3, 4, 5, 6]"
      ]
     },
     "execution_count": 10,
     "metadata": {},
     "output_type": "execute_result"
    }
   ],
   "source": [
    "# Ans:\n",
    "\n",
    "def ListClon(lsc):\n",
    "    \"\"\"\n",
    "    This Function will clon or copy of the given list.\n",
    "    \"\"\"\n",
    "    try:\n",
    "        clon_list = lsc[:]\n",
    "        return clon_list\n",
    "    except Exception as e:\n",
    "        return e\n",
    "\n",
    "    \n",
    "mycln = [1,2,3,4,5,6]\n",
    "ListClon(mycln)"
   ]
  },
  {
   "cell_type": "markdown",
   "id": "927f29e0",
   "metadata": {},
   "source": [
    "### Q-11 Write a Python program to Count occurrences of an element in a list?"
   ]
  },
  {
   "cell_type": "code",
   "execution_count": 11,
   "id": "481a5fcb",
   "metadata": {},
   "outputs": [
    {
     "data": {
      "text/plain": [
       "4"
      ]
     },
     "execution_count": 11,
     "metadata": {},
     "output_type": "execute_result"
    }
   ],
   "source": [
    "# Ans:\n",
    "\n",
    "def ListOcc(ls,f):\n",
    "    \"\"\"\n",
    "    This Function will return the given elements occurrences in list.\n",
    "    \"\"\"\n",
    "    try:\n",
    "        cnt = 0\n",
    "        for i in ls:\n",
    "            if i == f:\n",
    "                cnt +=1\n",
    "        return cnt\n",
    "    except Exception as e:\n",
    "        return e\n",
    "\n",
    "\n",
    "my_list = [1,1,1,1,2,3,4,5]\n",
    "f = 1\n",
    "\n",
    "ListOcc(my_list, f)"
   ]
  },
  {
   "cell_type": "code",
   "execution_count": null,
   "id": "8c919e1b",
   "metadata": {},
   "outputs": [],
   "source": []
  },
  {
   "cell_type": "code",
   "execution_count": null,
   "id": "5bd21157",
   "metadata": {},
   "outputs": [],
   "source": []
  },
  {
   "cell_type": "code",
   "execution_count": null,
   "id": "55b85850",
   "metadata": {},
   "outputs": [],
   "source": []
  }
 ],
 "metadata": {
  "kernelspec": {
   "display_name": "Python 3 (ipykernel)",
   "language": "python",
   "name": "python3"
  },
  "language_info": {
   "codemirror_mode": {
    "name": "ipython",
    "version": 3
   },
   "file_extension": ".py",
   "mimetype": "text/x-python",
   "name": "python",
   "nbconvert_exporter": "python",
   "pygments_lexer": "ipython3",
   "version": "3.8.0"
  }
 },
 "nbformat": 4,
 "nbformat_minor": 5
}
