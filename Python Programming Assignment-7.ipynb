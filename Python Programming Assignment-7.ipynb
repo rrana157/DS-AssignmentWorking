{
 "cells": [
  {
   "cell_type": "markdown",
   "id": "9f7c63a9",
   "metadata": {},
   "source": [
    "# Python Programming Basic Assignment"
   ]
  },
  {
   "cell_type": "markdown",
   "id": "e62e1c26",
   "metadata": {},
   "source": [
    "### Q-1 Write a Python Program to find sum of array?"
   ]
  },
  {
   "cell_type": "code",
   "execution_count": 9,
   "id": "3472d69a",
   "metadata": {},
   "outputs": [
    {
     "data": {
      "text/plain": [
       "15"
      ]
     },
     "execution_count": 9,
     "metadata": {},
     "output_type": "execute_result"
    }
   ],
   "source": [
    "#Ans:\n",
    "\n",
    "def TotalArr(l):\n",
    "    \"\"\"\n",
    "    This Function will return the sum of given array input.\n",
    "    \"\"\"\n",
    "    try:\n",
    "        add = 0\n",
    "        for i in l:\n",
    "            add += i\n",
    "        return add\n",
    "    except Exception as e:\n",
    "        return e\n",
    "\n",
    "    \n",
    "l = [1,2,3,4,5]\n",
    "TotalArr(l)"
   ]
  },
  {
   "cell_type": "markdown",
   "id": "3045c3c4",
   "metadata": {},
   "source": [
    "### Q-2 Write a Python Program to find largest element in an array?"
   ]
  },
  {
   "cell_type": "code",
   "execution_count": 8,
   "id": "e0cf1bab",
   "metadata": {},
   "outputs": [
    {
     "data": {
      "text/plain": [
       "5"
      ]
     },
     "execution_count": 8,
     "metadata": {},
     "output_type": "execute_result"
    }
   ],
   "source": [
    "#Ans:\n",
    "\n",
    "def LargArr(la):\n",
    "    \"\"\"\n",
    "    This Function will return the largest elements in Array.\n",
    "    \"\"\"\n",
    "    try:\n",
    "        larg = la[0]\n",
    "        for i in range(1, len(la)):\n",
    "            if la[i] > larg:\n",
    "                larg = la[i]\n",
    "        return larg\n",
    "    except Exception as e:\n",
    "        return e\n",
    "    \n",
    "l1 = [1,2,3,4,5]\n",
    "LargArr(l1)"
   ]
  },
  {
   "cell_type": "markdown",
   "id": "fe8fddfb",
   "metadata": {},
   "source": [
    "### Q-3 Write a Python Program for array rotation?"
   ]
  },
  {
   "cell_type": "code",
   "execution_count": 5,
   "id": "f0c7f90d",
   "metadata": {},
   "outputs": [
    {
     "name": "stdout",
     "output_type": "stream",
     "text": [
      "Array Before Rotation:- [1, 2, 3, 4, 5]\n",
      "Array Rotation From Left:- [5, 1, 2, 3, 4]\n",
      "Array Before Rotation:- [5, 1, 2, 3, 4]\n",
      "Array Rotation From Right:- [1, 2, 3, 4, 5]\n"
     ]
    }
   ],
   "source": [
    "#Ans:\n",
    "def ArrRotat(a,pos):\n",
    "    \"\"\"\n",
    "    This Function will Split the arrary and add the first part to the end.\n",
    "    \"\"\"\n",
    "    try:\n",
    "        arr = a\n",
    "        print(f\"Array Before Rotation:- {arr}\")\n",
    "        k = 1%len(a)\n",
    "        \n",
    "        if 'left' in pos:\n",
    "            for i in range(k):\n",
    "                x=arr.pop(-1)\n",
    "                arr.insert(0,x)\n",
    "            print(f\"Array Rotation From Left:- {arr}\")\n",
    "            \n",
    "        elif 'right' in pos:\n",
    "            for i in range(k):\n",
    "                x=arr.pop(0)\n",
    "                arr.append(x)\n",
    "            print(f\"Array Rotation From Right:- {arr}\")\n",
    "\n",
    "    except Exception as e:\n",
    "        return e\n",
    "\n",
    "l2 = [1,2,3,4,5]\n",
    "ArrRotat(l2,'left')\n",
    "ArrRotat(l2,'right')"
   ]
  },
  {
   "cell_type": "markdown",
   "id": "daf3e1d5",
   "metadata": {},
   "source": [
    "### Q-4 Write a Python Program to Split the array and add the first part to the end?"
   ]
  },
  {
   "cell_type": "code",
   "execution_count": 10,
   "id": "f92ff0fb",
   "metadata": {},
   "outputs": [
    {
     "name": "stdout",
     "output_type": "stream",
     "text": [
      "Array Before Rotation:- [1, 2, 3, 4, 5]\n"
     ]
    },
    {
     "data": {
      "text/plain": [
       "'Array After Rotation:- [2, 3, 4, 5, 1]'"
      ]
     },
     "execution_count": 10,
     "metadata": {},
     "output_type": "execute_result"
    }
   ],
   "source": [
    "#Ans:\n",
    "\n",
    "def SplitArr(a):\n",
    "    \"\"\"\n",
    "    This Function will Split the arrary and add the first part to the end.\n",
    "    \"\"\"\n",
    "    try:\n",
    "        arr = a\n",
    "        print(f\"Array Before Rotation:- {arr}\")\n",
    "        k=1%len(a)\n",
    "        \n",
    "        for i in range(k):\n",
    "            x=arr.pop(0)\n",
    "            arr.append(x)\n",
    "        return f\"Array After Rotation:- {arr}\"\n",
    "\n",
    "    except Exception as e:\n",
    "        return e\n",
    "\n",
    "l2 = [1,2,3,4,5]\n",
    "SplitArr(l2)"
   ]
  },
  {
   "cell_type": "markdown",
   "id": "dae46036",
   "metadata": {},
   "source": [
    "### Q-5 Write a Python Program to check if given array is Monotonic?"
   ]
  },
  {
   "cell_type": "code",
   "execution_count": 7,
   "id": "fb51962d",
   "metadata": {},
   "outputs": [
    {
     "data": {
      "text/plain": [
       "True"
      ]
     },
     "execution_count": 7,
     "metadata": {},
     "output_type": "execute_result"
    }
   ],
   "source": [
    "#Ans:\n",
    "\n",
    "def CheckMonotonic(m):\n",
    "    \"\"\"\n",
    "    This Function will check the given input is Monotonic or not?  \n",
    "    \"\"\"\n",
    "    try:\n",
    "        if len(m) == 1:\n",
    "            return True\n",
    "        else:\n",
    "            if all(m[i] >= m[i+1] for i in range(0,len(m)-1) or m[i] <= m[i+1] for i in range(0,len(m)-1)):\n",
    "                return True\n",
    "            else:\n",
    "                return False\n",
    "    except Exception as e:\n",
    "        return e\n",
    "\n",
    "    \n",
    "l3 = [6,5,4,2]\n",
    "CheckMonotonic(l3)"
   ]
  },
  {
   "cell_type": "code",
   "execution_count": null,
   "id": "8a57c171",
   "metadata": {},
   "outputs": [],
   "source": []
  },
  {
   "cell_type": "code",
   "execution_count": null,
   "id": "0b246dd1",
   "metadata": {},
   "outputs": [],
   "source": []
  },
  {
   "cell_type": "code",
   "execution_count": null,
   "id": "c42e58be",
   "metadata": {},
   "outputs": [],
   "source": []
  },
  {
   "cell_type": "code",
   "execution_count": null,
   "id": "93f09dbe",
   "metadata": {},
   "outputs": [],
   "source": []
  },
  {
   "cell_type": "code",
   "execution_count": null,
   "id": "cb7c84a8",
   "metadata": {},
   "outputs": [],
   "source": []
  },
  {
   "cell_type": "code",
   "execution_count": null,
   "id": "6653d9c8",
   "metadata": {},
   "outputs": [],
   "source": []
  },
  {
   "cell_type": "code",
   "execution_count": null,
   "id": "3538c76f",
   "metadata": {},
   "outputs": [],
   "source": []
  }
 ],
 "metadata": {
  "kernelspec": {
   "display_name": "Python 3 (ipykernel)",
   "language": "python",
   "name": "python3"
  },
  "language_info": {
   "codemirror_mode": {
    "name": "ipython",
    "version": 3
   },
   "file_extension": ".py",
   "mimetype": "text/x-python",
   "name": "python",
   "nbconvert_exporter": "python",
   "pygments_lexer": "ipython3",
   "version": "3.8.0"
  }
 },
 "nbformat": 4,
 "nbformat_minor": 5
}
