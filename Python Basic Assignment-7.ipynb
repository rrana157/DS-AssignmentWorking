{
 "cells": [
  {
   "cell_type": "markdown",
   "id": "a4c18396",
   "metadata": {},
   "source": [
    "# Python Basic Assignment"
   ]
  },
  {
   "cell_type": "markdown",
   "id": "a16e2971",
   "metadata": {},
   "source": [
    "### Q-1 What is the name of the feature responsible for generating Regex objects?"
   ]
  },
  {
   "cell_type": "code",
   "execution_count": null,
   "id": "c26aab7a",
   "metadata": {},
   "outputs": [],
   "source": [
    "# Ans:\n",
    "\"\"\"\n",
    "A Regular Expression(RegEx) is special sequence of characters that uses a search pattern to find a string\n",
    "or set of strings.\n",
    "In python we can use 're' as Regular Expression(RegEx). \n",
    "\"\"\""
   ]
  },
  {
   "cell_type": "markdown",
   "id": "89c41e8a",
   "metadata": {},
   "source": [
    "### Q-2 Why do raw strings often appear in Regex objects?"
   ]
  },
  {
   "cell_type": "code",
   "execution_count": null,
   "id": "015c4c09",
   "metadata": {},
   "outputs": [],
   "source": [
    "# Ans:\n",
    "\"\"\"\n",
    "In python, string prefixed with r'...' or R'...' are called raw strings and treat backslashes '\\' as literal characters.\n",
    "Raw string is very useful when handling string which use lot of backslashes like windows path etc.\n",
    "\"\"\""
   ]
  },
  {
   "cell_type": "markdown",
   "id": "d38312d3",
   "metadata": {},
   "source": [
    "### Q-3 What is the return value of the search() method?"
   ]
  },
  {
   "cell_type": "code",
   "execution_count": null,
   "id": "b7393002",
   "metadata": {},
   "outputs": [],
   "source": [
    "# Ans:\n",
    "\"\"\"\n",
    "In Python, re.search() method take two parameters and return the match object if match is found.\n",
    "If no matches are found, then it will return None. Note:- if there is more than one match then it \n",
    "will return first occurence of the match.\n",
    "\"\"\""
   ]
  },
  {
   "cell_type": "markdown",
   "id": "73765464",
   "metadata": {},
   "source": [
    "### Q-4 From a Match item, how do you get the actual strings that match the pattern?"
   ]
  },
  {
   "cell_type": "code",
   "execution_count": 1,
   "id": "f39fbf00",
   "metadata": {},
   "outputs": [
    {
     "name": "stdout",
     "output_type": "stream",
     "text": [
      "Actual string: 123-678-2332\n"
     ]
    }
   ],
   "source": [
    "# Ans:\n",
    "\"\"\"\n",
    "\"\"\"\n",
    "import re\n",
    "\n",
    "NumReg = re.compile(r'\\d\\d\\d-\\d\\d\\d-\\d\\d\\d\\d')\n",
    "\n",
    "mo = NumReg.search('My number is 123-678-2332')\n",
    "print(f'Actual string: {mo.group()}')\n"
   ]
  },
  {
   "cell_type": "markdown",
   "id": "cf681a4c",
   "metadata": {},
   "source": [
    "### Q-5 In the regex which created from the r'(\\d\\d\\d)-(\\d\\d\\d-\\d\\d\\d\\d)', what does group zero cover? Group 2? Group 1?"
   ]
  },
  {
   "cell_type": "code",
   "execution_count": null,
   "id": "dce8576c",
   "metadata": {},
   "outputs": [],
   "source": [
    "# Ans:\n",
    "\"\"\"\n",
    "Group 0 will return the entire match of the string, Group 1 will return the first set of parentheses. and group 2 will\n",
    "return the second set of parentheses.\n",
    "\"\"\""
   ]
  },
  {
   "cell_type": "markdown",
   "id": "a7f10cd4",
   "metadata": {},
   "source": [
    "### Q-6 In standard expression syntax, parentheses and intervals have distinct meanings. How can you tell a regex that you want it to fit real parentheses and periods?"
   ]
  },
  {
   "cell_type": "code",
   "execution_count": null,
   "id": "f61d49b0",
   "metadata": {},
   "outputs": [],
   "source": [
    "# Ans:\n",
    "\"\"\"\n",
    "We can escaped periods and parentheses with a backslash \\,\\(, and \\).\n",
    "\"\"\""
   ]
  },
  {
   "cell_type": "markdown",
   "id": "af27d7e5",
   "metadata": {},
   "source": [
    "### Q-7 The findall() method returns a string list or a list of string tuples. What causes it to return one of the two options?"
   ]
  },
  {
   "cell_type": "code",
   "execution_count": null,
   "id": "e91d2153",
   "metadata": {},
   "outputs": [],
   "source": [
    "# Ans:\n",
    "\"\"\"\n",
    "If the pattern has more than one group then it will return list of string tuples. otherwise it will return string list.\n",
    "\"\"\""
   ]
  },
  {
   "cell_type": "markdown",
   "id": "5c72cfc6",
   "metadata": {},
   "source": [
    "### Q-8 In standard expressions, what does the | character mean?"
   ]
  },
  {
   "cell_type": "code",
   "execution_count": null,
   "id": "46f07345",
   "metadata": {},
   "outputs": [],
   "source": [
    "# Ans:\n",
    "\"\"\"\n",
    "This '|' character specify an OR condition in RegEx.\n",
    "\"\"\""
   ]
  },
  {
   "cell_type": "markdown",
   "id": "a4b57c49",
   "metadata": {},
   "source": [
    "### Q-9 In regular expressions, what does the character stand for?"
   ]
  },
  {
   "cell_type": "code",
   "execution_count": null,
   "id": "0c69a707",
   "metadata": {},
   "outputs": [],
   "source": [
    "# Ans:\n",
    "\"\"\"\n",
    "regular expression are particularly useful for defining filters. its contain a series of characters that\n",
    "define a pattern of text to be matched.\n",
    "\"\"\""
   ]
  },
  {
   "cell_type": "markdown",
   "id": "149f9128",
   "metadata": {},
   "source": [
    "### Q-10 In regular expressions, what is the difference between the + and * characters?"
   ]
  },
  {
   "cell_type": "code",
   "execution_count": null,
   "id": "40fdb1d5",
   "metadata": {},
   "outputs": [],
   "source": [
    "# Ans:\n",
    "\"\"\"\n",
    "In Regular expressions, star quantifier '*' means that expression can match zero or more times.\n",
    "And plus quantifier '+' means that expression must match at least one time or multiple times.\n",
    "\"\"\""
   ]
  },
  {
   "cell_type": "markdown",
   "id": "365ac37d",
   "metadata": {},
   "source": [
    "### Q-11 What is the difference between {4} and {4,5} in regular expression?"
   ]
  },
  {
   "cell_type": "code",
   "execution_count": null,
   "id": "33fd3971",
   "metadata": {},
   "outputs": [],
   "source": [
    "# Ans:\n",
    "\"\"\"\n",
    "In Regular Expression, {4} will repeat the 4 number of times and will match the string as per the given numbers in \n",
    "curly brackets. While {4,5} work as an specified range between minimum to maximum in between curly brackets.\n",
    "\"\"\""
   ]
  },
  {
   "cell_type": "markdown",
   "id": "928e37af",
   "metadata": {},
   "source": [
    "### Q-12 What do you mean by the \\d, \\w, and \\s shorthand character classes signify in regular expressions?"
   ]
  },
  {
   "cell_type": "code",
   "execution_count": null,
   "id": "fb2c1ca1",
   "metadata": {},
   "outputs": [],
   "source": [
    "# Ans:\n",
    "\"\"\"\n",
    "In regular expression, '\\d' stands for digit(matches any single digit between [0-9]),\n",
    "'\\w' stands for word(any single letter, number or underscore),\n",
    "'\\s' stands for a predefined charactors. it indicates a single whitespace charactor.\n",
    "\"\"\""
   ]
  },
  {
   "cell_type": "markdown",
   "id": "9344b00a",
   "metadata": {},
   "source": [
    "### Q-13 What do means by \\D, \\W, and \\S shorthand character classes signify in regular expressions?"
   ]
  },
  {
   "cell_type": "code",
   "execution_count": null,
   "id": "9c99768d",
   "metadata": {},
   "outputs": [],
   "source": [
    "# Ans:\n",
    "\"\"\"\n",
    "In regular expression, '\\D' non-digit matches any single charactor that is not a digit.\n",
    "'\\W' non-word charactor matches any single charactor which is not match by \\w.\n",
    "'\\S' matches any non-whitespace charactor.\n",
    "\"\"\""
   ]
  },
  {
   "cell_type": "markdown",
   "id": "106cc640",
   "metadata": {},
   "source": [
    "### Q-14 What is the difference between .* ? and . * ?"
   ]
  },
  {
   "cell_type": "code",
   "execution_count": null,
   "id": "e91b0004",
   "metadata": {},
   "outputs": [],
   "source": [
    "# Ans:\n",
    "\"\"\"\n",
    "In regular expression, '.*?' stands for non-greedy. and it will stop as soon as it can. \n",
    "while, '.*' stands for greedy. and it will match the whole pattern and goes as far as it can.\n",
    "\"\"\""
   ]
  },
  {
   "cell_type": "markdown",
   "id": "2a7152fc",
   "metadata": {},
   "source": [
    "### Q-15 What is the syntax for matching both numbers and lowercase letters with a character class?"
   ]
  },
  {
   "cell_type": "code",
   "execution_count": 2,
   "id": "83487f9b",
   "metadata": {},
   "outputs": [
    {
     "name": "stdout",
     "output_type": "stream",
     "text": [
      "s\n"
     ]
    }
   ],
   "source": [
    "# Ans:\n",
    "import re\n",
    "\n",
    "mychar = 'singh rana ravender'\n",
    "mymatch = re.compile(r'[ A-Za-z0-9]')\n",
    "mycharout = mymatch.search(mychar)\n",
    "print(mycharout.group(0))"
   ]
  },
  {
   "cell_type": "markdown",
   "id": "8c2934c3",
   "metadata": {},
   "source": [
    "### Q-16 What is the procedure for making a normal expression in regax case insensitive?"
   ]
  },
  {
   "cell_type": "code",
   "execution_count": 3,
   "id": "065f59ec",
   "metadata": {},
   "outputs": [
    {
     "name": "stdout",
     "output_type": "stream",
     "text": [
      "regular\n",
      "ReGulaR\n",
      "REGULAR\n"
     ]
    }
   ],
   "source": [
    "# Ans:\n",
    "\n",
    "import re\n",
    "\n",
    "text = re.compile(r'Regular',re.IGNORECASE)\n",
    "\n",
    "sentcase1 = 'A regular expression is a sequence of characters that define a search pattern.'\n",
    "sentcase2 = 'ReGulaR expression mainly for use in pattern matching with strings, or string matching.'\n",
    "sentcase3 = 'REGULAR expression mainly for use in pattern matching with strings, or string matching.'\n",
    "\n",
    "\n",
    "textout1 = text.search(sentcase1).group()\n",
    "print(textout1)\n",
    "\n",
    "textout2 = text.search(sentcase2).group()\n",
    "print(textout2)\n",
    "\n",
    "textout3 = text.search(sentcase3).group()\n",
    "print(textout3)\n"
   ]
  },
  {
   "cell_type": "markdown",
   "id": "9456d33e",
   "metadata": {},
   "source": [
    "### Q-17 What does the . character normally match? What does it match if re.DOTALL is passed as 2nd argument in re.compile()?"
   ]
  },
  {
   "cell_type": "code",
   "execution_count": 4,
   "id": "752f0581",
   "metadata": {},
   "outputs": [
    {
     "name": "stdout",
     "output_type": "stream",
     "text": [
      "Regular expressions are helpful.\n",
      " but not many non-programmers know about them even though most modern text editors and word processors.\n"
     ]
    }
   ],
   "source": [
    "# Ans:\n",
    "import re\n",
    "\n",
    "sent = 'Regular expressions are helpful.\\n but not many non-programmers know about them even though most modern text editors and word processors.'\n",
    "\n",
    "nlinereg = re.compile('.*',re.DOTALL)\n",
    "\n",
    "myregline = nlinereg.search(sent).group()\n",
    "print(myregline)"
   ]
  },
  {
   "cell_type": "markdown",
   "id": "caf97c74",
   "metadata": {},
   "source": [
    "### Q-18 If numReg = re.compile(r'\\d+'), what will numRegex.sub('X','11 drummers, 10 pipers, five rings, 4 hen') return?"
   ]
  },
  {
   "cell_type": "code",
   "execution_count": 5,
   "id": "a9e1037a",
   "metadata": {},
   "outputs": [
    {
     "name": "stdout",
     "output_type": "stream",
     "text": [
      "X drummers, X pipers, five rings, X hen\n"
     ]
    }
   ],
   "source": [
    "# Ans:\n",
    "\n",
    "import re\n",
    "\n",
    "NumReg = re.compile(r'\\d+')\n",
    "myoutput = NumReg.sub('X','11 drummers, 10 pipers, five rings, 4 hen')\n",
    "print(myoutput)"
   ]
  },
  {
   "cell_type": "markdown",
   "id": "4cc1659e",
   "metadata": {},
   "source": [
    "### Q-19 What does passing re.VERBOSE as the 2nd argument to re.compile() allow to do?"
   ]
  },
  {
   "cell_type": "code",
   "execution_count": 6,
   "id": "9495d9f5",
   "metadata": {},
   "outputs": [
    {
     "name": "stdout",
     "output_type": "stream",
     "text": [
      "expectopatronum\n",
      "gmail\n",
      "com\n"
     ]
    }
   ],
   "source": [
    "# Ans:\n",
    "\n",
    "import re\n",
    "\n",
    "mymail = 'expectopatronum@gmail.com'\n",
    "\n",
    "mytextnew = re.compile(r'^([a-z0-9_\\.-]+)@([0-9a-z\\.-]+)\\.([a-z\\.]{2,6})$',re.VERBOSE)\n",
    "mymailout = mytextnew.fullmatch(mymail)\n",
    "\n",
    "if mymailout:\n",
    "    print(mymailout.group(1))\n",
    "    print(mymailout.group(2))\n",
    "    print(mymailout.group(3))\n",
    "else:\n",
    "    print('Invalid input')\n"
   ]
  },
  {
   "cell_type": "markdown",
   "id": "57118a0d",
   "metadata": {},
   "source": [
    "### 20. How would you write a regex that match a number with comma for every three digits? It must match the given following:\n",
    "#### '42'\n",
    "#### '1,234'\n",
    "#### '6,368,745'\n",
    "\n",
    "### but not the following:\n",
    "#### '12,34,567' (which has only two digits between the commas)\n",
    "#### '1234' (which lacks commas)"
   ]
  },
  {
   "cell_type": "code",
   "execution_count": 7,
   "id": "62468bd4",
   "metadata": {},
   "outputs": [
    {
     "name": "stdout",
     "output_type": "stream",
     "text": [
      "42\n",
      "1,234\n",
      "6,368,745\n",
      "None\n",
      "None\n"
     ]
    }
   ],
   "source": [
    "# Ans:\n",
    "\n",
    "import re\n",
    "\n",
    "NReg = re.compile(r'\\d{1,3}(,\\d{3})*$')\n",
    "myoutput1 = NReg.match('42')\n",
    "print(myoutput1.group(0))\n",
    "myoutput2 = NReg.match('1,234')\n",
    "print(myoutput2.group(0))\n",
    "myoutput3 = NReg.match('6,368,745')\n",
    "print(myoutput3.group(0))\n",
    "myoutput4 = NReg.match('12,34,567')\n",
    "print(myoutput4)\n",
    "myoutput5 = NReg.match('1234')\n",
    "print(myoutput5)"
   ]
  },
  {
   "cell_type": "markdown",
   "id": "61da7638",
   "metadata": {},
   "source": [
    "### 21. How would you write a regex that matches the full name of someone whose last name is Watanabe? \n",
    "### You can assume that the first name that comes before it will always be one word that begins with a capital letter. \n",
    "### The regex must match the following:\n",
    "#### 'Haruto Watanabe'\n",
    "#### 'Alice Watanabe'\n",
    "#### 'RoboCop Watanabe'\n",
    "\n",
    "### but not the following:\n",
    "#### 'haruto Watanabe' (where the first name is not capitalized)\n",
    "#### 'Mr. Watanabe' (where the preceding word has a nonletter character)\n",
    "#### 'Watanabe' (which has no first name)\n",
    "#### 'Haruto watanabe' (where Watanabe is not capitalized)"
   ]
  },
  {
   "cell_type": "code",
   "execution_count": 8,
   "id": "4d42d360",
   "metadata": {},
   "outputs": [
    {
     "name": "stdout",
     "output_type": "stream",
     "text": [
      "Haruto Watanabe\n"
     ]
    }
   ],
   "source": [
    "# Ans:\n",
    "\n",
    "import re\n",
    "\n",
    "myinpu = 'Haruto Watanabe'\n",
    "mystr = re.compile(r'[A-Z](?:\\w)+\\sWatanabe')\n",
    "\n",
    "mystrout = mystr.search(myinpu)\n",
    "\n",
    "if mystrout:\n",
    "    print(mystrout.group(0))\n",
    "else:\n",
    "    print('Invalid input')"
   ]
  },
  {
   "cell_type": "markdown",
   "id": "9683e1e3",
   "metadata": {},
   "source": [
    "### 22. How would you write a regex that matches a sentence where the first word is either Alice, Bob, or Carol; \n",
    "### the second word is either eats, pets, or throws; the third word is apples, cats, or baseballs; and the sentence \n",
    "### ends with a period? This regex should be case-insensitive. It must match the following:\n",
    "#### 'Alice eats apples.'\n",
    "#### 'Bob pets cats.'\n",
    "#### 'Carol throws baseballs.'\n",
    "#### 'Alice throws Apples.'\n",
    "#### 'BOB EATS CATS.'\n",
    "\n",
    "### but not the following:\n",
    "#### 'RoboCop eats apples.'\n",
    "#### 'ALICE THROWS FOOTBALLS.'\n",
    "#### 'Carol eats 7 cats.'"
   ]
  },
  {
   "cell_type": "code",
   "execution_count": 9,
   "id": "af7966c2",
   "metadata": {},
   "outputs": [
    {
     "name": "stdout",
     "output_type": "stream",
     "text": [
      "BOB EATS CATS.\n"
     ]
    }
   ],
   "source": [
    "# Ans:\n",
    "import re\n",
    "\n",
    "mysent1 = 'BOB EATS CATS.'\n",
    "mystr1 = re.compile(r'''(Alice|Bob|Carol)\\s(eats|pets|throws)\\s(apples|cats|baseballs)\\.''',re.IGNORECASE|re.VERBOSE)\n",
    "mystrout1 = mystr1.search(mysent1)\n",
    "\n",
    "if mystrout1:\n",
    "    print(mystrout1.group(0))\n",
    "else:\n",
    "    print('Invalid output.')\n"
   ]
  },
  {
   "cell_type": "code",
   "execution_count": null,
   "id": "e274846b",
   "metadata": {},
   "outputs": [],
   "source": [
    "\"\"\"\n",
    "Note:- please share the feedback if required.\n",
    "\"\"\""
   ]
  },
  {
   "cell_type": "code",
   "execution_count": null,
   "id": "678adde0",
   "metadata": {},
   "outputs": [],
   "source": []
  },
  {
   "cell_type": "code",
   "execution_count": null,
   "id": "559c7042",
   "metadata": {},
   "outputs": [],
   "source": []
  }
 ],
 "metadata": {
  "kernelspec": {
   "display_name": "Python 3 (ipykernel)",
   "language": "python",
   "name": "python3"
  },
  "language_info": {
   "codemirror_mode": {
    "name": "ipython",
    "version": 3
   },
   "file_extension": ".py",
   "mimetype": "text/x-python",
   "name": "python",
   "nbconvert_exporter": "python",
   "pygments_lexer": "ipython3",
   "version": "3.8.0"
  }
 },
 "nbformat": 4,
 "nbformat_minor": 5
}
