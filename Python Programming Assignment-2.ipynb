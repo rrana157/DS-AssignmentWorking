{
 "cells": [
  {
   "cell_type": "markdown",
   "id": "08bc60b0",
   "metadata": {},
   "source": [
    "# Python Programming Basic Assignment"
   ]
  },
  {
   "cell_type": "markdown",
   "id": "4c21e0ba",
   "metadata": {},
   "source": [
    "### Q-1 Write a Python program to convert kilometers to miles?"
   ]
  },
  {
   "cell_type": "code",
   "execution_count": 1,
   "id": "b6f2ac83",
   "metadata": {},
   "outputs": [
    {
     "name": "stdout",
     "output_type": "stream",
     "text": [
      "Enter your input here:- 40\n"
     ]
    },
    {
     "data": {
      "text/plain": [
       "'40.00 KM is equal to 24.85 miles.'"
      ]
     },
     "execution_count": 1,
     "metadata": {},
     "output_type": "execute_result"
    }
   ],
   "source": [
    "#Ans:\n",
    "\n",
    "def FunKMtoM(inp):\n",
    "    \"\"\"\n",
    "    This function will convert given input from kilometers to miles.\n",
    "    \"\"\"\n",
    "    try:\n",
    "        inkm = float(inp)\n",
    "        conv_fac = 0.621371 # conversion factor\n",
    "\n",
    "        miles = inkm * conv_fac\n",
    "\n",
    "        return (\"%0.2f KM is equal to %0.2f miles.\" %(inkm, miles))\n",
    "\n",
    "    except Exception as e:\n",
    "        print(e)\n",
    "\n",
    "vkm = input(\"Enter your input here:- \")\n",
    "\n",
    "FunKMtoM(vkm)"
   ]
  },
  {
   "cell_type": "markdown",
   "id": "7e42544b",
   "metadata": {},
   "source": [
    "### Q-2 Write a Python program to convert Celsius to Fahrenheit?"
   ]
  },
  {
   "cell_type": "code",
   "execution_count": 2,
   "id": "2e5c5dfd",
   "metadata": {},
   "outputs": [
    {
     "name": "stdout",
     "output_type": "stream",
     "text": [
      "Enter your input here:- 40\n"
     ]
    },
    {
     "data": {
      "text/plain": [
       "'40.00 celsius is equivalent to 104.00 Fahrenheit.'"
      ]
     },
     "execution_count": 2,
     "metadata": {},
     "output_type": "execute_result"
    }
   ],
   "source": [
    "#Ans:\n",
    "\n",
    "#Ans:\n",
    "\n",
    "def FunCeltoFah(inc):\n",
    "    \"\"\"\n",
    "    This function will convert given input from celsius to Fahrenheit.\n",
    "    \"\"\"\n",
    "    try:\n",
    "        vfah = (float(inc) * 1.8) + 32\n",
    "\n",
    "        return (\"%0.2f celsius is equivalent to %0.2f Fahrenheit.\" %(float(inc), float(vfah)))\n",
    "    \n",
    "    except Exception as e:\n",
    "                print(e)\n",
    "\n",
    "inc = input(\"Enter your input here:- \")\n",
    "\n",
    "FunCeltoFah(inc)"
   ]
  },
  {
   "cell_type": "markdown",
   "id": "50d11ffe",
   "metadata": {},
   "source": [
    "### Q-3 Write a Python program to display the calendar?"
   ]
  },
  {
   "cell_type": "code",
   "execution_count": 26,
   "id": "3bf62b74",
   "metadata": {},
   "outputs": [
    {
     "name": "stdout",
     "output_type": "stream",
     "text": [
      "Your input year:- 1947\n",
      "                                  1947\n",
      "\n",
      "      January                   February                   March\n",
      "Mo Tu We Th Fr Sa Su      Mo Tu We Th Fr Sa Su      Mo Tu We Th Fr Sa Su\n",
      "       1  2  3  4  5                      1  2                      1  2\n",
      " 6  7  8  9 10 11 12       3  4  5  6  7  8  9       3  4  5  6  7  8  9\n",
      "13 14 15 16 17 18 19      10 11 12 13 14 15 16      10 11 12 13 14 15 16\n",
      "20 21 22 23 24 25 26      17 18 19 20 21 22 23      17 18 19 20 21 22 23\n",
      "27 28 29 30 31            24 25 26 27 28            24 25 26 27 28 29 30\n",
      "                                                    31\n",
      "\n",
      "       April                      May                       June\n",
      "Mo Tu We Th Fr Sa Su      Mo Tu We Th Fr Sa Su      Mo Tu We Th Fr Sa Su\n",
      "    1  2  3  4  5  6                1  2  3  4                         1\n",
      " 7  8  9 10 11 12 13       5  6  7  8  9 10 11       2  3  4  5  6  7  8\n",
      "14 15 16 17 18 19 20      12 13 14 15 16 17 18       9 10 11 12 13 14 15\n",
      "21 22 23 24 25 26 27      19 20 21 22 23 24 25      16 17 18 19 20 21 22\n",
      "28 29 30                  26 27 28 29 30 31         23 24 25 26 27 28 29\n",
      "                                                    30\n",
      "\n",
      "        July                     August                  September\n",
      "Mo Tu We Th Fr Sa Su      Mo Tu We Th Fr Sa Su      Mo Tu We Th Fr Sa Su\n",
      "    1  2  3  4  5  6                   1  2  3       1  2  3  4  5  6  7\n",
      " 7  8  9 10 11 12 13       4  5  6  7  8  9 10       8  9 10 11 12 13 14\n",
      "14 15 16 17 18 19 20      11 12 13 14 15 16 17      15 16 17 18 19 20 21\n",
      "21 22 23 24 25 26 27      18 19 20 21 22 23 24      22 23 24 25 26 27 28\n",
      "28 29 30 31               25 26 27 28 29 30 31      29 30\n",
      "\n",
      "      October                   November                  December\n",
      "Mo Tu We Th Fr Sa Su      Mo Tu We Th Fr Sa Su      Mo Tu We Th Fr Sa Su\n",
      "       1  2  3  4  5                      1  2       1  2  3  4  5  6  7\n",
      " 6  7  8  9 10 11 12       3  4  5  6  7  8  9       8  9 10 11 12 13 14\n",
      "13 14 15 16 17 18 19      10 11 12 13 14 15 16      15 16 17 18 19 20 21\n",
      "20 21 22 23 24 25 26      17 18 19 20 21 22 23      22 23 24 25 26 27 28\n",
      "27 28 29 30 31            24 25 26 27 28 29 30      29 30 31\n",
      "\n"
     ]
    }
   ],
   "source": [
    "#Ans:\n",
    "\n",
    "def DisCal(inpy):\n",
    "    \"\"\"\n",
    "    This function will return the calendar as per the given input.\n",
    "    \"\"\"\n",
    "    import calendar\n",
    "    if int(inpy) != 0 and int(inpy) >= 1900 and int(len(inpy)) == 4:\n",
    "        try:\n",
    "            print(calendar.calendar(int(inpy)))\n",
    "        except Exception as e:\n",
    "            return e\n",
    "    else:\n",
    "        return 'Invalid input'\n",
    "\n",
    "inpy = input(\"Your input year:- \")\n",
    "    \n",
    "DisCal(inpy)\n"
   ]
  },
  {
   "cell_type": "markdown",
   "id": "524d7dfb",
   "metadata": {},
   "source": [
    "### Q-4 Write a Python program to solve quadratic equation?"
   ]
  },
  {
   "cell_type": "code",
   "execution_count": 4,
   "id": "0207f191",
   "metadata": {},
   "outputs": [
    {
     "name": "stdout",
     "output_type": "stream",
     "text": [
      "Your First Input:- 23\n",
      "Your Second Input:- 300\n",
      "Your Third Input:- 400\n"
     ]
    },
    {
     "data": {
      "text/plain": [
       "'The Quadratic Equation are (-11.535896780291651+0j) and (-1.5075814805779149+0j)'"
      ]
     },
     "execution_count": 4,
     "metadata": {},
     "output_type": "execute_result"
    }
   ],
   "source": [
    "#Ans:\n",
    "\n",
    "def FunQuadEQ(ina,inb,inc):\n",
    "    \"\"\"\n",
    "    This function will return the quadratic equation of given inputs.\n",
    "    \"\"\"\n",
    "    import cmath\n",
    "    d = (b**2) - (4*a*c)\n",
    "\n",
    "    sol1 = ( -b - cmath.sqrt(d))/(2*a)\n",
    "    sol2 = ( -b + cmath.sqrt(d))/(2*a)\n",
    "    \n",
    "    return 'The Quadratic Equation are {0} and {1}'.format(sol1, sol2)\n",
    "    \n",
    "\n",
    "a = int(input(\"Your First Input:- \"))\n",
    "b = int(input(\"Your Second Input:- \"))\n",
    "c = int(input(\"Your Third Input:- \"))\n",
    "\n",
    "FunQuadEQ(a, b, c)\n"
   ]
  },
  {
   "cell_type": "markdown",
   "id": "f11ad77e",
   "metadata": {},
   "source": [
    "### Q-5 Write a Python program to swap two variables without temp variable?"
   ]
  },
  {
   "cell_type": "code",
   "execution_count": 5,
   "id": "ba870fff",
   "metadata": {},
   "outputs": [
    {
     "name": "stdout",
     "output_type": "stream",
     "text": [
      "x value before swaping 10.\n",
      "y value before swaping 15.\n",
      " \n",
      "x value after swaping 15.\n",
      "y value after swaping 10.\n"
     ]
    }
   ],
   "source": [
    "#Ans:\n",
    "\n",
    "x = 10 # x value\n",
    "y = 15 # y value\n",
    "\n",
    "print(f'x value before swaping {x}.')\n",
    "print(f'y value before swaping {y}.')\n",
    "print(' ')\n",
    "\n",
    "x, y = y, x # swaping the value of both the variable\n",
    "\n",
    "print(f'x value after swaping {x}.')\n",
    "print(f'y value after swaping {y}.')\n",
    "\n"
   ]
  },
  {
   "cell_type": "code",
   "execution_count": null,
   "id": "aeae46a1",
   "metadata": {},
   "outputs": [],
   "source": []
  },
  {
   "cell_type": "code",
   "execution_count": null,
   "id": "a7cb098c",
   "metadata": {},
   "outputs": [],
   "source": []
  },
  {
   "cell_type": "code",
   "execution_count": null,
   "id": "5399fee2",
   "metadata": {},
   "outputs": [],
   "source": []
  },
  {
   "cell_type": "code",
   "execution_count": null,
   "id": "5c9484ac",
   "metadata": {},
   "outputs": [],
   "source": []
  }
 ],
 "metadata": {
  "kernelspec": {
   "display_name": "Python 3 (ipykernel)",
   "language": "python",
   "name": "python3"
  },
  "language_info": {
   "codemirror_mode": {
    "name": "ipython",
    "version": 3
   },
   "file_extension": ".py",
   "mimetype": "text/x-python",
   "name": "python",
   "nbconvert_exporter": "python",
   "pygments_lexer": "ipython3",
   "version": "3.8.0"
  }
 },
 "nbformat": 4,
 "nbformat_minor": 5
}
