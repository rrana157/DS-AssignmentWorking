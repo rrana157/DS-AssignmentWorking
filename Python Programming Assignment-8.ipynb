{
 "cells": [
  {
   "cell_type": "markdown",
   "id": "755c16f4",
   "metadata": {},
   "source": [
    "# Python Programming Basic Assignment"
   ]
  },
  {
   "cell_type": "markdown",
   "id": "b091e131",
   "metadata": {},
   "source": [
    "### Q-1 Write a Python Program to Add Two Matrices?"
   ]
  },
  {
   "cell_type": "code",
   "execution_count": 79,
   "id": "dd86a215",
   "metadata": {},
   "outputs": [
    {
     "name": "stdout",
     "output_type": "stream",
     "text": [
      "[68, 120, 65]\n",
      "[148, 24, 111]\n",
      "[132, 77, 138]\n"
     ]
    }
   ],
   "source": [
    "#Ans:\n",
    "\n",
    "def AddMatrix(m1,m2):\n",
    "    \"\"\"\n",
    "    This Function will add two given matrices and give the final matrices.\n",
    "    \"\"\"\n",
    "    try:\n",
    "        res = [[0,0,0],[0,0,0],[0,0,0]]\n",
    "        for i in range(len(m1)):\n",
    "            for j in range(len(m1[0])):\n",
    "                res[i][j] = m1[i][j] + m2[i][j]\n",
    "                \n",
    "        for r in res:\n",
    "            print(r)\n",
    "    except Exception as e:\n",
    "        return e\n",
    "\n",
    "                \n",
    "X = [[45,29,33],[93,12,44],[98,34,125]]\n",
    " \n",
    "Y = [[23,91,32],[55,12,67],[34,43,13]]\n",
    "\n",
    "AddMatrix(X,Y)"
   ]
  },
  {
   "cell_type": "markdown",
   "id": "f75b8ca4",
   "metadata": {},
   "source": [
    "### Q-2 Write a Python Program to Multiply Two Matrices?"
   ]
  },
  {
   "cell_type": "code",
   "execution_count": 23,
   "id": "93a91d73",
   "metadata": {},
   "outputs": [
    {
     "name": "stdout",
     "output_type": "stream",
     "text": [
      "[30, 24, 18, 41]\n",
      "[84, 69, 54, 95]\n",
      "[138, 114, 90, 149]\n"
     ]
    }
   ],
   "source": [
    "#Ans:\n",
    "#Ans:\n",
    "\n",
    "def MultiMatrix(m1,m2):\n",
    "    \"\"\"\n",
    "    This Function will Multiply two given matrices and give the final matrices.\n",
    "    \"\"\"\n",
    "    try:\n",
    "        res = [[0,0,0,0],[0,0,0,0],[0,0,0,0]]\n",
    "        \n",
    "        for i in range(len(m1)):\n",
    "            \n",
    "            for j in range(len(m2[0])):\n",
    "                \n",
    "                for k in range(len(m2)):\n",
    "                    res[i][j] += m1[i][k] * m2[k][j]\n",
    "                \n",
    "        for r in res:\n",
    "            print(r)\n",
    "    except Exception as e:\n",
    "        return e\n",
    "\n",
    "                \n",
    "x = [[1,2,3],[4,5,6],[7,8,9]]\n",
    " \n",
    "y = [[9,8,7,4],[6,5,4,5],[3,2,1,9]]\n",
    "\n",
    "MultiMatrix(x,y)"
   ]
  },
  {
   "cell_type": "markdown",
   "id": "7f67aab6",
   "metadata": {},
   "source": [
    "### Q-3 Write a Python Program to Transpose a Matrix?"
   ]
  },
  {
   "cell_type": "code",
   "execution_count": 26,
   "id": "90a9b3b0",
   "metadata": {},
   "outputs": [
    {
     "name": "stdout",
     "output_type": "stream",
     "text": [
      "[1, 4, 7, 2]\n",
      "[2, 5, 8, 3]\n",
      "[3, 6, 9, 4]\n"
     ]
    }
   ],
   "source": [
    "#Ans:\n",
    "\n",
    "def TransMatrix(mat):\n",
    "    \"\"\"\n",
    "    This Function will Transpose the given Matrix.\n",
    "    \"\"\"\n",
    "    try:\n",
    "        res = [[0,0,0,0],[0,0,0,0],[0,0,0,0]]\n",
    "        \n",
    "        for i in range(len(mat)):\n",
    "            \n",
    "            for j in range(len(mat[0])):\n",
    "                res[j][i] = mat[i][j]\n",
    "        for r in res:\n",
    "            print(r)\n",
    "    except Exception as e:\n",
    "        return e\n",
    "    \n",
    "x = [[1,2,3],\n",
    "     [4,5,6],\n",
    "     [7,8,9],\n",
    "     [2,3,4]]\n",
    "\n",
    "TransMatrix(x)   "
   ]
  },
  {
   "cell_type": "markdown",
   "id": "8b9f1cf3",
   "metadata": {},
   "source": [
    "### Q-4. Write a Python Program to Sort Words in Alphabetic Order?"
   ]
  },
  {
   "cell_type": "code",
   "execution_count": 43,
   "id": "cca4dada",
   "metadata": {},
   "outputs": [
    {
     "data": {
      "text/plain": [
       "['are', 'dear', 'hello', 'how', 'you']"
      ]
     },
     "execution_count": 43,
     "metadata": {},
     "output_type": "execute_result"
    }
   ],
   "source": [
    "#Ans:\n",
    "\n",
    "def SortAlpha(alp):\n",
    "    \"\"\"\n",
    "    This Function will sort the given words in Aplhabetic Order.\n",
    "    \"\"\"\n",
    "    try:\n",
    "        a = []\n",
    "        for i in al.split():\n",
    "            ap1 = i.lower()\n",
    "            a.append(ap1)\n",
    "            a.sort()\n",
    "        return a\n",
    "\n",
    "    except Exception as e:\n",
    "        return e\n",
    "\n",
    "al = 'hello how are you dear'\n",
    "SortAlpha(al)"
   ]
  },
  {
   "cell_type": "markdown",
   "id": "e62cbc4a",
   "metadata": {},
   "source": [
    "### Q-5 Write a Python Program to Remove Punctuation From a String?"
   ]
  },
  {
   "cell_type": "code",
   "execution_count": 75,
   "id": "94a63dbb",
   "metadata": {},
   "outputs": [
    {
     "data": {
      "text/plain": [
       "'Hello how are you'"
      ]
     },
     "execution_count": 75,
     "metadata": {},
     "output_type": "execute_result"
    }
   ],
   "source": [
    "#Ans:\n",
    "\n",
    "def RemPun(strn):\n",
    "    \"\"\"\n",
    "    This Function will remove the Punctuation from a String\n",
    "    \"\"\"\n",
    "    punc = '''!()-[]{};:'\"\\,<>./?@#$%^&*_~+`|'''\n",
    "    try:\n",
    "        nopunc = ''\n",
    "        for char in strn:\n",
    "            if char not in punc:\n",
    "                nopunc = nopunc + char\n",
    "        return nopunc\n",
    "    except Exception as e:\n",
    "        return e\n",
    "        \n",
    "text = 'Hello! !@#$%^&*()_`~-+,./;:?\\|]}[{how: ----are you?'\n",
    "\n",
    "RemPun(text)        "
   ]
  },
  {
   "cell_type": "code",
   "execution_count": null,
   "id": "a7d17269",
   "metadata": {},
   "outputs": [],
   "source": []
  },
  {
   "cell_type": "code",
   "execution_count": null,
   "id": "29ef9885",
   "metadata": {},
   "outputs": [],
   "source": []
  },
  {
   "cell_type": "code",
   "execution_count": null,
   "id": "05954663",
   "metadata": {},
   "outputs": [],
   "source": []
  },
  {
   "cell_type": "code",
   "execution_count": null,
   "id": "9a1d1a92",
   "metadata": {},
   "outputs": [],
   "source": []
  },
  {
   "cell_type": "code",
   "execution_count": null,
   "id": "b00cf6d0",
   "metadata": {},
   "outputs": [],
   "source": []
  }
 ],
 "metadata": {
  "kernelspec": {
   "display_name": "Python 3 (ipykernel)",
   "language": "python",
   "name": "python3"
  },
  "language_info": {
   "codemirror_mode": {
    "name": "ipython",
    "version": 3
   },
   "file_extension": ".py",
   "mimetype": "text/x-python",
   "name": "python",
   "nbconvert_exporter": "python",
   "pygments_lexer": "ipython3",
   "version": "3.8.0"
  }
 },
 "nbformat": 4,
 "nbformat_minor": 5
}
