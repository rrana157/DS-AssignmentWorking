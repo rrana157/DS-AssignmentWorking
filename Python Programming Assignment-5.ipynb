{
 "cells": [
  {
   "cell_type": "markdown",
   "id": "2bf269b0",
   "metadata": {},
   "source": [
    "# Python Programming Basic Assignment"
   ]
  },
  {
   "cell_type": "markdown",
   "id": "d7cf620d",
   "metadata": {},
   "source": [
    "### Q-1 Write a Python Program to Find LCM?"
   ]
  },
  {
   "cell_type": "code",
   "execution_count": 11,
   "id": "b7ed7b95",
   "metadata": {},
   "outputs": [],
   "source": [
    "#Ans:\n",
    "def FunLCM(a,b):\n",
    "    \"\"\"\n",
    "    This Function will return the LCM of given inputs.\n",
    "    \"\"\"\n",
    "    import logging\n",
    "    logging.basicConfig(filename = 'LCMLogFile.log', level = logging.DEBUG, format = '%(asctime)s %(levelname)s %(message)s')\n",
    "    logging.info('this the start of code and i am getting two inputs %s and %s.', a, b)\n",
    "    try:\n",
    "        if int(a) > int(b) :\n",
    "            maximum = a\n",
    "        else:\n",
    "            maximum = b\n",
    "        while (True):\n",
    "            if ((maximum % a == 0) and (maximum % b == 0)):\n",
    "                result = maximum\n",
    "                break\n",
    "            maximum += 1\n",
    "        logging.info('Executed Successfully.')\n",
    "        return result\n",
    "    except Exception as e:\n",
    "        logging.error(\"Error has happend\")\n",
    "        logging.exception('Exception occured ' + str(e))\n"
   ]
  },
  {
   "cell_type": "code",
   "execution_count": 12,
   "id": "e16f409f",
   "metadata": {},
   "outputs": [
    {
     "data": {
      "text/plain": [
       "108"
      ]
     },
     "execution_count": 12,
     "metadata": {},
     "output_type": "execute_result"
    }
   ],
   "source": [
    "FunLCM(12,54)"
   ]
  },
  {
   "cell_type": "markdown",
   "id": "f09a861e",
   "metadata": {},
   "source": [
    "### Q-2 Write a Python Program to Find HCF?"
   ]
  },
  {
   "cell_type": "code",
   "execution_count": 13,
   "id": "bd8bcbe0",
   "metadata": {},
   "outputs": [],
   "source": [
    "#Ans:\n",
    "#Ans:\n",
    "def FunHCF(a,b):\n",
    "    \"\"\"\n",
    "    This Function will return the HCF of given inputs.\n",
    "    \"\"\"\n",
    "    import logging\n",
    "    logging.basicConfig(filename = 'HCFLogFile.log', level = logging.DEBUG, format = '%(asctime)s %(levelname)s %(message)s')\n",
    "    logging.info('this the start of code and i am getting two inputs %s and %s.', a, b)\n",
    "    try:\n",
    "        if int(a) > int(b) :\n",
    "            minimum = a\n",
    "        else:\n",
    "            minimum = b\n",
    "\n",
    "        for i in range(1, minimum + 1):\n",
    "            if ((a % i == 0) and (b % i == 0)):\n",
    "                result = i\n",
    "        logging.info('Executed Successfully.')\n",
    "        return result\n",
    "    except Exception as e:\n",
    "        logging.error(\"Error has happend\")\n",
    "        logging.exception('Exception occured ' + str(e))\n",
    "\n"
   ]
  },
  {
   "cell_type": "code",
   "execution_count": 14,
   "id": "8aca4c12",
   "metadata": {},
   "outputs": [
    {
     "data": {
      "text/plain": [
       "6"
      ]
     },
     "execution_count": 14,
     "metadata": {},
     "output_type": "execute_result"
    }
   ],
   "source": [
    "FunHCF(54,24)"
   ]
  },
  {
   "cell_type": "markdown",
   "id": "47215b66",
   "metadata": {},
   "source": [
    "### Q-3 Write a Python Program to convert Decimal to Binary, Octal and Hexadecimal?"
   ]
  },
  {
   "cell_type": "code",
   "execution_count": 15,
   "id": "b296ddc4",
   "metadata": {},
   "outputs": [],
   "source": [
    "#Ans:\n",
    "def FunConverter(a,b):\n",
    "    \"\"\"\n",
    "    This Function will Convert Decimal to Binary, Octal and Hexadecimal of the given inputs.\n",
    "    \"\"\"\n",
    "    import logging\n",
    "    logging.basicConfig(filename = 'ConverterFile.log', level = logging.DEBUG, format = '%(asctime)s %(levelname)s %(message)s')\n",
    "    logging.info('this the start of code and i am getting two inputs %s and %s.', a, b)\n",
    "    try:\n",
    "        if 'Binary' in b:\n",
    "            logging.info('Executed Successfully.')\n",
    "            return 'Given Decimal Number To Binary:- ', bin(int(a))\n",
    "        elif 'Octal' in b:\n",
    "            logging.info('Executed Successfully.')\n",
    "            return 'Given Decimal Number To Octal:- ', oct(int(a))\n",
    "        elif 'Hexadecimal' in b:\n",
    "            logging.info('Executed Successfully.')\n",
    "            return 'Given Decimal Number To Hexadecimal:- ', hex(int(a))\n",
    "        else:\n",
    "            None\n",
    "    except Exception as e:\n",
    "        logging.error(\"Error has happend\")\n",
    "        logging.exception('Exception occured ' + str(e))\n"
   ]
  },
  {
   "cell_type": "code",
   "execution_count": 16,
   "id": "62bd3307",
   "metadata": {},
   "outputs": [
    {
     "data": {
      "text/plain": [
       "('Given Decimal Number To Binary:- ', '0b101011000')"
      ]
     },
     "execution_count": 16,
     "metadata": {},
     "output_type": "execute_result"
    }
   ],
   "source": [
    "FunConverter(344,'Binary') #Binary"
   ]
  },
  {
   "cell_type": "code",
   "execution_count": 17,
   "id": "af95845d",
   "metadata": {},
   "outputs": [
    {
     "data": {
      "text/plain": [
       "('Given Decimal Number To Octal:- ', '0o530')"
      ]
     },
     "execution_count": 17,
     "metadata": {},
     "output_type": "execute_result"
    }
   ],
   "source": [
    "FunConverter(344,'Octal') #Octal"
   ]
  },
  {
   "cell_type": "code",
   "execution_count": 18,
   "id": "f2f6cce2",
   "metadata": {},
   "outputs": [
    {
     "data": {
      "text/plain": [
       "('Given Decimal Number To Hexadecimal:- ', '0x158')"
      ]
     },
     "execution_count": 18,
     "metadata": {},
     "output_type": "execute_result"
    }
   ],
   "source": [
    "FunConverter(344,'Hexadecimal') #Hexadecimal"
   ]
  },
  {
   "cell_type": "markdown",
   "id": "a4ace3af",
   "metadata": {},
   "source": [
    "### Q-4 Write a Python Program to Find ASCII value of a character?"
   ]
  },
  {
   "cell_type": "code",
   "execution_count": 19,
   "id": "1811c14c",
   "metadata": {},
   "outputs": [],
   "source": [
    "#Ans:\n",
    "def FunASCII(inp):\n",
    "    \"\"\"\n",
    "    This Function will return the ASCII value/character of the given inputs. \n",
    "    \"\"\"\n",
    "    import logging\n",
    "    logging.basicConfig(filename = 'FunASCIIFile.log', level = logging.DEBUG, format = '%(asctime)s %(levelname)s %(message)s')\n",
    "    logging.info('this the start of code and i am getting input %s.', a)\n",
    "    try:\n",
    "        if type(inp) != int:\n",
    "            logging.info('Executed Successfully.')\n",
    "            return ord(inp)\n",
    "        elif type(inp) != str():\n",
    "            logging.info('Executed Successfully.')\n",
    "            return chr(inp)\n",
    "    except Exception as e:\n",
    "        logging.error('Error has happend.')\n",
    "        logging.exception('Exception occured ' + str(e))"
   ]
  },
  {
   "cell_type": "code",
   "execution_count": 20,
   "id": "e60e12cd",
   "metadata": {},
   "outputs": [
    {
     "data": {
      "text/plain": [
       "'A'"
      ]
     },
     "execution_count": 20,
     "metadata": {},
     "output_type": "execute_result"
    }
   ],
   "source": [
    "a = 65\n",
    "FunASCII(a) #ASCII character"
   ]
  },
  {
   "cell_type": "code",
   "execution_count": 21,
   "id": "809b81a2",
   "metadata": {},
   "outputs": [
    {
     "data": {
      "text/plain": [
       "107"
      ]
     },
     "execution_count": 21,
     "metadata": {},
     "output_type": "execute_result"
    }
   ],
   "source": [
    "a = 'k'\n",
    "FunASCII(a) #ASCII value"
   ]
  },
  {
   "cell_type": "markdown",
   "id": "9debf5db",
   "metadata": {},
   "source": [
    "### Q-5 Write a Python Program to Make a Simple Calculator with 4 basic mathematical operations?"
   ]
  },
  {
   "cell_type": "code",
   "execution_count": 22,
   "id": "d1c2e59c",
   "metadata": {},
   "outputs": [],
   "source": [
    "#Ans:\n",
    "\n",
    "def FunCal(op,a,b):\n",
    "    \"\"\"\n",
    "    This Function will return the mathematical operations ('+','-','*','/') of the given inputs.\n",
    "    \"\"\"\n",
    "    import logging\n",
    "    logging.basicConfig(filename = 'FunCalFile.log', level = logging.DEBUG, format = '%(asctime)s %(levelname)s %(message)s')\n",
    "    logging.info('this the start of code and i am getting input %s and %s.', a,b)\n",
    "    try:\n",
    "        a, b = int(a), int(b)\n",
    "        if '+' in op:\n",
    "            total = a + b\n",
    "            logging.info('Executed Successfully.')\n",
    "            return total\n",
    "        elif '-' in op:\n",
    "            total = a - b\n",
    "            logging.info('Executed Successfully.')\n",
    "            return total\n",
    "        elif '*' in op:\n",
    "            total = a * b\n",
    "            logging.info('Executed Successfully.')\n",
    "            return total\n",
    "        elif '/' in op:\n",
    "            total = a / b\n",
    "            logging.info('Executed Successfully.')\n",
    "            return total\n",
    "    except Exception as e:\n",
    "        logging.error('Error has happend.')\n",
    "        logging.exception('Exception occured ' + str(e))\n",
    "\n"
   ]
  },
  {
   "cell_type": "code",
   "execution_count": 23,
   "id": "1ad0594e",
   "metadata": {},
   "outputs": [
    {
     "data": {
      "text/plain": [
       "1.1666666666666667"
      ]
     },
     "execution_count": 23,
     "metadata": {},
     "output_type": "execute_result"
    }
   ],
   "source": [
    "FunCal('/',7,6)"
   ]
  },
  {
   "cell_type": "code",
   "execution_count": null,
   "id": "6fc21129",
   "metadata": {},
   "outputs": [],
   "source": []
  },
  {
   "cell_type": "code",
   "execution_count": null,
   "id": "82b0284f",
   "metadata": {},
   "outputs": [],
   "source": []
  },
  {
   "cell_type": "code",
   "execution_count": null,
   "id": "cac30088",
   "metadata": {},
   "outputs": [],
   "source": []
  }
 ],
 "metadata": {
  "kernelspec": {
   "display_name": "Python 3 (ipykernel)",
   "language": "python",
   "name": "python3"
  },
  "language_info": {
   "codemirror_mode": {
    "name": "ipython",
    "version": 3
   },
   "file_extension": ".py",
   "mimetype": "text/x-python",
   "name": "python",
   "nbconvert_exporter": "python",
   "pygments_lexer": "ipython3",
   "version": "3.8.0"
  }
 },
 "nbformat": 4,
 "nbformat_minor": 5
}
