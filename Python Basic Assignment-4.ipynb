{
 "cells": [
  {
   "cell_type": "markdown",
   "id": "2ae398b2",
   "metadata": {},
   "source": [
    "# Python Basic Assignment"
   ]
  },
  {
   "cell_type": "markdown",
   "id": "cba51143",
   "metadata": {},
   "source": [
    "### Q-1 What exactly is [ ]?"
   ]
  },
  {
   "cell_type": "code",
   "execution_count": null,
   "id": "9af38c3e",
   "metadata": {},
   "outputs": [],
   "source": [
    "# Ans:\n",
    "\"\"\"\n",
    "we create a list by using square brackets []. and we call it empy list( a list without any item.) too.\n",
    "\"\"\""
   ]
  },
  {
   "cell_type": "markdown",
   "id": "37d4ac94",
   "metadata": {},
   "source": [
    "### Q-2 In a list of values stored in a variable called spam, how would you assign the value 'hello' as the third value? (Assume [2, 4, 6, 8, 10] are in spam.) Let's pretend the spam includes the list ['a','b','c','d']  for the next three queries."
   ]
  },
  {
   "cell_type": "code",
   "execution_count": 8,
   "id": "de8afba3",
   "metadata": {},
   "outputs": [
    {
     "name": "stdout",
     "output_type": "stream",
     "text": [
      "[2, 4, 'hello', 8, 10]\n"
     ]
    }
   ],
   "source": [
    "# Ans:\n",
    "spam = [2,4,6,8,10]\n",
    "spam[2] = 'hello'\n",
    "print(spam)"
   ]
  },
  {
   "cell_type": "markdown",
   "id": "12ccc6b5",
   "metadata": {},
   "source": [
    "### Q-3 What is the value of spam[int(int('3' * 2) / 11)]?"
   ]
  },
  {
   "cell_type": "code",
   "execution_count": 9,
   "id": "280f8d47",
   "metadata": {},
   "outputs": [
    {
     "name": "stdout",
     "output_type": "stream",
     "text": [
      "d\n"
     ]
    }
   ],
   "source": [
    "# Ans:\n",
    "spam = ['a','b','c','d']\n",
    "print(spam[int(int('3'*2)/11)])"
   ]
  },
  {
   "cell_type": "markdown",
   "id": "b5624332",
   "metadata": {},
   "source": [
    "### Q-4 What is the value of spam[-1]?"
   ]
  },
  {
   "cell_type": "code",
   "execution_count": 10,
   "id": "bd662d10",
   "metadata": {},
   "outputs": [
    {
     "data": {
      "text/plain": [
       "'d'"
      ]
     },
     "execution_count": 10,
     "metadata": {},
     "output_type": "execute_result"
    }
   ],
   "source": [
    "# Ans:\n",
    "spam[-1]"
   ]
  },
  {
   "cell_type": "markdown",
   "id": "26bcbb5c",
   "metadata": {},
   "source": [
    "### Q-5 What is the value of spam[:2]? Let's pretend bacon has the list [3.14,'cat',11,'cat',True] for the next three questions."
   ]
  },
  {
   "cell_type": "code",
   "execution_count": 11,
   "id": "6265d7f8",
   "metadata": {},
   "outputs": [
    {
     "data": {
      "text/plain": [
       "['a', 'b']"
      ]
     },
     "execution_count": 11,
     "metadata": {},
     "output_type": "execute_result"
    }
   ],
   "source": [
    "# Ans:\n",
    "spam[:2]\n"
   ]
  },
  {
   "cell_type": "markdown",
   "id": "3b933c00",
   "metadata": {},
   "source": [
    "### Q-6 What is the value of bacon.index('cat')?"
   ]
  },
  {
   "cell_type": "code",
   "execution_count": 5,
   "id": "dad11165",
   "metadata": {},
   "outputs": [
    {
     "name": "stdout",
     "output_type": "stream",
     "text": [
      "1\n"
     ]
    }
   ],
   "source": [
    "# Ans:\n",
    "bacon = [3.14,'cat',11,'cat',True]\n",
    "print(bacon.index('cat'))"
   ]
  },
  {
   "cell_type": "markdown",
   "id": "37ea27c1",
   "metadata": {},
   "source": [
    "### Q-7 How does bacon.append(99) change the look of the list value in bacon?"
   ]
  },
  {
   "cell_type": "code",
   "execution_count": 6,
   "id": "ba2ae95c",
   "metadata": {},
   "outputs": [
    {
     "name": "stdout",
     "output_type": "stream",
     "text": [
      "[3.14, 'cat', 11, 'cat', True]\n",
      "[3.14, 'cat', 11, 'cat', True, 99]\n"
     ]
    }
   ],
   "source": [
    "# Ans:\n",
    "# Ans:\n",
    "print(bacon) # before append\n",
    "bacon.append(99)\n",
    "print(bacon) # after append\n"
   ]
  },
  {
   "cell_type": "markdown",
   "id": "aceb996c",
   "metadata": {},
   "source": [
    "### Q-8 How does bacon.remove('cat') change the look of the list in bacon?"
   ]
  },
  {
   "cell_type": "code",
   "execution_count": 7,
   "id": "5661e9fc",
   "metadata": {},
   "outputs": [
    {
     "name": "stdout",
     "output_type": "stream",
     "text": [
      "[3.14, 'cat', 11, 'cat', True, 99]\n",
      "[3.14, 11, 'cat', True, 99]\n"
     ]
    }
   ],
   "source": [
    "# Ans:\n",
    "print(bacon) # before removal\n",
    "bacon.remove('cat')\n",
    "print(bacon) # after removal"
   ]
  },
  {
   "cell_type": "markdown",
   "id": "7ee7cb38",
   "metadata": {},
   "source": [
    "### Q-9 What are the list concatenation and list replication operators?"
   ]
  },
  {
   "cell_type": "code",
   "execution_count": null,
   "id": "baee8c29",
   "metadata": {},
   "outputs": [],
   "source": [
    "# Ans:\n",
    "\"\"\"\n",
    "Below are the list of operators in concatenation: -\n",
    "\n",
    "1. Native Method\n",
    "2. list comprehension\n",
    "3. extend()\n",
    "4. using itertools.chain()\n",
    "\n",
    "Below are the list of replication operators: -\n",
    "\n",
    "1. using '+' operator\n",
    "2. using '*' operator\n",
    "\n",
    "\"\"\""
   ]
  },
  {
   "cell_type": "markdown",
   "id": "c40cb9bb",
   "metadata": {},
   "source": [
    "### Q-10 What is difference between the list methods append() and insert()?"
   ]
  },
  {
   "cell_type": "code",
   "execution_count": null,
   "id": "2e8f18e7",
   "metadata": {},
   "outputs": [],
   "source": [
    "# Ans:\n",
    "\"\"\"\n",
    "The append method will insert the element at the end of the list. while inset method can insert the element at \n",
    "specific index in the list.\n",
    "\"\"\""
   ]
  },
  {
   "cell_type": "markdown",
   "id": "7573e902",
   "metadata": {},
   "source": [
    "### Q-11 What are the two methods for removing items from a list?"
   ]
  },
  {
   "cell_type": "code",
   "execution_count": null,
   "id": "78fdd160",
   "metadata": {},
   "outputs": [],
   "source": [
    "# Ans:\n",
    "\"\"\"\n",
    "Two methods for removing items from list is below:-\n",
    "\n",
    "1. list.remove() # remove the item by value\n",
    "2. by using pop() # remove the item by index\n",
    "\"\"\""
   ]
  },
  {
   "cell_type": "markdown",
   "id": "a4daf13a",
   "metadata": {},
   "source": [
    "### Q-12 Describe how list values and string values are identical."
   ]
  },
  {
   "cell_type": "code",
   "execution_count": null,
   "id": "e0da94e6",
   "metadata": {},
   "outputs": [],
   "source": [
    "# Ans:\n",
    "\"\"\"\n",
    "Below are some points which will describe that how list and string are identical:-\n",
    "\n",
    "1. both are sequences.\n",
    "2. list is mutable but string is immutable.\n",
    "3. list elements can be different types whereas a string only contains characters.\n",
    "\"\"\""
   ]
  },
  {
   "cell_type": "markdown",
   "id": "4efa14ed",
   "metadata": {},
   "source": [
    "### Q-13 What's the difference between tuples and lists?"
   ]
  },
  {
   "cell_type": "code",
   "execution_count": null,
   "id": "245a7a40",
   "metadata": {},
   "outputs": [],
   "source": [
    "# Ans:\n",
    "\"\"\"\n",
    "The difference between tuples and list is list is mutable. while tuples are immutable.\n",
    "\"\"\""
   ]
  },
  {
   "cell_type": "markdown",
   "id": "23c43613",
   "metadata": {},
   "source": [
    "### Q-14 How do you type a tuple value that only contains the integer 42?"
   ]
  },
  {
   "cell_type": "code",
   "execution_count": 14,
   "id": "8214aec9",
   "metadata": {},
   "outputs": [
    {
     "data": {
      "text/plain": [
       "(42,)"
      ]
     },
     "execution_count": 14,
     "metadata": {},
     "output_type": "execute_result"
    }
   ],
   "source": [
    "# Ans:\n",
    "tuple1 = (42,)\n",
    "tuple1"
   ]
  },
  {
   "cell_type": "markdown",
   "id": "66b75184",
   "metadata": {},
   "source": [
    "### Q-15 How do you get a list value's tuple form? How do you get a tuple value's list form?"
   ]
  },
  {
   "cell_type": "code",
   "execution_count": 22,
   "id": "7358ae0e",
   "metadata": {},
   "outputs": [
    {
     "name": "stdout",
     "output_type": "stream",
     "text": [
      "List values tuple form  (1, 2, 3, 4, 5)\n",
      "Tuple values list form  [1, 2, 3, 4, 5]\n"
     ]
    }
   ],
   "source": [
    "# Ans:\n",
    "a = [1,2,3,4,5]\n",
    "print('List value''s tuple form ',tuple(a))\n",
    "\n",
    "b = (1,2,3,4,5)\n",
    "print('Tuple value''s list form ',list(b))"
   ]
  },
  {
   "cell_type": "markdown",
   "id": "06e7d515",
   "metadata": {},
   "source": [
    "### Q-16 Variables that \"contain\" list values are not necessarily lists themselves. Instead, what do they contain?"
   ]
  },
  {
   "cell_type": "code",
   "execution_count": null,
   "id": "f43b0bc9",
   "metadata": {},
   "outputs": [],
   "source": [
    "# Ans:\n",
    "\"\"\"\n",
    "variables contain references to the list values rather than list values themselves. But for string and integer values,\n",
    "variables simply contain the string or integer value.\n",
    "\"\"\""
   ]
  },
  {
   "cell_type": "markdown",
   "id": "3fb7fc49",
   "metadata": {},
   "source": [
    "### Q-17 How do you distinguish between copy.copy() and copy.deepcopy()?"
   ]
  },
  {
   "cell_type": "code",
   "execution_count": null,
   "id": "91471c2a",
   "metadata": {},
   "outputs": [],
   "source": [
    "# Ans:\n",
    "\"\"\"\n",
    "A copy.copy() constructs a new compound object and then inserts references into it to the objects found in original.\n",
    "While a copy.deepcopy() constructs a new compound object and then, recursively, inserts copies into it of the objects found in \n",
    "the original.\n",
    "\"\"\""
   ]
  },
  {
   "cell_type": "code",
   "execution_count": null,
   "id": "faa51d33",
   "metadata": {},
   "outputs": [],
   "source": []
  },
  {
   "cell_type": "code",
   "execution_count": null,
   "id": "c9e50e8e",
   "metadata": {},
   "outputs": [],
   "source": []
  },
  {
   "cell_type": "code",
   "execution_count": null,
   "id": "3d9710ee",
   "metadata": {},
   "outputs": [],
   "source": []
  }
 ],
 "metadata": {
  "kernelspec": {
   "display_name": "Python 3 (ipykernel)",
   "language": "python",
   "name": "python3"
  },
  "language_info": {
   "codemirror_mode": {
    "name": "ipython",
    "version": 3
   },
   "file_extension": ".py",
   "mimetype": "text/x-python",
   "name": "python",
   "nbconvert_exporter": "python",
   "pygments_lexer": "ipython3",
   "version": "3.8.0"
  }
 },
 "nbformat": 4,
 "nbformat_minor": 5
}
