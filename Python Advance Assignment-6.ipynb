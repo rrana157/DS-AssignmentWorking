{
 "cells": [
  {
   "cell_type": "markdown",
   "id": "4859252f",
   "metadata": {},
   "source": [
    "# Python Advance Assignment"
   ]
  },
  {
   "cell_type": "markdown",
   "id": "ee20fa4e",
   "metadata": {},
   "source": [
    "### Q-1 Describe three applications for exception processing."
   ]
  },
  {
   "cell_type": "code",
   "execution_count": null,
   "id": "72fe9e42",
   "metadata": {},
   "outputs": [],
   "source": [
    "# Ans:\n",
    "\"\"\"\n",
    "Below are the three applications for exception processing: -\n",
    "1. ZeroDivisionError: It occurs when a number is divided by zero.\n",
    "2. NameError: It occurs when a name not found.\n",
    "3. IOError: It occurs when input output operations fails.\n",
    "\"\"\""
   ]
  },
  {
   "cell_type": "markdown",
   "id": "504b0594",
   "metadata": {},
   "source": [
    "### Q-2 What happens if you don't do something extra to treat an exception?"
   ]
  },
  {
   "cell_type": "code",
   "execution_count": null,
   "id": "dde1726c",
   "metadata": {},
   "outputs": [],
   "source": [
    "# Ans:\n",
    "\"\"\"\n",
    "When an exception occured, if we don't handle it, the program terminates abruptly and \n",
    "the code past the line that caused the exception will not get executed.\n",
    "\"\"\""
   ]
  },
  {
   "cell_type": "markdown",
   "id": "3f57defd",
   "metadata": {},
   "source": [
    "### Q-3 What are your options for recovering from an exception in your script?"
   ]
  },
  {
   "cell_type": "code",
   "execution_count": null,
   "id": "d684d7b5",
   "metadata": {},
   "outputs": [],
   "source": [
    "# Ans:\n",
    "\"\"\"\n",
    "1. A single try statement can have multiple except statements.\n",
    "2. You can also provide a generic except clause, which handles any exception.\n",
    "3. After the except clause, you can include an else-clause.\n",
    "4. The else-block is a good place for code that does not need the try block's protection.\n",
    "\"\"\""
   ]
  },
  {
   "cell_type": "markdown",
   "id": "81b65236",
   "metadata": {},
   "source": [
    "### Q-4 Describe two methods for triggering exceptions in your script."
   ]
  },
  {
   "cell_type": "code",
   "execution_count": null,
   "id": "7f4632c8",
   "metadata": {},
   "outputs": [],
   "source": [
    "# Ans:\n",
    "\"\"\"\n",
    "Try: This method catches the exceptions raised by program.\n",
    "Raise: Triggers and exception manually using custom exceptions.\n",
    "\"\"\""
   ]
  },
  {
   "cell_type": "markdown",
   "id": "ec1871da",
   "metadata": {},
   "source": [
    "### Q-5 Identify two methods for specifying actions to be executed at termination time, regardless of whether or not an exception exists."
   ]
  },
  {
   "cell_type": "code",
   "execution_count": null,
   "id": "04c1366b",
   "metadata": {},
   "outputs": [],
   "source": [
    "# Ans:\n",
    "\"\"\"\n",
    "The optional else clause contains codes to be executed if no exception occurs.\n",
    "The optional finally block contains codes to be executed irrespective of whether an exception occurs or not.\n",
    "\"\"\""
   ]
  },
  {
   "cell_type": "code",
   "execution_count": null,
   "id": "6ff6893c",
   "metadata": {},
   "outputs": [],
   "source": []
  },
  {
   "cell_type": "code",
   "execution_count": null,
   "id": "0a1ee199",
   "metadata": {},
   "outputs": [],
   "source": []
  },
  {
   "cell_type": "code",
   "execution_count": null,
   "id": "b22dada5",
   "metadata": {},
   "outputs": [],
   "source": []
  }
 ],
 "metadata": {
  "kernelspec": {
   "display_name": "Python 3 (ipykernel)",
   "language": "python",
   "name": "python3"
  },
  "language_info": {
   "codemirror_mode": {
    "name": "ipython",
    "version": 3
   },
   "file_extension": ".py",
   "mimetype": "text/x-python",
   "name": "python",
   "nbconvert_exporter": "python",
   "pygments_lexer": "ipython3",
   "version": "3.8.0"
  }
 },
 "nbformat": 4,
 "nbformat_minor": 5
}
