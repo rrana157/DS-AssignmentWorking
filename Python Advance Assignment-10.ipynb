{
 "cells": [
  {
   "cell_type": "markdown",
   "id": "c98791ca",
   "metadata": {},
   "source": [
    "# Python Advance Assignment"
   ]
  },
  {
   "cell_type": "markdown",
   "id": "2f454d53",
   "metadata": {},
   "source": [
    "### Q-1 What is the difference between __getattr__ and __getattribute__?"
   ]
  },
  {
   "cell_type": "code",
   "execution_count": null,
   "id": "1ab0f8ce",
   "metadata": {},
   "outputs": [],
   "source": [
    "# Ans:\n",
    "\"\"\"\n",
    "getattr: Is executed as the last resource when attribute is not found in an object.\n",
    "getattribute: Is used to retrieve an attribute from an instance. It captures every attempt to access an instance\n",
    "attribute by using dot notation.\n",
    "\"\"\""
   ]
  },
  {
   "cell_type": "markdown",
   "id": "79cd9289",
   "metadata": {},
   "source": [
    "### Q-2 What is the difference between properties and descriptors?"
   ]
  },
  {
   "cell_type": "code",
   "execution_count": null,
   "id": "91f42bd9",
   "metadata": {},
   "outputs": [],
   "source": [
    "# Ans:\n",
    "\"\"\"\n",
    "descriptors are a low-level mechanism that lets you hook into an object's attributes being accessed.\n",
    "Properties are a high-level application of this; that is, properties are implemented using descriptors.\n",
    "\"\"\""
   ]
  },
  {
   "cell_type": "markdown",
   "id": "eb6deb03",
   "metadata": {},
   "source": [
    "### Q-3 What are the key differences in functionality between __getattr__ and __getattribute__, as well as properties and descriptors?"
   ]
  },
  {
   "cell_type": "code",
   "execution_count": null,
   "id": "c281228f",
   "metadata": {},
   "outputs": [],
   "source": [
    "# Ans:\n",
    "\"\"\"\n",
    "getattr: Is executed as the last resource when attribute is not found in an object. You can choose to return a default value\n",
    "or to raise AttributeError\n",
    "\n",
    "getattribute: Is used to retrieve an attribute from an instance. It captures every attempt to access an instance attribute\n",
    "by using dot notation or getattr() built-in function.\n",
    "\n",
    "\n",
    "Properties: All Python objects have a unique identity . The built-in function id() returns the identity of an object as an \n",
    "integer. This integer usually corresponds to the object's location in memory, although this is specific to the Python \n",
    "implementation and the platform being used\n",
    "\n",
    "descriptors: Python descriptors are created to manage the attributes of different classes which use the object as reference.\n",
    "A descriptor is a mechanism behind properties, methods, static methods, class methods, and super()\n",
    "\"\"\""
   ]
  },
  {
   "cell_type": "code",
   "execution_count": null,
   "id": "3afde500",
   "metadata": {},
   "outputs": [],
   "source": []
  },
  {
   "cell_type": "code",
   "execution_count": null,
   "id": "8dd427e4",
   "metadata": {},
   "outputs": [],
   "source": []
  },
  {
   "cell_type": "code",
   "execution_count": null,
   "id": "a07019aa",
   "metadata": {},
   "outputs": [],
   "source": []
  }
 ],
 "metadata": {
  "kernelspec": {
   "display_name": "Python 3 (ipykernel)",
   "language": "python",
   "name": "python3"
  },
  "language_info": {
   "codemirror_mode": {
    "name": "ipython",
    "version": 3
   },
   "file_extension": ".py",
   "mimetype": "text/x-python",
   "name": "python",
   "nbconvert_exporter": "python",
   "pygments_lexer": "ipython3",
   "version": "3.8.0"
  }
 },
 "nbformat": 4,
 "nbformat_minor": 5
}
