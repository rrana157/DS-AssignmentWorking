{
 "cells": [
  {
   "cell_type": "markdown",
   "id": "0f3d1634",
   "metadata": {},
   "source": [
    "# Python Basic Assignment"
   ]
  },
  {
   "cell_type": "markdown",
   "id": "ac16aecc",
   "metadata": {},
   "source": [
    "### Q-1 What does an empty dictionary's code look like?"
   ]
  },
  {
   "cell_type": "code",
   "execution_count": null,
   "id": "9305f0c4",
   "metadata": {},
   "outputs": [],
   "source": [
    "# Ans:\n",
    "\"\"\"\n",
    "The empty dictionary code looks like blank curly braces {}.\n",
    "\"\"\""
   ]
  },
  {
   "cell_type": "markdown",
   "id": "f36f2729",
   "metadata": {},
   "source": [
    "### Q-2 What is the value of a dictionary value with the key 'foo' and the value 42?"
   ]
  },
  {
   "cell_type": "code",
   "execution_count": null,
   "id": "55f557bd",
   "metadata": {},
   "outputs": [],
   "source": [
    "# Ans:\n",
    "{'foo' : 42}"
   ]
  },
  {
   "cell_type": "markdown",
   "id": "ce03d42c",
   "metadata": {},
   "source": [
    "### Q-3 What is the most significant distinction between a dictionary and a list?"
   ]
  },
  {
   "cell_type": "code",
   "execution_count": null,
   "id": "4b4abc21",
   "metadata": {},
   "outputs": [],
   "source": [
    "# Ans:\n",
    "\"\"\"\n",
    "Most significant distinction between a dictionary and a list is dictionary value accessed via keys not their position.\n",
    "\"\"\""
   ]
  },
  {
   "cell_type": "markdown",
   "id": "f9a4dab2",
   "metadata": {},
   "source": [
    "### Q-4 What happens if you try to access spam['foo'] if spam is {'bar': 100}?"
   ]
  },
  {
   "cell_type": "code",
   "execution_count": 4,
   "id": "273e4867",
   "metadata": {},
   "outputs": [
    {
     "ename": "KeyError",
     "evalue": "'foo'",
     "output_type": "error",
     "traceback": [
      "\u001b[1;31m---------------------------------------------------------------------------\u001b[0m",
      "\u001b[1;31mKeyError\u001b[0m                                  Traceback (most recent call last)",
      "\u001b[1;32m~\\AppData\\Local\\Temp/ipykernel_7852/341182418.py\u001b[0m in \u001b[0;36m<module>\u001b[1;34m\u001b[0m\n\u001b[0;32m      5\u001b[0m \u001b[0mspam\u001b[0m \u001b[1;33m=\u001b[0m \u001b[1;33m{\u001b[0m\u001b[1;34m'bar'\u001b[0m \u001b[1;33m:\u001b[0m \u001b[1;36m100\u001b[0m\u001b[1;33m}\u001b[0m\u001b[1;33m\u001b[0m\u001b[1;33m\u001b[0m\u001b[0m\n\u001b[0;32m      6\u001b[0m \u001b[1;33m\u001b[0m\u001b[0m\n\u001b[1;32m----> 7\u001b[1;33m \u001b[0mspam\u001b[0m\u001b[1;33m[\u001b[0m\u001b[1;34m'foo'\u001b[0m\u001b[1;33m]\u001b[0m\u001b[1;33m\u001b[0m\u001b[1;33m\u001b[0m\u001b[0m\n\u001b[0m",
      "\u001b[1;31mKeyError\u001b[0m: 'foo'"
     ]
    }
   ],
   "source": [
    "# Ans:\n",
    "\"\"\"\n",
    "We will get a keyerror when we try to access the 'foo' key.\n",
    "\"\"\"\n",
    "spam = {'bar' : 100}\n",
    "\n",
    "spam['foo']\n"
   ]
  },
  {
   "cell_type": "markdown",
   "id": "0306b1a8",
   "metadata": {},
   "source": [
    "### Q-5 If a dictionary is stored in spam, what is the difference between the expressions 'cat' in spam and 'cat' in spam.keys()?"
   ]
  },
  {
   "cell_type": "code",
   "execution_count": null,
   "id": "3f626dd2",
   "metadata": {},
   "outputs": [],
   "source": [
    "# Ans:\n",
    "\"\"\"\n",
    "in both the case it will check weather the value(as a key) exists or not.\n",
    "\"\"\""
   ]
  },
  {
   "cell_type": "markdown",
   "id": "24866749",
   "metadata": {},
   "source": [
    "### Q-6 If a dictionary is stored in spam, what is the difference between the expressions 'cat' in spam and cat in spam.values()?"
   ]
  },
  {
   "cell_type": "code",
   "execution_count": null,
   "id": "ff86f6d1",
   "metadata": {},
   "outputs": [],
   "source": [
    "# Ans:\n",
    "\"\"\"\n",
    "'cat' in spam will check weather there is a 'cat' key in dictionary, while 'cat' in spam.values() check wheather\n",
    "there is a value 'cat' for one of the keys in spam.\n",
    "\"\"\""
   ]
  },
  {
   "cell_type": "markdown",
   "id": "2fb4497e",
   "metadata": {},
   "source": [
    "### Q-7 What is a shortcut for the following code?\n",
    "#### if color not in spam:\n",
    "#### spam['color'] = 'black';"
   ]
  },
  {
   "cell_type": "code",
   "execution_count": null,
   "id": "fe73a648",
   "metadata": {},
   "outputs": [],
   "source": [
    "# Ans:\n",
    "\"\"\"\n",
    "setdefault check the key does exists or not. if exists then it will return the key's value.\n",
    "\"\"\"\n",
    "spam.setdefault('color','black')"
   ]
  },
  {
   "cell_type": "markdown",
   "id": "4db79c56",
   "metadata": {},
   "source": [
    "### Q-8 How do you 'pretty print' dictionary values using which module and function?"
   ]
  },
  {
   "cell_type": "code",
   "execution_count": null,
   "id": "2ee931ec",
   "metadata": {},
   "outputs": [],
   "source": [
    "# Ans:\n",
    "\"\"\"\n",
    "pprint() module that provide the capability to pretty print python data types to be more readable.\n",
    "\"\"\""
   ]
  },
  {
   "cell_type": "code",
   "execution_count": null,
   "id": "52a77768",
   "metadata": {},
   "outputs": [],
   "source": []
  },
  {
   "cell_type": "code",
   "execution_count": null,
   "id": "8a72ae21",
   "metadata": {},
   "outputs": [],
   "source": []
  }
 ],
 "metadata": {
  "kernelspec": {
   "display_name": "Python 3 (ipykernel)",
   "language": "python",
   "name": "python3"
  },
  "language_info": {
   "codemirror_mode": {
    "name": "ipython",
    "version": 3
   },
   "file_extension": ".py",
   "mimetype": "text/x-python",
   "name": "python",
   "nbconvert_exporter": "python",
   "pygments_lexer": "ipython3",
   "version": "3.8.0"
  }
 },
 "nbformat": 4,
 "nbformat_minor": 5
}
