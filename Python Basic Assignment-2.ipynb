{
 "cells": [
  {
   "cell_type": "markdown",
   "id": "4d495e3f",
   "metadata": {},
   "source": [
    "# Python Basic Assignment"
   ]
  },
  {
   "cell_type": "markdown",
   "id": "61bebd9c",
   "metadata": {},
   "source": [
    "### Q-1 What are the two values of the Boolean data type? How do you write them?"
   ]
  },
  {
   "cell_type": "code",
   "execution_count": null,
   "id": "330de1f4",
   "metadata": {},
   "outputs": [],
   "source": [
    "# Ans:\n",
    "\"\"\"\n",
    "As we know, a variable of the type boolean can take on only two values: True and False. \n",
    "This dosen't give very many possibilities compared to the type int.\n",
    "\"\"\""
   ]
  },
  {
   "cell_type": "markdown",
   "id": "53ec4572",
   "metadata": {},
   "source": [
    "### Q-2 What are the three different types of Boolean operators?"
   ]
  },
  {
   "cell_type": "code",
   "execution_count": 3,
   "id": "7f9e22ee",
   "metadata": {},
   "outputs": [],
   "source": [
    "# Ans:\n",
    "\"\"\"\n",
    "Boolean is a set of commands that can be used in almost every search engine, db or online. \n",
    "The Most popular Boolean commands are AND, OR, NOT.\n",
    "\"\"\""
   ]
  },
  {
   "cell_type": "markdown",
   "id": "b773bddf",
   "metadata": {},
   "source": [
    "### Q-3 Make a list of each Boolean operator's truth tables (i.e. every possible combination of Boolean values for the operator and what it evaluate )."
   ]
  },
  {
   "cell_type": "code",
   "execution_count": 4,
   "id": "558922f6",
   "metadata": {},
   "outputs": [],
   "source": [
    "# Ans\n",
    "\"\"\"\n",
    "List of each Boolean operator's truth tables with every possible combinations of boolean values.\n",
    "\n",
    "1. True and Ture is True.\n",
    "2. True and False is False.\n",
    "3. True or True is True.\n",
    "4. True or False is True.\n",
    "5. not True is False.\n",
    "6. False and Ture is False.\n",
    "7. False and False is True.\n",
    "8. False or True is True.\n",
    "9. False or False is False.\n",
    "10. not False is True.\n",
    "\"\"\""
   ]
  },
  {
   "cell_type": "markdown",
   "id": "af234937",
   "metadata": {},
   "source": [
    "### Q-4 What are the values of the following expressions?\n",
    "##### (5 &gt; 4) and (3 == 5)\n",
    "#### not (5 &gt; 4)\n",
    "#### (5 &gt; 4) or (3 == 5)\n",
    "#### not ((5 &gt; 4) or (3 == 5))\n",
    "#### (True and True) and (True == False)\n",
    "#### (not False) or (not True)"
   ]
  },
  {
   "cell_type": "code",
   "execution_count": 13,
   "id": "26f2309a",
   "metadata": {},
   "outputs": [
    {
     "data": {
      "text/plain": [
       "False"
      ]
     },
     "execution_count": 13,
     "metadata": {},
     "output_type": "execute_result"
    }
   ],
   "source": [
    "# Ans\n",
    "\n",
    "(5>4) and (3 == 5)"
   ]
  },
  {
   "cell_type": "code",
   "execution_count": 14,
   "id": "1e695574",
   "metadata": {},
   "outputs": [
    {
     "data": {
      "text/plain": [
       "False"
      ]
     },
     "execution_count": 14,
     "metadata": {},
     "output_type": "execute_result"
    }
   ],
   "source": [
    "not (5 > 4)"
   ]
  },
  {
   "cell_type": "code",
   "execution_count": 15,
   "id": "c965c0e9",
   "metadata": {},
   "outputs": [
    {
     "data": {
      "text/plain": [
       "True"
      ]
     },
     "execution_count": 15,
     "metadata": {},
     "output_type": "execute_result"
    }
   ],
   "source": [
    "(5 > 4) or (3 == 5)"
   ]
  },
  {
   "cell_type": "code",
   "execution_count": 16,
   "id": "5ae44d27",
   "metadata": {},
   "outputs": [
    {
     "data": {
      "text/plain": [
       "False"
      ]
     },
     "execution_count": 16,
     "metadata": {},
     "output_type": "execute_result"
    }
   ],
   "source": [
    "not ((5 > 4) or (3 == 5))"
   ]
  },
  {
   "cell_type": "code",
   "execution_count": 17,
   "id": "66fcba3c",
   "metadata": {},
   "outputs": [
    {
     "data": {
      "text/plain": [
       "False"
      ]
     },
     "execution_count": 17,
     "metadata": {},
     "output_type": "execute_result"
    }
   ],
   "source": [
    "(True and True) and (True == False)"
   ]
  },
  {
   "cell_type": "code",
   "execution_count": 18,
   "id": "ff0e3536",
   "metadata": {},
   "outputs": [
    {
     "data": {
      "text/plain": [
       "True"
      ]
     },
     "execution_count": 18,
     "metadata": {},
     "output_type": "execute_result"
    }
   ],
   "source": [
    "(not False) or (not True)"
   ]
  },
  {
   "cell_type": "markdown",
   "id": "cfc777cb",
   "metadata": {},
   "source": [
    "### Q-5 What are the six comparison operators?"
   ]
  },
  {
   "cell_type": "code",
   "execution_count": 6,
   "id": "732da35e",
   "metadata": {},
   "outputs": [],
   "source": [
    "# Ans:\n",
    "\"\"\"\n",
    "Six comparison operators are below:\n",
    "1. less than (<)\n",
    "2. less than or equal to (<=)\n",
    "3. greater than (>)\n",
    "4. greater than or equal to (>=)\n",
    "5. equal to (==)\n",
    "6. not equal to (!=) \n",
    "\"\"\""
   ]
  },
  {
   "cell_type": "markdown",
   "id": "23332180",
   "metadata": {},
   "source": [
    "### Q-6 How do you tell the difference between the equal to and assignment operators? Describe a condition and when you would use one."
   ]
  },
  {
   "cell_type": "code",
   "execution_count": 8,
   "id": "c579b010",
   "metadata": {},
   "outputs": [],
   "source": [
    "# Ans:\n",
    "\"\"\"\n",
    "The difference between equal to and assignment operators is equal operator(==) compare the value of both the operands\n",
    "and check the value equality. While equal to used for assigning a value to a variable.\n",
    "\"\"\""
   ]
  },
  {
   "cell_type": "markdown",
   "id": "30606736",
   "metadata": {},
   "source": [
    "### Q-7 Identify the three blocks in this code:\n",
    "#### spam = 0\n",
    "#### if spam == 10:\n",
    "#### print('eggs')\n",
    "#### if spam > 5:\n",
    "#### print('bacon')\n",
    "#### else:\n",
    "#### print('ham')\n",
    "#### print('spam')\n",
    "#### print('spam')"
   ]
  },
  {
   "cell_type": "code",
   "execution_count": 9,
   "id": "8980f8f8",
   "metadata": {},
   "outputs": [],
   "source": [
    "# Ans:\n",
    "\"\"\"\n",
    "spam = 0\n",
    "if spam = 10:\n",
    "    print('eggs') # First Block\n",
    "    if spam > 5:\n",
    "        print('bacon') # Second Block in First Block\n",
    "    else:\n",
    "        print('ham') # Third Block in First Block\n",
    "    print('spam')\n",
    "print('spam')\n",
    "\n",
    "\"\"\""
   ]
  },
  {
   "cell_type": "markdown",
   "id": "9c6faaec",
   "metadata": {},
   "source": [
    "### Q-8 Write code that prints Hello if 1 is stored in spam, prints Howdy if 2 is stored in spam, and prints Greetings! if anything else is stored in spam."
   ]
  },
  {
   "cell_type": "code",
   "execution_count": 19,
   "id": "7b4cd054",
   "metadata": {},
   "outputs": [
    {
     "name": "stdout",
     "output_type": "stream",
     "text": [
      "Greetings!\n"
     ]
    }
   ],
   "source": [
    "# Ans:\n",
    "spam = 0\n",
    "if spam == 1:\n",
    "    print('Hello')\n",
    "elif spam == 2:\n",
    "    print('Howdy')\n",
    "else:\n",
    "    print('Greetings!')"
   ]
  },
  {
   "cell_type": "code",
   "execution_count": null,
   "id": "47d4ce8d",
   "metadata": {},
   "outputs": [],
   "source": []
  },
  {
   "cell_type": "code",
   "execution_count": null,
   "id": "11f7369f",
   "metadata": {},
   "outputs": [],
   "source": []
  },
  {
   "cell_type": "code",
   "execution_count": null,
   "id": "4a0565f4",
   "metadata": {},
   "outputs": [],
   "source": []
  }
 ],
 "metadata": {
  "kernelspec": {
   "display_name": "Python 3 (ipykernel)",
   "language": "python",
   "name": "python3"
  },
  "language_info": {
   "codemirror_mode": {
    "name": "ipython",
    "version": 3
   },
   "file_extension": ".py",
   "mimetype": "text/x-python",
   "name": "python",
   "nbconvert_exporter": "python",
   "pygments_lexer": "ipython3",
   "version": "3.8.0"
  }
 },
 "nbformat": 4,
 "nbformat_minor": 5
}
