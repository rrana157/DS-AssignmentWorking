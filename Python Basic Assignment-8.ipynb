{
 "cells": [
  {
   "cell_type": "markdown",
   "id": "e21ed90f",
   "metadata": {},
   "source": [
    "# Python Basic Assignment"
   ]
  },
  {
   "cell_type": "markdown",
   "id": "fb313b52",
   "metadata": {},
   "source": [
    "### Q-1 Is the Python Standard Library included with PyInputPlus?"
   ]
  },
  {
   "cell_type": "code",
   "execution_count": null,
   "id": "23a9ecb0",
   "metadata": {},
   "outputs": [],
   "source": [
    "# Ans:\n",
    "\n",
    "\"\"\"\n",
    "No, Python Standard Library doesn't include PyInputPlus. We have to install it manually.\n",
    "\"\"\""
   ]
  },
  {
   "cell_type": "markdown",
   "id": "fdb2c24f",
   "metadata": {},
   "source": [
    "### Q-2 Why is PyInputPlus commonly imported with import pyinputplus as pypi?"
   ]
  },
  {
   "cell_type": "code",
   "execution_count": null,
   "id": "9164192a",
   "metadata": {},
   "outputs": [],
   "source": [
    "# Ans:\n",
    "\n",
    "\"\"\"\n",
    "Commonly PyInputPlus imported with pyinputplus as pypi. so that you can enter a shorter name when\n",
    "calling the module's functions.\n",
    "\n",
    "\"\"\""
   ]
  },
  {
   "cell_type": "markdown",
   "id": "fd295424",
   "metadata": {},
   "source": [
    "### Q-3 How do you distinguish between inputInt() and inputFloat()?"
   ]
  },
  {
   "cell_type": "code",
   "execution_count": null,
   "id": "f05e631c",
   "metadata": {},
   "outputs": [],
   "source": [
    "# Ans:\n",
    "\n",
    "\"\"\"\n",
    "1. inputInt() accepts as integer value.\n",
    "2. inputFloat() accepts as floating-point numeric value.\n",
    "\"\"\""
   ]
  },
  {
   "cell_type": "markdown",
   "id": "64c39fe2",
   "metadata": {},
   "source": [
    "### Q-4 Using PyInputPlus, how do you ensure that the user enters a whole number between 0 and 99?"
   ]
  },
  {
   "cell_type": "code",
   "execution_count": 1,
   "id": "ceeb8e52",
   "metadata": {},
   "outputs": [
    {
     "name": "stdout",
     "output_type": "stream",
     "text": [
      "-1\n",
      "Number must be at minimum 0.\n",
      "99\n",
      "99\n"
     ]
    }
   ],
   "source": [
    "# Ans:\n",
    "\n",
    "import pyinputplus as pypi\n",
    "\n",
    "res = pypi.inputInt(min=0,max=99)\n",
    "print(res)"
   ]
  },
  {
   "cell_type": "markdown",
   "id": "b89c6bca",
   "metadata": {},
   "source": [
    "### Q-5 What is transferred to the keyword arguments allowRegexes and blockRegexes?"
   ]
  },
  {
   "cell_type": "code",
   "execution_count": 14,
   "id": "5c1b13cd",
   "metadata": {},
   "outputs": [
    {
     "name": "stdout",
     "output_type": "stream",
     "text": [
      "ravi\n",
      "ravi\n"
     ]
    }
   ],
   "source": [
    "# Ans:\n",
    "\n",
    "import pyinputplus as pypi\n",
    "\n",
    "resp = pypi.inputStr(allowRegexes=[r'ravender','ravi'],blockRegexes=['ravn'])\n",
    "print(resp)\n"
   ]
  },
  {
   "cell_type": "markdown",
   "id": "5dfe88c5",
   "metadata": {},
   "source": [
    "### Q-6 If a blank input is entered three times, what does inputStr(limit=3) do?"
   ]
  },
  {
   "cell_type": "code",
   "execution_count": null,
   "id": "bad7490b",
   "metadata": {},
   "outputs": [],
   "source": [
    "# Ans:\n",
    "\"\"\"\n",
    "if we input blank more than three time than it will throw the limit Exception.\n",
    "\"\"\"\n",
    "\n",
    "import pyinputplus as pypi\n",
    "\n",
    "res_str = pypi.inputStr(limit=3)\n",
    "print(res_str)\n"
   ]
  },
  {
   "cell_type": "markdown",
   "id": "baceaadc",
   "metadata": {},
   "source": [
    "### Q-7 If blank input is entered three times, what does inputStr(limit=3, default='hello') do?"
   ]
  },
  {
   "cell_type": "code",
   "execution_count": 4,
   "id": "d8a6462a",
   "metadata": {},
   "outputs": [
    {
     "name": "stdout",
     "output_type": "stream",
     "text": [
      "\n",
      "Blank values are not allowed.\n",
      "\n",
      "Blank values are not allowed.\n",
      "\n",
      "Blank values are not allowed.\n",
      "Hello\n"
     ]
    }
   ],
   "source": [
    "# Ans:\n",
    "\"\"\"\n",
    "if we input blank more than three time than it will print the default value.\n",
    "\"\"\"\n",
    "\n",
    "import pyinputplus as pypi\n",
    "\n",
    "res_str = pypi.inputStr(limit=3,default='Hello')\n",
    "print(res_str)\n"
   ]
  },
  {
   "cell_type": "code",
   "execution_count": null,
   "id": "550d7eae",
   "metadata": {},
   "outputs": [],
   "source": []
  },
  {
   "cell_type": "code",
   "execution_count": null,
   "id": "8fd5d564",
   "metadata": {},
   "outputs": [],
   "source": []
  }
 ],
 "metadata": {
  "kernelspec": {
   "display_name": "Python 3 (ipykernel)",
   "language": "python",
   "name": "python3"
  },
  "language_info": {
   "codemirror_mode": {
    "name": "ipython",
    "version": 3
   },
   "file_extension": ".py",
   "mimetype": "text/x-python",
   "name": "python",
   "nbconvert_exporter": "python",
   "pygments_lexer": "ipython3",
   "version": "3.8.0"
  }
 },
 "nbformat": 4,
 "nbformat_minor": 5
}
