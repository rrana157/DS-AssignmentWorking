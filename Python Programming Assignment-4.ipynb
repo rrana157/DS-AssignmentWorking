{
 "cells": [
  {
   "cell_type": "markdown",
   "id": "cac244e9",
   "metadata": {},
   "source": [
    "# Python Programming Basic Assignment"
   ]
  },
  {
   "cell_type": "markdown",
   "id": "cf4c6329",
   "metadata": {},
   "source": [
    "### Q-1 Write a Python Program to Find the Factorial of a Number?"
   ]
  },
  {
   "cell_type": "code",
   "execution_count": 28,
   "id": "ba4ab6dc",
   "metadata": {},
   "outputs": [
    {
     "data": {
      "text/plain": [
       "'Factorial of 5 is 120.'"
      ]
     },
     "execution_count": 28,
     "metadata": {},
     "output_type": "execute_result"
    }
   ],
   "source": [
    "#Ans:\n",
    "\n",
    "\n",
    "def FunFact(num):\n",
    "    \"\"\"\n",
    "    This function will return the factorial of given number/ input.\n",
    "    \"\"\"\n",
    "    try:\n",
    "        num1 = num\n",
    "        if num < 0:\n",
    "            return 0\n",
    "        elif num == 0 or num == 1:\n",
    "            return 1\n",
    "        else:\n",
    "            fact = 1\n",
    "            while(num > 1):\n",
    "                fact *= num\n",
    "                num -=1\n",
    "            return f'Factorial of {num1} is {fact}.'\n",
    "    except Exception as e:\n",
    "        return e\n",
    "\n",
    "        \n",
    "num = 5\n",
    "FunFact(num)"
   ]
  },
  {
   "cell_type": "markdown",
   "id": "1dd6f95e",
   "metadata": {},
   "source": [
    "### Q- 2. Write a Python Program to Display the multiplication Table?"
   ]
  },
  {
   "cell_type": "code",
   "execution_count": 42,
   "id": "7cee5947",
   "metadata": {},
   "outputs": [
    {
     "name": "stdout",
     "output_type": "stream",
     "text": [
      "13 x 1 = 13\n",
      "13 x 2 = 26\n",
      "13 x 3 = 39\n",
      "13 x 4 = 52\n",
      "13 x 5 = 65\n",
      "13 x 6 = 78\n",
      "13 x 7 = 91\n",
      "13 x 8 = 104\n",
      "13 x 9 = 117\n",
      "13 x 10 = 130\n"
     ]
    }
   ],
   "source": [
    "#Ans:\n",
    "\n",
    "def FunMulitTb(inp):\n",
    "    \"\"\"\n",
    "    This function will return the multiplication table of given input.\n",
    "    \"\"\"\n",
    "    try:\n",
    "        for i in range(1,11):\n",
    "            print(inp,'x',i,'=',inp*i)\n",
    "    except Exception as e:\n",
    "        return e\n",
    "\n",
    "inp = 13  \n",
    "FunMulitTb(inp)"
   ]
  },
  {
   "cell_type": "markdown",
   "id": "2947ab57",
   "metadata": {},
   "source": [
    "### Q-3. Write a Python Program to Print the Fibonacci sequence?"
   ]
  },
  {
   "cell_type": "code",
   "execution_count": 32,
   "id": "c7e0dd4f",
   "metadata": {},
   "outputs": [
    {
     "name": "stdout",
     "output_type": "stream",
     "text": [
      "How many terms? 7\n",
      "0\n",
      "1\n",
      "1\n",
      "2\n",
      "3\n",
      "5\n",
      "8\n"
     ]
    }
   ],
   "source": [
    "#Ans:\n",
    "\n",
    "def FunFib(fn):\n",
    "    \"\"\"\n",
    "    This function will return the Fibonacci Sequence.\n",
    "    \"\"\"\n",
    "    try:\n",
    "        a = 0\n",
    "        b = 1\n",
    "        cnt = 0\n",
    "        \n",
    "        print(f'How many terms? {fn}')\n",
    "        if fn == 1:\n",
    "            return b\n",
    "        else:\n",
    "            while cnt < fn:\n",
    "                print(a)\n",
    "                c = a + b\n",
    "                a = b\n",
    "                b = c\n",
    "                cnt += 1\n",
    "    except Exception as e:\n",
    "        return e\n",
    "    \n",
    "    \n",
    "fn = 7\n",
    "FunFib(fn)"
   ]
  },
  {
   "cell_type": "markdown",
   "id": "85362d02",
   "metadata": {},
   "source": [
    "### Q-4. Write a Python Program to Check Armstrong Number?"
   ]
  },
  {
   "cell_type": "code",
   "execution_count": 9,
   "id": "d338e4ba",
   "metadata": {},
   "outputs": [
    {
     "data": {
      "text/plain": [
       "'663 is Not an Armstrong Number.'"
      ]
     },
     "execution_count": 9,
     "metadata": {},
     "output_type": "execute_result"
    }
   ],
   "source": [
    "#Ans:\n",
    "\n",
    "def FunArmNum(nm):\n",
    "    \"\"\"\n",
    "    This function will return that the given number is Armstrong or not.\n",
    "    \"\"\"\n",
    "    add = 0\n",
    "    temp = nm\n",
    "    \n",
    "    try:\n",
    "        while temp > 0 :\n",
    "            digit = temp % 10\n",
    "            add += digit ** 3\n",
    "            temp //= 10\n",
    "            \n",
    "        if nm == add:\n",
    "            return f'{nm} is an Armstrong Number.'\n",
    "        else:\n",
    "            return f'{nm} is Not an Armstrong Number.'\n",
    "    except Exception as e:\n",
    "        return e\n",
    "    \n",
    "    \n",
    "n1 = 663\n",
    "FunArmNum(n1)"
   ]
  },
  {
   "cell_type": "markdown",
   "id": "cfe10ae5",
   "metadata": {},
   "source": [
    "### Q-5. Write a Python Program to Find Armstrong Number in an Interval?"
   ]
  },
  {
   "cell_type": "code",
   "execution_count": 37,
   "id": "4d18ee57",
   "metadata": {},
   "outputs": [
    {
     "name": "stdout",
     "output_type": "stream",
     "text": [
      "153\n",
      "370\n",
      "371\n",
      "407\n",
      "1634\n"
     ]
    }
   ],
   "source": [
    "#Ans:\n",
    "\n",
    "def FunArmInt(low, upp):\n",
    "    \"\"\"\n",
    "    This function will return the Armstrong Numbers in an Interval.\n",
    "    \"\"\"\n",
    "    try:\n",
    "        for i in range(low, upp + 1):\n",
    "            cnt = len(str(i))\n",
    "\n",
    "            add = 0\n",
    "            tmp = i\n",
    "            while tmp > 0:\n",
    "                dig = tmp % 10\n",
    "                add += dig ** cnt\n",
    "                tmp //= 10\n",
    "            if i == add:\n",
    "                print(i) \n",
    "    except Exception as e:\n",
    "        return e\n",
    "\n",
    "    \n",
    "low = 150\n",
    "upp = 2000\n",
    "\n",
    "FunArmInt(low, upp)"
   ]
  },
  {
   "cell_type": "markdown",
   "id": "125f5099",
   "metadata": {},
   "source": [
    "### Q-6. Write a Python Program to Find the Sum of Natural Numbers?"
   ]
  },
  {
   "cell_type": "code",
   "execution_count": 17,
   "id": "97f23357",
   "metadata": {},
   "outputs": [
    {
     "data": {
      "text/plain": [
       "'Sum of Natural Numbers is 210.'"
      ]
     },
     "execution_count": 17,
     "metadata": {},
     "output_type": "execute_result"
    }
   ],
   "source": [
    "#Ans:\n",
    "\n",
    "def FunNNum(nnum):\n",
    "    \"\"\"\n",
    "    This function will return the sum of natural numbers.\n",
    "    \"\"\"\n",
    "    try:\n",
    "        output = 0\n",
    "        while nnum > 0:\n",
    "            output += nnum\n",
    "            nnum -= 1\n",
    "        return f'Sum of Natural Numbers is {output}.'\n",
    "    except Exception as e:\n",
    "        return e\n",
    "\n",
    "n2 = 20\n",
    "FunNNum(n2)"
   ]
  },
  {
   "cell_type": "code",
   "execution_count": null,
   "id": "225a5330",
   "metadata": {},
   "outputs": [],
   "source": []
  },
  {
   "cell_type": "code",
   "execution_count": null,
   "id": "703780bf",
   "metadata": {},
   "outputs": [],
   "source": []
  },
  {
   "cell_type": "code",
   "execution_count": null,
   "id": "1959bec8",
   "metadata": {},
   "outputs": [],
   "source": []
  }
 ],
 "metadata": {
  "kernelspec": {
   "display_name": "Python 3 (ipykernel)",
   "language": "python",
   "name": "python3"
  },
  "language_info": {
   "codemirror_mode": {
    "name": "ipython",
    "version": 3
   },
   "file_extension": ".py",
   "mimetype": "text/x-python",
   "name": "python",
   "nbconvert_exporter": "python",
   "pygments_lexer": "ipython3",
   "version": "3.8.0"
  }
 },
 "nbformat": 4,
 "nbformat_minor": 5
}
