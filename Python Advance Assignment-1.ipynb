{
 "cells": [
  {
   "cell_type": "markdown",
   "id": "d67e8f16",
   "metadata": {},
   "source": [
    "# Python Advance Assignment"
   ]
  },
  {
   "cell_type": "markdown",
   "id": "284fea62",
   "metadata": {},
   "source": [
    "### Q-1 What is the purpose of Python's OOP?"
   ]
  },
  {
   "cell_type": "code",
   "execution_count": null,
   "id": "16801067",
   "metadata": {},
   "outputs": [],
   "source": [
    "# Ans:\n",
    "\"\"\"\n",
    "In Python, OOP's aims to implement the real-world entities e.g inheritance, polymorphisms, encapsulation etc.\n",
    "And it make code more reusable and make it easier to work in which we define the class with attiributes and methods.\n",
    "\"\"\""
   ]
  },
  {
   "cell_type": "markdown",
   "id": "f890aa86",
   "metadata": {},
   "source": [
    "### Q-2 Where does an inheritance search look for an attribute?"
   ]
  },
  {
   "cell_type": "code",
   "execution_count": null,
   "id": "bde01478",
   "metadata": {},
   "outputs": [],
   "source": [
    "# Ans:\n",
    "\"\"\"\n",
    "In Python, inheritance happens when an object is qualified, and involves searching and attribute definition tree.\n",
    "\"\"\""
   ]
  },
  {
   "cell_type": "markdown",
   "id": "6676994c",
   "metadata": {},
   "source": [
    "### Q-3 How do you distinguish between a class object and an instance object?"
   ]
  },
  {
   "cell_type": "code",
   "execution_count": null,
   "id": "85805f1b",
   "metadata": {},
   "outputs": [],
   "source": [
    "# Ans:\n",
    "\"\"\"\n",
    "Instance refer to object at a particular time whereas object refers to the memory address of the class.\n",
    "e.g class is the blue print. The object is an actual thing that is built based on the 'blue print'. An\n",
    "instance is a virtual copy of the object.\n",
    "\"\"\""
   ]
  },
  {
   "cell_type": "markdown",
   "id": "95952bf2",
   "metadata": {},
   "source": [
    "### Q-4 What makes the first argument in a class’s method function special?"
   ]
  },
  {
   "cell_type": "code",
   "execution_count": null,
   "id": "0789f8a8",
   "metadata": {},
   "outputs": [],
   "source": [
    "# Ans:\n",
    "\"\"\"\n",
    "self is the first argument to be passed in constructor and instance method. self\n",
    "must be provided as a First parameter to the instance method and constructor.\n",
    "\"\"\""
   ]
  },
  {
   "cell_type": "markdown",
   "id": "50917fb1",
   "metadata": {},
   "source": [
    "### Q-5 What is the purpose of the __init__ method?"
   ]
  },
  {
   "cell_type": "code",
   "execution_count": null,
   "id": "bb9c8c0f",
   "metadata": {},
   "outputs": [],
   "source": [
    "# Ans:\n",
    "\"\"\"\n",
    "The init method lets the class initialize the object's attributes. it is only used within classes.\n",
    "\"\"\""
   ]
  },
  {
   "cell_type": "markdown",
   "id": "a24a35dc",
   "metadata": {},
   "source": [
    "### Q-6 What is the process for creating a class instance?"
   ]
  },
  {
   "cell_type": "code",
   "execution_count": null,
   "id": "7979b9dc",
   "metadata": {},
   "outputs": [],
   "source": [
    "# Ans:\n",
    "\"\"\"\n",
    "call classname() to create a new instance of the class xyz. To pass parameters to the class instance,\n",
    "the class must have an init method.\n",
    "\"\"\""
   ]
  },
  {
   "cell_type": "markdown",
   "id": "81d7f46f",
   "metadata": {},
   "source": [
    "### Q-7 What is the process for creating a class?"
   ]
  },
  {
   "cell_type": "code",
   "execution_count": null,
   "id": "06754573",
   "metadata": {},
   "outputs": [],
   "source": [
    "# Ans:\n",
    "\"\"\"\n",
    "Classes created by the keyword 'class'. Attributes and the variables that belongs to the class.\n",
    "attributes are always public and can be accessed using the dot(.) operator.\n",
    "\"\"\""
   ]
  },
  {
   "cell_type": "markdown",
   "id": "d05fbc35",
   "metadata": {},
   "source": [
    "### Q-8 How would you define the superclasses of a class?"
   ]
  },
  {
   "cell_type": "code",
   "execution_count": null,
   "id": "321a82a8",
   "metadata": {},
   "outputs": [],
   "source": [
    "# Ans:\n",
    "\"\"\"\n",
    "A superclass is the class from which many class can be created. \n",
    "The superclasses inherit the characteristics of a superclass.\n",
    "\"\"\""
   ]
  },
  {
   "cell_type": "code",
   "execution_count": null,
   "id": "2e1e8e39",
   "metadata": {},
   "outputs": [],
   "source": []
  },
  {
   "cell_type": "code",
   "execution_count": null,
   "id": "d16b80cf",
   "metadata": {},
   "outputs": [],
   "source": []
  },
  {
   "cell_type": "code",
   "execution_count": null,
   "id": "d6641c3c",
   "metadata": {},
   "outputs": [],
   "source": []
  }
 ],
 "metadata": {
  "kernelspec": {
   "display_name": "Python 3 (ipykernel)",
   "language": "python",
   "name": "python3"
  },
  "language_info": {
   "codemirror_mode": {
    "name": "ipython",
    "version": 3
   },
   "file_extension": ".py",
   "mimetype": "text/x-python",
   "name": "python",
   "nbconvert_exporter": "python",
   "pygments_lexer": "ipython3",
   "version": "3.8.0"
  }
 },
 "nbformat": 4,
 "nbformat_minor": 5
}
