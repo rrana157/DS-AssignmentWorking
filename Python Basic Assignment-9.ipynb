{
 "cells": [
  {
   "cell_type": "markdown",
   "id": "a25b253a",
   "metadata": {},
   "source": [
    "# Python Basic Assignment"
   ]
  },
  {
   "cell_type": "markdown",
   "id": "d65b8ac5",
   "metadata": {},
   "source": [
    "### Q-1 To what does a relative path refer?"
   ]
  },
  {
   "cell_type": "code",
   "execution_count": null,
   "id": "20c95229",
   "metadata": {},
   "outputs": [],
   "source": [
    "# Ans:\n",
    "\"\"\"\n",
    "Refer to the location of the current working directory.\n",
    "\"\"\""
   ]
  },
  {
   "cell_type": "markdown",
   "id": "980df3e6",
   "metadata": {},
   "source": [
    "### Q-2 What does an absolute path start with your operating system?"
   ]
  },
  {
   "cell_type": "code",
   "execution_count": 11,
   "id": "1b2e5934",
   "metadata": {},
   "outputs": [
    {
     "data": {
      "text/plain": [
       "'C:\\\\Users\\\\ravrana'"
      ]
     },
     "execution_count": 11,
     "metadata": {},
     "output_type": "execute_result"
    }
   ],
   "source": [
    "# Ans:\n",
    "\"\"\"\n",
    "the os.path module provide functions for returning the absolute path of a relative path\n",
    "and checking whether a given path is an absolute path.\n",
    "\"\"\"\n",
    "import os\n",
    "os.path.abspath('.')"
   ]
  },
  {
   "cell_type": "markdown",
   "id": "367bdfea",
   "metadata": {},
   "source": [
    "### Q-3 What do the functions os.getcwd() and os.chdir() do?"
   ]
  },
  {
   "cell_type": "code",
   "execution_count": 12,
   "id": "39907446",
   "metadata": {},
   "outputs": [
    {
     "name": "stdout",
     "output_type": "stream",
     "text": [
      "C:\\Users\\ravrana\n",
      "C:\\Users\\ravrana\\Downloads\n"
     ]
    }
   ],
   "source": [
    "# Ans:\n",
    "\n",
    "import os\n",
    "\n",
    "print(os.getcwd())\n",
    "\n",
    "newpath =\"C:/Users/ravrana/Downloads\"\n",
    "os.chdir(newpath)\n",
    "\n",
    "print(os.getcwd())"
   ]
  },
  {
   "cell_type": "markdown",
   "id": "c4cd0796",
   "metadata": {},
   "source": [
    "### Q-4 What are the . and .. folders?"
   ]
  },
  {
   "cell_type": "code",
   "execution_count": null,
   "id": "9e7a677d",
   "metadata": {},
   "outputs": [],
   "source": [
    "# Ans:\n",
    "\"\"\"\n",
    "'.' is the current directory. while '..' stands for parent directory.\n",
    "\"\"\""
   ]
  },
  {
   "cell_type": "markdown",
   "id": "6f1e5f8c",
   "metadata": {},
   "source": [
    "### Q-5 In C:\\bacon\\eggs\\spam.txt, which part is the dir name, and which part is the base name?"
   ]
  },
  {
   "cell_type": "code",
   "execution_count": null,
   "id": "d06c812d",
   "metadata": {},
   "outputs": [],
   "source": [
    "# Ans:\n",
    "\n",
    "\"\"\"\n",
    "In C:\\bacon\\eggs\\spam.txt, C:\\bacon\\eggs is the dir name. While, spam.txt is the base name.\n",
    "\"\"\""
   ]
  },
  {
   "cell_type": "markdown",
   "id": "7c340bf1",
   "metadata": {},
   "source": [
    "### Q-6 What are the three “mode” arguments that can be passed to the open() function?"
   ]
  },
  {
   "cell_type": "code",
   "execution_count": null,
   "id": "4329e9b8",
   "metadata": {},
   "outputs": [],
   "source": [
    "# Ans:\n",
    "\"\"\"\n",
    "the three 'mode' arguments that can be passed to the open() function is 'r','a','w'\n",
    "where 'r' stands for read, 'a' stands for append and 'w' stands for write mode.\n",
    "\"\"\""
   ]
  },
  {
   "cell_type": "markdown",
   "id": "eb61800b",
   "metadata": {},
   "source": [
    "### Q-7 What happens if an existing file is opened in write mode?"
   ]
  },
  {
   "cell_type": "code",
   "execution_count": null,
   "id": "87a9a556",
   "metadata": {},
   "outputs": [],
   "source": [
    "# Ans:\n",
    "\"\"\"\n",
    "if an existing file opened in write mode. it will overwrite the existing file.\n",
    "\"\"\"\n"
   ]
  },
  {
   "cell_type": "markdown",
   "id": "cde95bcd",
   "metadata": {},
   "source": [
    "### Q-8 How do you tell the difference between read() and readlines()?"
   ]
  },
  {
   "cell_type": "code",
   "execution_count": null,
   "id": "9592f4b7",
   "metadata": {},
   "outputs": [],
   "source": [
    "# Ans:\n",
    "\"\"\"\n",
    "read() function read the entire file's contents into a string. while readlines() read all the lines of the entire file,\n",
    "and save in a list variable as an element, but reading a big file will take lot of memory.\n",
    "\"\"\""
   ]
  },
  {
   "cell_type": "markdown",
   "id": "c8d79686",
   "metadata": {},
   "source": [
    "### Q-9 What data structure does a shelf value resemble?"
   ]
  },
  {
   "cell_type": "code",
   "execution_count": null,
   "id": "82c02de9",
   "metadata": {},
   "outputs": [],
   "source": [
    "# Ans:\n",
    "\"\"\"\n",
    "Just like dictionaries, shelf values have keys and values methods that will return list-like values of the keys and values.\n",
    "\"\"\""
   ]
  },
  {
   "cell_type": "code",
   "execution_count": null,
   "id": "4fb05ded",
   "metadata": {},
   "outputs": [],
   "source": []
  },
  {
   "cell_type": "code",
   "execution_count": null,
   "id": "ac935bf4",
   "metadata": {},
   "outputs": [],
   "source": []
  }
 ],
 "metadata": {
  "kernelspec": {
   "display_name": "Python 3 (ipykernel)",
   "language": "python",
   "name": "python3"
  },
  "language_info": {
   "codemirror_mode": {
    "name": "ipython",
    "version": 3
   },
   "file_extension": ".py",
   "mimetype": "text/x-python",
   "name": "python",
   "nbconvert_exporter": "python",
   "pygments_lexer": "ipython3",
   "version": "3.8.0"
  }
 },
 "nbformat": 4,
 "nbformat_minor": 5
}
