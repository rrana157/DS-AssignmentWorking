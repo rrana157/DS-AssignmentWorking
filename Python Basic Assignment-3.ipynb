{
 "cells": [
  {
   "cell_type": "markdown",
   "id": "8cbbb51e",
   "metadata": {},
   "source": [
    "# Python Basic Assignment"
   ]
  },
  {
   "cell_type": "markdown",
   "id": "b5d90129",
   "metadata": {},
   "source": [
    "### Q-1 Why are functions advantageous to have in your programs?"
   ]
  },
  {
   "cell_type": "code",
   "execution_count": null,
   "id": "f8ec9683",
   "metadata": {},
   "outputs": [],
   "source": [
    "# Ans:\n",
    "\"\"\"\n",
    "Functions enable the reusability of code, improve maintainability and scalability of it.\n",
    "\"\"\""
   ]
  },
  {
   "cell_type": "markdown",
   "id": "ff76f1ff",
   "metadata": {},
   "source": [
    "### Q-2 When does the code in a function run: when it's specified or when it's called?"
   ]
  },
  {
   "cell_type": "code",
   "execution_count": null,
   "id": "822220ea",
   "metadata": {},
   "outputs": [],
   "source": [
    "# Ans:\n",
    "\"\"\"\n",
    "Function is a piece of code which run only when it is called. we can pass the data which known as parameters into a function.\n",
    "\n",
    "\"\"\""
   ]
  },
  {
   "cell_type": "markdown",
   "id": "9f8c8329",
   "metadata": {},
   "source": [
    "### Q-3 What statement creates a function?"
   ]
  },
  {
   "cell_type": "code",
   "execution_count": null,
   "id": "5908bde0",
   "metadata": {},
   "outputs": [],
   "source": [
    "# Ans:\n",
    "\"\"\"\n",
    "by using 'def' keyword we can create a function in python.\n",
    "\"\"\""
   ]
  },
  {
   "cell_type": "markdown",
   "id": "0f6f286f",
   "metadata": {},
   "source": [
    "### Q-4 What is the difference between a function and a function call?"
   ]
  },
  {
   "cell_type": "code",
   "execution_count": null,
   "id": "9b7450fc",
   "metadata": {},
   "outputs": [],
   "source": [
    "# Ans:\n",
    "\"\"\"\n",
    "A function is a procedure or piece of code to achive the result. While function call is using this function to \n",
    "achive that task.\n",
    "\"\"\""
   ]
  },
  {
   "cell_type": "markdown",
   "id": "d0abfa2c",
   "metadata": {},
   "source": [
    "### Q-5 How many global scopes are there in a Python program? How many local scopes?"
   ]
  },
  {
   "cell_type": "code",
   "execution_count": null,
   "id": "26e47674",
   "metadata": {},
   "outputs": [],
   "source": [
    "# Ans:\n",
    "\"\"\"\n",
    "There are only one Global scope in Python program. This scope reamins till the program terminates.\n",
    "When we use unqualified name inside a function. It(python) will search three scopes (The local(L), then the Global(G))\n",
    "then the built-in(B), and will stop at the first place the name is found.\n",
    "\"\"\""
   ]
  },
  {
   "cell_type": "markdown",
   "id": "29fd70de",
   "metadata": {},
   "source": [
    "### Q-6 What happens to variables in a local scope when the function call returns?"
   ]
  },
  {
   "cell_type": "code",
   "execution_count": null,
   "id": "ee752207",
   "metadata": {},
   "outputs": [],
   "source": [
    "# Ans:\n",
    "\"\"\"\n",
    "When function call returns(execution of function terminates), the local variables are destroyed(the local variables\n",
    "disappear after the function returns).\n",
    "\"\"\""
   ]
  },
  {
   "cell_type": "markdown",
   "id": "ca6f26e1",
   "metadata": {},
   "source": [
    "### Q-7 What is the concept of a return value? Is it possible to have a return value in an expression?"
   ]
  },
  {
   "cell_type": "code",
   "execution_count": null,
   "id": "9374430a",
   "metadata": {},
   "outputs": [],
   "source": [
    "# Ans:\n",
    "\"\"\"\n",
    "A return statement in a function used to end the execution of the function call. we can use return value in an expression\n",
    "like in mathematical or other expression.\n",
    "\"\"\""
   ]
  },
  {
   "cell_type": "markdown",
   "id": "eb05e5f8",
   "metadata": {},
   "source": [
    "### Q-8 If a function does not have a return statement, what is the return value of a call to that function?"
   ]
  },
  {
   "cell_type": "code",
   "execution_count": null,
   "id": "621be1a5",
   "metadata": {},
   "outputs": [],
   "source": [
    "# Ans:\n",
    "\"\"\"\n",
    "If a function doesn't have a return statement then it will return None.\n",
    "\"\"\""
   ]
  },
  {
   "cell_type": "markdown",
   "id": "c151e5fe",
   "metadata": {},
   "source": [
    "### Q-9 How do you make a function variable refer to the global variable?"
   ]
  },
  {
   "cell_type": "code",
   "execution_count": null,
   "id": "bb81967c",
   "metadata": {},
   "outputs": [],
   "source": [
    "# Ans:\n",
    "\"\"\"\n",
    "By using 'global' keyword we can make a global variable inside a function.\n",
    "\"\"\""
   ]
  },
  {
   "cell_type": "markdown",
   "id": "a7dc7c9c",
   "metadata": {},
   "source": [
    "### Q-10 What is the data type of None?"
   ]
  },
  {
   "cell_type": "code",
   "execution_count": null,
   "id": "ade156a4",
   "metadata": {},
   "outputs": [],
   "source": [
    "# Ans:\n",
    "\"\"\"\n",
    "Basically, the None keyword is used to define null value or no value at all. None is a data type of its own(None Type).\n",
    "\"\"\""
   ]
  },
  {
   "cell_type": "markdown",
   "id": "c46a0050",
   "metadata": {},
   "source": [
    "### Q-11 What does the sentence import areallyourpetsnamederic do?"
   ]
  },
  {
   "cell_type": "code",
   "execution_count": null,
   "id": "fdfd7f48",
   "metadata": {},
   "outputs": [],
   "source": [
    "# Ans:\n",
    "\"\"\"\n",
    "this will import the module named areallyourpetsnamederic.\n",
    "\"\"\""
   ]
  },
  {
   "cell_type": "markdown",
   "id": "56eabed5",
   "metadata": {},
   "source": [
    "### Q-12 If you had a bacon() feature in a spam module, what would you call it after importing spam?"
   ]
  },
  {
   "cell_type": "code",
   "execution_count": null,
   "id": "9ac53f4c",
   "metadata": {},
   "outputs": [],
   "source": [
    "# Ans:\n",
    "\"\"\"\n",
    "After importing spam. we will call it 'spam.bacon()'.\n",
    "\n",
    "import spam\n",
    "spam.bacon()\n",
    "\n",
    "\"\"\""
   ]
  },
  {
   "cell_type": "markdown",
   "id": "a56c44b5",
   "metadata": {},
   "source": [
    "### Q-13 What can you do to save a programme from crashing if it encounters an error?"
   ]
  },
  {
   "cell_type": "code",
   "execution_count": null,
   "id": "598afa8e",
   "metadata": {},
   "outputs": [],
   "source": [
    "# Ans:\n",
    "\"\"\"\n",
    "We can use 'try' and 'except' block to handle the encountered error in a programme.\n",
    "\"\"\""
   ]
  },
  {
   "cell_type": "markdown",
   "id": "35021a8c",
   "metadata": {},
   "source": [
    "### Q-14 What is the purpose of the try clause? What is the purpose of the except clause?"
   ]
  },
  {
   "cell_type": "code",
   "execution_count": null,
   "id": "1300fd41",
   "metadata": {},
   "outputs": [],
   "source": [
    "# Ans:\n",
    "\"\"\"\n",
    "we use 'try' block to execute the program. While, 'except' block handle the exception which can occures when programme \n",
    "encountered error.\n",
    "\"\"\""
   ]
  },
  {
   "cell_type": "code",
   "execution_count": null,
   "id": "a197d3d9",
   "metadata": {},
   "outputs": [],
   "source": []
  },
  {
   "cell_type": "code",
   "execution_count": null,
   "id": "da11c633",
   "metadata": {},
   "outputs": [],
   "source": []
  }
 ],
 "metadata": {
  "kernelspec": {
   "display_name": "Python 3 (ipykernel)",
   "language": "python",
   "name": "python3"
  },
  "language_info": {
   "codemirror_mode": {
    "name": "ipython",
    "version": 3
   },
   "file_extension": ".py",
   "mimetype": "text/x-python",
   "name": "python",
   "nbconvert_exporter": "python",
   "pygments_lexer": "ipython3",
   "version": "3.8.0"
  }
 },
 "nbformat": 4,
 "nbformat_minor": 5
}
