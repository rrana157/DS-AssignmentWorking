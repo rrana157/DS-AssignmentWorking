{
 "cells": [
  {
   "cell_type": "markdown",
   "id": "04fe16e1",
   "metadata": {},
   "source": [
    "# Python Advance Assignment"
   ]
  },
  {
   "cell_type": "markdown",
   "id": "ac841e84",
   "metadata": {},
   "source": [
    "### Q-1 What is the concept of an abstract superclass?"
   ]
  },
  {
   "cell_type": "code",
   "execution_count": null,
   "id": "0d7b385a",
   "metadata": {},
   "outputs": [],
   "source": [
    "# Ans:\n",
    "\"\"\"\n",
    "A class is called an Abstract class if it contains one or more abstract methods. An abstract method is a method\n",
    "that is declared, but contains no implementation.\n",
    "\"\"\""
   ]
  },
  {
   "cell_type": "markdown",
   "id": "f5b396da",
   "metadata": {},
   "source": [
    "### Q-2 What happens when a class statement's top level contains a basic assignment statement?"
   ]
  },
  {
   "cell_type": "code",
   "execution_count": null,
   "id": "eb3e2c55",
   "metadata": {},
   "outputs": [],
   "source": [
    "# Ans:\n",
    "\"\"\"\n",
    "In Python, the non indented statements written after all the function definitions are often called top level statements.\n",
    "An Assignment statement is a statement that is used to set a value to the variable name in a program. \n",
    "Assignment statement allows a variable to hold different types of values during its program lifespan\n",
    "\"\"\""
   ]
  },
  {
   "cell_type": "markdown",
   "id": "d64acd71",
   "metadata": {},
   "source": [
    "### Q-3 Why does a class need to manually call a superclass's __init__ method?"
   ]
  },
  {
   "cell_type": "code",
   "execution_count": null,
   "id": "1418e225",
   "metadata": {},
   "outputs": [],
   "source": [
    "# Ans:\n",
    "\"\"\"\n",
    "it is because that base class may create member variable and initialize them to defaults. \n",
    "So, if you don't call base class init, none of that code whould be executed and you would \n",
    "end up with base class that has no member variables.\n",
    "\"\"\""
   ]
  },
  {
   "cell_type": "markdown",
   "id": "a2de3a35",
   "metadata": {},
   "source": [
    "### Q-4 How can you augment, instead of completely replacing, an inherited method?"
   ]
  },
  {
   "cell_type": "code",
   "execution_count": null,
   "id": "6364f02c",
   "metadata": {},
   "outputs": [],
   "source": [
    "# Ans:\n",
    "\"\"\"\n",
    "In python we called the original version directly, with augmented arguments.\n",
    "\"\"\""
   ]
  },
  {
   "cell_type": "markdown",
   "id": "fb35f8f4",
   "metadata": {},
   "source": [
    "### Q-5 How is the local scope of a class different from that of a function?"
   ]
  },
  {
   "cell_type": "code",
   "execution_count": null,
   "id": "ae903941",
   "metadata": {},
   "outputs": [],
   "source": [
    "# Ans:\n",
    "\"\"\"\n",
    "declaring a variable inside a function inside a class. only that function can access it.\n",
    "if the variable is declared without self then it is accessible within that function only like local variable.\n",
    "\"\"\""
   ]
  },
  {
   "cell_type": "code",
   "execution_count": null,
   "id": "b3b2aa48",
   "metadata": {},
   "outputs": [],
   "source": []
  },
  {
   "cell_type": "code",
   "execution_count": null,
   "id": "2c11d8b6",
   "metadata": {},
   "outputs": [],
   "source": []
  },
  {
   "cell_type": "code",
   "execution_count": null,
   "id": "554f59ac",
   "metadata": {},
   "outputs": [],
   "source": []
  },
  {
   "cell_type": "code",
   "execution_count": null,
   "id": "c4f46e29",
   "metadata": {},
   "outputs": [],
   "source": [
    "\"\"\"\n",
    "Note:- I am not sure about the answer of the Q-2. so please share your feedback if any.\n",
    "\"\"\""
   ]
  }
 ],
 "metadata": {
  "kernelspec": {
   "display_name": "Python 3 (ipykernel)",
   "language": "python",
   "name": "python3"
  },
  "language_info": {
   "codemirror_mode": {
    "name": "ipython",
    "version": 3
   },
   "file_extension": ".py",
   "mimetype": "text/x-python",
   "name": "python",
   "nbconvert_exporter": "python",
   "pygments_lexer": "ipython3",
   "version": "3.8.0"
  }
 },
 "nbformat": 4,
 "nbformat_minor": 5
}
