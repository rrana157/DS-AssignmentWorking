{
 "cells": [
  {
   "cell_type": "markdown",
   "id": "c047da19",
   "metadata": {},
   "source": [
    "# Python Programming Basic Assignment"
   ]
  },
  {
   "cell_type": "markdown",
   "id": "801c9e78",
   "metadata": {},
   "source": [
    "### Q-1 Write a Python Program to Display Fibonacci Sequence Using Recursion?"
   ]
  },
  {
   "cell_type": "code",
   "execution_count": 25,
   "id": "4113687a",
   "metadata": {},
   "outputs": [
    {
     "name": "stdout",
     "output_type": "stream",
     "text": [
      "0\n",
      "1\n",
      "1\n",
      "2\n",
      "3\n",
      "5\n",
      "8\n",
      "13\n",
      "21\n",
      "34\n"
     ]
    }
   ],
   "source": [
    "#Ans:\n",
    "\n",
    "def FibSeqRec(fn):\n",
    "    if int(fn) <= 1:\n",
    "        return fn\n",
    "    else:\n",
    "        return(FinSeqRec(fn-1) + FinSeqRec(fn-2))        \n",
    "        \n",
    "n = 10\n",
    "if n <= 0:\n",
    "    print('Enter positive number.')\n",
    "else:\n",
    "    for i in range(n):\n",
    "        print(FinSeqRec(i))\n"
   ]
  },
  {
   "cell_type": "markdown",
   "id": "af7489ce",
   "metadata": {},
   "source": [
    "### Q-2 Write a Python Program to Find Factorial of Number Using Recursion?"
   ]
  },
  {
   "cell_type": "code",
   "execution_count": 35,
   "id": "132f7b4a",
   "metadata": {},
   "outputs": [
    {
     "name": "stdout",
     "output_type": "stream",
     "text": [
      "The Factorial of 7 is 5040.\n"
     ]
    }
   ],
   "source": [
    "#Ans:\n",
    "def FacSeqRec(fn):\n",
    "    if fn == 1:\n",
    "        return fn\n",
    "    else:\n",
    "        return fn*FacSeqRec(fn-1)        \n",
    "        \n",
    "n = 7\n",
    "if n < 0:\n",
    "    print('Enter positive number.')\n",
    "elif n == 0:\n",
    "    print('The Factorial of 0 is 1.')\n",
    "else:\n",
    "    print('The Factorial of {} is {}.'.format(n,FacSeqRec(n)))\n"
   ]
  },
  {
   "cell_type": "markdown",
   "id": "813af7e0",
   "metadata": {},
   "source": [
    "### Q-3 Write a Python Program to calculate your Body Mass Index?"
   ]
  },
  {
   "cell_type": "code",
   "execution_count": 52,
   "id": "4089a0e0",
   "metadata": {},
   "outputs": [
    {
     "data": {
      "text/plain": [
       "'Body Mass is 18.55 and person is Healthy.'"
      ]
     },
     "execution_count": 52,
     "metadata": {},
     "output_type": "execute_result"
    }
   ],
   "source": [
    "#Ans:\n",
    "def FunBMI(h,w):\n",
    "    \"\"\"\n",
    "    This function will return the Body Mass index of the given inputs.\n",
    "    \"\"\"\n",
    "    try:\n",
    "        bmi = w / (h**2)\n",
    "        if (bmi < 18.5):\n",
    "            return f'Body Mass is {round(bmi,2)} and person is Underweight.'\n",
    "        elif (bmi >= 18.5 and bmi < 24.9 ):\n",
    "            return f'Body Mass is {round(bmi,2)} and person is Healthy.'\n",
    "        elif (bmi >= 24.9 and bmi < 30.0 ):\n",
    "            return f'Body Mass is {round(bmi,2)} and person is overweight.'\n",
    "        elif (bmi >= 30.0):\n",
    "            return f'Body Mass is {round(bmi,2)} and Suffering from Obesity.'\n",
    "    except Exception as e:\n",
    "        return e\n",
    "\n",
    "\n",
    "height = 1.79832 # Height in meters.\n",
    "weight = 60 # Weight in kg.\n",
    "\n",
    "FunBMI(height, weight)"
   ]
  },
  {
   "cell_type": "markdown",
   "id": "b0ae9a27",
   "metadata": {},
   "source": [
    "### Q-4 Write a Python Program to calculate the natural logarithm of any number?"
   ]
  },
  {
   "cell_type": "code",
   "execution_count": 44,
   "id": "a67e9849",
   "metadata": {},
   "outputs": [
    {
     "data": {
      "text/plain": [
       "4.6063694665635735"
      ]
     },
     "execution_count": 44,
     "metadata": {},
     "output_type": "execute_result"
    }
   ],
   "source": [
    "#Ans:\n",
    "\n",
    "def FunNatLog(x):\n",
    "    \"\"\"\n",
    "    This Function will return the natural logarithm of given input.\n",
    "    \"\"\"\n",
    "    import math\n",
    "    try:\n",
    "        return math.log(x)\n",
    "    except Exception as e:\n",
    "        return e\n",
    "        \n",
    "FunNatLog(100.12)        "
   ]
  },
  {
   "cell_type": "markdown",
   "id": "62476ba0",
   "metadata": {},
   "source": [
    "### Q-5 Write a Python Program for cube sum of first n natural numbers?"
   ]
  },
  {
   "cell_type": "code",
   "execution_count": 50,
   "id": "3457b200",
   "metadata": {},
   "outputs": [
    {
     "data": {
      "text/plain": [
       "225"
      ]
     },
     "execution_count": 50,
     "metadata": {},
     "output_type": "execute_result"
    }
   ],
   "source": [
    "#Ans:\n",
    "\n",
    "def FunCubNnum(n):\n",
    "    \"\"\"\n",
    "    This Function will return the cube sum of given natural numbers.\n",
    "    \"\"\"\n",
    "    try:\n",
    "        add = 0\n",
    "        for i in range(1,n+1):\n",
    "            add += i*i*i\n",
    "        return add\n",
    "    except Exception as e:\n",
    "        return e\n",
    "\n",
    "FunCubNnum(5)"
   ]
  },
  {
   "cell_type": "code",
   "execution_count": null,
   "id": "a5a6bbd8",
   "metadata": {},
   "outputs": [],
   "source": []
  },
  {
   "cell_type": "code",
   "execution_count": null,
   "id": "66104354",
   "metadata": {},
   "outputs": [],
   "source": []
  }
 ],
 "metadata": {
  "kernelspec": {
   "display_name": "Python 3 (ipykernel)",
   "language": "python",
   "name": "python3"
  },
  "language_info": {
   "codemirror_mode": {
    "name": "ipython",
    "version": 3
   },
   "file_extension": ".py",
   "mimetype": "text/x-python",
   "name": "python",
   "nbconvert_exporter": "python",
   "pygments_lexer": "ipython3",
   "version": "3.8.0"
  }
 },
 "nbformat": 4,
 "nbformat_minor": 5
}
