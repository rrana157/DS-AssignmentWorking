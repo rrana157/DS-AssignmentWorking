{
 "cells": [
  {
   "cell_type": "markdown",
   "id": "f800e1b0",
   "metadata": {},
   "source": [
    "# Python Programming Basic Assignment"
   ]
  },
  {
   "cell_type": "markdown",
   "id": "bbe1ecdb",
   "metadata": {},
   "source": [
    "### Q-1 Write a Python program to check if the given number is a Disarium Number?"
   ]
  },
  {
   "cell_type": "code",
   "execution_count": 112,
   "id": "29ac4724",
   "metadata": {},
   "outputs": [
    {
     "data": {
      "text/plain": [
       "'21 is not a disarium number.'"
      ]
     },
     "execution_count": 112,
     "metadata": {},
     "output_type": "execute_result"
    }
   ],
   "source": [
    "# Ans: \n",
    "def checklen(n):\n",
    "    \"\"\"\n",
    "    This Function will return the length of given number.\n",
    "    \"\"\"\n",
    "    try:\n",
    "        lng = 0\n",
    "        while(n != 0):\n",
    "            lng +=1\n",
    "            n = n//10\n",
    "        return lng\n",
    "    except Exception as e:\n",
    "        return e\n",
    "\n",
    "\n",
    "def CheckDisarium(n):\n",
    "    \"\"\"\n",
    "    This Function will return that the given number is disarium or not.\n",
    "    \"\"\"\n",
    "    try:\n",
    "        lng = checklen(n)\n",
    "        rm = add = 0\n",
    "        n1 = n\n",
    "        while(n > 0):\n",
    "            rm = n%10\n",
    "            add = add + (rm**lng)\n",
    "            n = n//10\n",
    "            lng -= 1\n",
    "\n",
    "        if (add == n1):\n",
    "            return f\"{str(n1)} is a disarium number.\"\n",
    "        else:\n",
    "            return f\"{str(n1)} is not a disarium number.\"\n",
    "    except Exception as e:\n",
    "        return e\n",
    "    \n",
    "\n",
    "num = 21 \n",
    "CheckDisarium(num)\n"
   ]
  },
  {
   "cell_type": "markdown",
   "id": "a897235b",
   "metadata": {},
   "source": [
    "### Q-2 Write a Python program to print all disarium numbers between 1 to 100?"
   ]
  },
  {
   "cell_type": "code",
   "execution_count": 113,
   "id": "90f9d459",
   "metadata": {},
   "outputs": [
    {
     "name": "stdout",
     "output_type": "stream",
     "text": [
      "1, is Disarium Number.\n",
      "2, is Disarium Number.\n",
      "3, is Disarium Number.\n",
      "4, is Disarium Number.\n",
      "5, is Disarium Number.\n",
      "6, is Disarium Number.\n",
      "7, is Disarium Number.\n",
      "8, is Disarium Number.\n",
      "9, is Disarium Number.\n",
      "89, is Disarium Number.\n"
     ]
    }
   ],
   "source": [
    "# Ans: \n",
    "def checklen(n):\n",
    "    \"\"\"\n",
    "    This Function will return the length of given number.\n",
    "    \"\"\"\n",
    "    try:\n",
    "        lng = 0\n",
    "        while(n != 0):\n",
    "            lng +=1\n",
    "            n = n//10\n",
    "        return lng\n",
    "    except Exception as e:\n",
    "        return e\n",
    "\n",
    "\n",
    "def CheckDisarium(n):\n",
    "    \"\"\"\n",
    "    This Function will return that the given number is disarium or not.\n",
    "    \"\"\"\n",
    "    try:\n",
    "        lng = checklen(n)\n",
    "        rm = add = 0\n",
    "        while(n > 0):\n",
    "            rm = n%10\n",
    "            add = add + (rm**lng)\n",
    "            n = n//10\n",
    "            lng -= 1\n",
    "\n",
    "        return add\n",
    "\n",
    "    except Exception as e:\n",
    "        return e\n",
    "    \n",
    "    \n",
    "num = 0\n",
    "for i in range(1,101):\n",
    "    num = CheckDisarium(i)\n",
    "    \n",
    "    if (num == i):\n",
    "        print(f\"{i}, is Disarium Number.\")\n",
    "    "
   ]
  },
  {
   "cell_type": "markdown",
   "id": "7b6ecd8b",
   "metadata": {},
   "source": [
    "### Q-3 Write a Python program to check if the given number is Happy Number?"
   ]
  },
  {
   "cell_type": "code",
   "execution_count": 118,
   "id": "d6ec9871",
   "metadata": {},
   "outputs": [
    {
     "name": "stdout",
     "output_type": "stream",
     "text": [
      "19 is a happy number.\n"
     ]
    }
   ],
   "source": [
    "# Ans:\n",
    "def numsqr(n):\n",
    "    \"\"\"\n",
    "    This Function will return the sqr root of the give number.\n",
    "    \"\"\"\n",
    "    try:\n",
    "        happynum = 0\n",
    "        while(n):\n",
    "            happynum += (n % 10) * (n % 10)\n",
    "            n = int(n/10)\n",
    "        return happynum\n",
    "    except Exception as e:\n",
    "        return e\n",
    "\n",
    "\n",
    "def CheckHappyNum(n):\n",
    "    \"\"\"\n",
    "    This Function will check the given input is a happy number or not.\n",
    "    \"\"\"\n",
    "    n1 = n\n",
    "    n2 = n \n",
    "    try:\n",
    "        while(True):\n",
    "            n1 = numsqr(n1)\n",
    "            n2 = numsqr(numsqr(n2))\n",
    "\n",
    "            if(n1 == n2):\n",
    "                break;\n",
    "\n",
    "        return (n1 == 1)\n",
    "    except Exception as e:\n",
    "        return e\n",
    "\n",
    "    \n",
    "n = 19\n",
    "   \n",
    "if (CheckHappyNum(n)):\n",
    "    print(f'{n} is a happy number.')\n",
    "else:\n",
    "    print(f'{n} is not a happy number.')\n",
    "    "
   ]
  },
  {
   "cell_type": "markdown",
   "id": "64ac5f28",
   "metadata": {},
   "source": [
    "### Q-4 Write a Python program to print all happy numbers between 1 and 100?"
   ]
  },
  {
   "cell_type": "code",
   "execution_count": 115,
   "id": "3e838222",
   "metadata": {},
   "outputs": [
    {
     "name": "stdout",
     "output_type": "stream",
     "text": [
      "1 is a happy number.\n",
      "7 is a happy number.\n",
      "10 is a happy number.\n",
      "13 is a happy number.\n",
      "19 is a happy number.\n",
      "23 is a happy number.\n",
      "28 is a happy number.\n",
      "31 is a happy number.\n",
      "32 is a happy number.\n",
      "44 is a happy number.\n",
      "49 is a happy number.\n",
      "68 is a happy number.\n",
      "70 is a happy number.\n",
      "79 is a happy number.\n",
      "82 is a happy number.\n",
      "86 is a happy number.\n",
      "91 is a happy number.\n",
      "94 is a happy number.\n",
      "97 is a happy number.\n"
     ]
    }
   ],
   "source": [
    "# Ans:\n",
    "def numsqr(n):\n",
    "    \"\"\"\n",
    "    This Function will return the sqr root of the give number.\n",
    "    \"\"\"\n",
    "    try:\n",
    "        happynum = 0\n",
    "        while(n):\n",
    "            happynum += (n % 10) * (n % 10)\n",
    "            n = int(n/10)\n",
    "        return happynum\n",
    "    except Exception as e:\n",
    "        return e\n",
    "\n",
    "\n",
    "def CheckHappyNum(n):\n",
    "    \"\"\"\n",
    "    This Function will check the given input is a happy number or not.\n",
    "    \"\"\"\n",
    "    n1 = n\n",
    "    n2 = n \n",
    "    try:\n",
    "        while(True):\n",
    "            n1 = numsqr(n1)\n",
    "            n2 = numsqr(numsqr(n2))\n",
    "\n",
    "            if(n1 == n2):\n",
    "                break;\n",
    "\n",
    "        return (n1 == 1)\n",
    "    except Exception as e:\n",
    "        return e\n",
    "\n",
    "    \n",
    "n = 100\n",
    "   \n",
    "for i in range(n):\n",
    "    if (CheckHappyNum(i)):\n",
    "        print(f'{i} is a happy number.')\n",
    "    else:\n",
    "        None"
   ]
  },
  {
   "cell_type": "markdown",
   "id": "22df60f2",
   "metadata": {},
   "source": [
    "### Q-5 Write a Python program to determine whether the given number is a Harshad Number?"
   ]
  },
  {
   "cell_type": "code",
   "execution_count": 116,
   "id": "11b61b0c",
   "metadata": {},
   "outputs": [
    {
     "data": {
      "text/plain": [
       "'153 is Harshad Number.'"
      ]
     },
     "execution_count": 116,
     "metadata": {},
     "output_type": "execute_result"
    }
   ],
   "source": [
    "# Ans:\n",
    "\n",
    "def CheckHarshad(n):\n",
    "    \"\"\"\n",
    "    This Function will check the given number is Harshad or not.\n",
    "    \"\"\"\n",
    "    try:\n",
    "        add = 0\n",
    "        n1 = n\n",
    "        while(n):\n",
    "            add +=n%10\n",
    "            n //= 10\n",
    "        if n1%add == 0:\n",
    "            return f\"{n1} is Harshad Number.\"\n",
    "        else:\n",
    "            return f\"{n1} is Not Harshad Number.\"\n",
    "    except Exception as e:\n",
    "        return e\n",
    "    \n",
    "n = 153\n",
    "CheckHarshad(n)"
   ]
  },
  {
   "cell_type": "markdown",
   "id": "fc7836df",
   "metadata": {},
   "source": [
    "### Q-6 Write a Python program to print all pronic numbers between 1 and 100?"
   ]
  },
  {
   "cell_type": "code",
   "execution_count": 117,
   "id": "34f6282d",
   "metadata": {},
   "outputs": [
    {
     "name": "stdout",
     "output_type": "stream",
     "text": [
      "2 Pronic Number.\n",
      "6 Pronic Number.\n",
      "12 Pronic Number.\n",
      "20 Pronic Number.\n",
      "30 Pronic Number.\n",
      "42 Pronic Number.\n",
      "56 Pronic Number.\n",
      "72 Pronic Number.\n",
      "90 Pronic Number.\n"
     ]
    }
   ],
   "source": [
    "# Ans:\n",
    "\n",
    "def CheckPronic(n):\n",
    "    \"\"\"\n",
    "    This Function will check that given number is pronic or not.\n",
    "    \"\"\"\n",
    "    try:\n",
    "        for i in range(n):\n",
    "            if i*(i+1) == n :\n",
    "                return True\n",
    "            if i*(i+1) > n:\n",
    "                return False\n",
    "    except Exception as e:\n",
    "        return e\n",
    "    \n",
    "n = 100\n",
    "for i in range(1, n + 1):\n",
    "    if CheckPronic(i):\n",
    "        print(f\"{i} Pronic Number.\")\n"
   ]
  },
  {
   "cell_type": "code",
   "execution_count": null,
   "id": "6d9528e1",
   "metadata": {},
   "outputs": [],
   "source": []
  },
  {
   "cell_type": "code",
   "execution_count": null,
   "id": "9b5eba97",
   "metadata": {},
   "outputs": [],
   "source": []
  },
  {
   "cell_type": "code",
   "execution_count": null,
   "id": "98d91db4",
   "metadata": {},
   "outputs": [],
   "source": []
  },
  {
   "cell_type": "code",
   "execution_count": null,
   "id": "9023b861",
   "metadata": {},
   "outputs": [],
   "source": []
  }
 ],
 "metadata": {
  "kernelspec": {
   "display_name": "Python 3 (ipykernel)",
   "language": "python",
   "name": "python3"
  },
  "language_info": {
   "codemirror_mode": {
    "name": "ipython",
    "version": 3
   },
   "file_extension": ".py",
   "mimetype": "text/x-python",
   "name": "python",
   "nbconvert_exporter": "python",
   "pygments_lexer": "ipython3",
   "version": "3.8.0"
  }
 },
 "nbformat": 4,
 "nbformat_minor": 5
}
