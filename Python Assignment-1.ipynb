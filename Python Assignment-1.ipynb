{
 "cells": [
  {
   "cell_type": "markdown",
   "id": "dd4f56d1",
   "metadata": {},
   "source": [
    "# Q-1 In the below elements which of them are values or an expression? eg:- values can be integer or string and expressions will be mathematical operators."
   ]
  },
  {
   "cell_type": "code",
   "execution_count": null,
   "id": "3ecb5fb9",
   "metadata": {},
   "outputs": [],
   "source": [
    "Ans:\n",
    "a. * is an expression.\n",
    "b. 'hello' is an value.\n",
    "c. -87.8 is an value.\n",
    "d. - is an expression.\n",
    "e. / is an expression.\n",
    "f. + is an expression.\n",
    "g. 6 is an value."
   ]
  },
  {
   "cell_type": "markdown",
   "id": "d9a9c52b",
   "metadata": {},
   "source": [
    "# Q-2 What is the difference between string and variable?"
   ]
  },
  {
   "cell_type": "code",
   "execution_count": null,
   "id": "bc5fd6d5",
   "metadata": {},
   "outputs": [],
   "source": [
    "Ans:\n",
    "String:- String can be a sequance of unicode characters which is wrapped inside single/double/triple quotes.\n",
    "Variable:- Variable is a container which hold the objects value in runtime."
   ]
  },
  {
   "cell_type": "markdown",
   "id": "f36465c4",
   "metadata": {},
   "source": [
    "# Q-3 Describe three different data types."
   ]
  },
  {
   "cell_type": "code",
   "execution_count": null,
   "id": "ac37b385",
   "metadata": {},
   "outputs": [],
   "source": [
    "Ans:\n",
    "Integer:- An integer is whole number, it can be negative whole number or positive whole number.\n",
    "Float:- An float is a decimal number which represent the real numbers.\n",
    "Complex:- An complex data type have the parts first one is real and secound one is imaginary part."
   ]
  },
  {
   "cell_type": "markdown",
   "id": "04ffae17",
   "metadata": {},
   "source": [
    "# Q-4 What is an expression made up of? What do all expressions do?"
   ]
  },
  {
   "cell_type": "code",
   "execution_count": null,
   "id": "c064768e",
   "metadata": {},
   "outputs": [],
   "source": [
    "Ans: An expression is a construct made up of variables, operators, and method which are constructed according to the syntax \n",
    "    of the language. Which evaluates into a single value. "
   ]
  },
  {
   "cell_type": "markdown",
   "id": "5e2e599b",
   "metadata": {},
   "source": [
    "# Q-5 This assignment statements, like spam = 10. What is the difference between an expression and a statement?"
   ]
  },
  {
   "cell_type": "code",
   "execution_count": null,
   "id": "95770111",
   "metadata": {},
   "outputs": [],
   "source": [
    "Ans:\n",
    "    An expression evaluates the syntex into a single value while a statement does not."
   ]
  },
  {
   "cell_type": "markdown",
   "id": "e290dc4d",
   "metadata": {},
   "source": [
    "# Q-6 After running the following code, what does the variable bacon contain?\n",
    "# bacon = 22\n",
    "# bacon + 1"
   ]
  },
  {
   "cell_type": "code",
   "execution_count": 2,
   "id": "438bd80f",
   "metadata": {},
   "outputs": [
    {
     "data": {
      "text/plain": [
       "23"
      ]
     },
     "execution_count": 2,
     "metadata": {},
     "output_type": "execute_result"
    }
   ],
   "source": [
    "#Ans:\n",
    "bacon = 22\n",
    "bacon+1"
   ]
  },
  {
   "cell_type": "markdown",
   "id": "5649f48b",
   "metadata": {},
   "source": [
    "# Q-7 What should the values of the following two terms be?\n",
    "# 'spam' + 'spamspam'\n",
    "# 'spam'*3"
   ]
  },
  {
   "cell_type": "code",
   "execution_count": 7,
   "id": "d421bdda",
   "metadata": {},
   "outputs": [
    {
     "data": {
      "text/plain": [
       "'spamspamspam'"
      ]
     },
     "execution_count": 7,
     "metadata": {},
     "output_type": "execute_result"
    }
   ],
   "source": [
    "'spam' + 'spamspam'"
   ]
  },
  {
   "cell_type": "code",
   "execution_count": 8,
   "id": "9b69aa6d",
   "metadata": {},
   "outputs": [
    {
     "data": {
      "text/plain": [
       "'spamspamspam'"
      ]
     },
     "execution_count": 8,
     "metadata": {},
     "output_type": "execute_result"
    }
   ],
   "source": [
    "'spam'*3"
   ]
  },
  {
   "cell_type": "markdown",
   "id": "57b41643",
   "metadata": {},
   "source": [
    "# Q-8 Why is eggs a valid variable name while 100 is invalid?"
   ]
  },
  {
   "cell_type": "code",
   "execution_count": null,
   "id": "b78baf21",
   "metadata": {},
   "outputs": [],
   "source": [
    "Ans: Because a number(s)/special charactor(s) cannot be used individually as an variable while any string can be \n",
    "    used as an variable. \n",
    "    \n",
    "    Note:-We should avoid to use pre define function as variable name like (sum,count,avg) etc."
   ]
  },
  {
   "cell_type": "markdown",
   "id": "ce7f5cdc",
   "metadata": {},
   "source": [
    "# Q-9 What three functions can be used to get the integer, floating-point number, or string version of a value?"
   ]
  },
  {
   "cell_type": "code",
   "execution_count": null,
   "id": "60b55787",
   "metadata": {},
   "outputs": [],
   "source": [
    "Ans: \n",
    "    we can used str function to get string version of a value, and int for interger and float for floating-point number."
   ]
  },
  {
   "cell_type": "markdown",
   "id": "244a6330",
   "metadata": {},
   "source": [
    "# Q-10 Why does this expression cause an error? How can you fix it?\n",
    "'I have eaten' + 99 + 'burritos'"
   ]
  },
  {
   "cell_type": "code",
   "execution_count": 16,
   "id": "d28990c5",
   "metadata": {},
   "outputs": [
    {
     "data": {
      "text/plain": [
       "'I have eaten99burritos'"
      ]
     },
     "execution_count": 16,
     "metadata": {},
     "output_type": "execute_result"
    }
   ],
   "source": [
    "\"\"\"\n",
    "Ans: In below code we will get TypeError due to str and int concatenation. To resolve this we need to convert int value to \n",
    "str value by using str function.\n",
    "\"\"\"\n",
    "\n",
    "'I have eaten' + str(99) + 'burritos'"
   ]
  },
  {
   "cell_type": "code",
   "execution_count": null,
   "id": "7af90262",
   "metadata": {},
   "outputs": [],
   "source": []
  },
  {
   "cell_type": "code",
   "execution_count": null,
   "id": "fd29691b",
   "metadata": {},
   "outputs": [],
   "source": []
  }
 ],
 "metadata": {
  "kernelspec": {
   "display_name": "Python 3 (ipykernel)",
   "language": "python",
   "name": "python3"
  },
  "language_info": {
   "codemirror_mode": {
    "name": "ipython",
    "version": 3
   },
   "file_extension": ".py",
   "mimetype": "text/x-python",
   "name": "python",
   "nbconvert_exporter": "python",
   "pygments_lexer": "ipython3",
   "version": "3.9.7"
  }
 },
 "nbformat": 4,
 "nbformat_minor": 5
}
