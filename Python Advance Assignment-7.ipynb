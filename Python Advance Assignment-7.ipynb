{
 "cells": [
  {
   "cell_type": "markdown",
   "id": "fc96680d",
   "metadata": {},
   "source": [
    "# Python Advance Assignment"
   ]
  },
  {
   "cell_type": "markdown",
   "id": "40d74c98",
   "metadata": {},
   "source": [
    "### Q-1 What is the purpose of the try statement?"
   ]
  },
  {
   "cell_type": "code",
   "execution_count": null,
   "id": "e6e57a7c",
   "metadata": {},
   "outputs": [],
   "source": [
    "# Ans:\n",
    "\"\"\"\n",
    "The try block is used to check some code for errors. the code inside the try block will execute when there is no error in\n",
    "the program. Whereas the code inside the except block will execute whenever the program encounters some error in the try block.\n",
    "\"\"\""
   ]
  },
  {
   "cell_type": "markdown",
   "id": "a159ca79",
   "metadata": {},
   "source": [
    "### Q-2 What are the two most popular try statement variations?"
   ]
  },
  {
   "cell_type": "code",
   "execution_count": null,
   "id": "91b2a520",
   "metadata": {},
   "outputs": [],
   "source": [
    "# Ans:\n",
    "\"\"\"\n",
    "IOError: if the file can't be opened. \n",
    "KeyboardInterrupt: When an unrequired key is pressed by the user.\n",
    "\"\"\""
   ]
  },
  {
   "cell_type": "markdown",
   "id": "dbf95886",
   "metadata": {},
   "source": [
    "### Q-3 What is the purpose of the raise statement?"
   ]
  },
  {
   "cell_type": "code",
   "execution_count": null,
   "id": "62bece82",
   "metadata": {},
   "outputs": [],
   "source": [
    "# Ans:\n",
    "\"\"\"\n",
    "The raise keyword is used to raise an exception. You can define what kind of error to raise,\n",
    "and the text to print the user.\n",
    "\"\"\""
   ]
  },
  {
   "cell_type": "markdown",
   "id": "7af37f11",
   "metadata": {},
   "source": [
    "### Q-4 What does the assert statement do, and what other statement is it like?"
   ]
  },
  {
   "cell_type": "code",
   "execution_count": null,
   "id": "34df1299",
   "metadata": {},
   "outputs": [],
   "source": [
    "# Ans:\n",
    "\"\"\"\n",
    "An assert statement checks whether a condition is True or False. if a condition evaluates to True.\n",
    "a program will keep running. if a condition is false, the program will return an AssertionError.\n",
    "\"\"\""
   ]
  },
  {
   "cell_type": "markdown",
   "id": "f6b6b4ea",
   "metadata": {},
   "source": [
    "### Q-5 What is the purpose of the with/as argument, and what other statement is it like?"
   ]
  },
  {
   "cell_type": "code",
   "execution_count": null,
   "id": "ead010a4",
   "metadata": {},
   "outputs": [],
   "source": [
    "# Ans:\n",
    "\"\"\"\n",
    "with statement helps avoiding bugs and leaks by ensuring that a resource is properly released when the \n",
    "code using the resource is completely executed.\n",
    "\"\"\""
   ]
  },
  {
   "cell_type": "code",
   "execution_count": null,
   "id": "8610e5dc",
   "metadata": {},
   "outputs": [],
   "source": []
  },
  {
   "cell_type": "code",
   "execution_count": null,
   "id": "340b8a6a",
   "metadata": {},
   "outputs": [],
   "source": []
  }
 ],
 "metadata": {
  "kernelspec": {
   "display_name": "Python 3 (ipykernel)",
   "language": "python",
   "name": "python3"
  },
  "language_info": {
   "codemirror_mode": {
    "name": "ipython",
    "version": 3
   },
   "file_extension": ".py",
   "mimetype": "text/x-python",
   "name": "python",
   "nbconvert_exporter": "python",
   "pygments_lexer": "ipython3",
   "version": "3.8.0"
  }
 },
 "nbformat": 4,
 "nbformat_minor": 5
}
