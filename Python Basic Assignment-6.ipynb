{
 "cells": [
  {
   "cell_type": "markdown",
   "id": "ed82a354",
   "metadata": {},
   "source": [
    "# Python Basic Assignment"
   ]
  },
  {
   "cell_type": "markdown",
   "id": "1af5eadd",
   "metadata": {},
   "source": [
    "### Q-1 What are escape characters, and how do you use them?"
   ]
  },
  {
   "cell_type": "code",
   "execution_count": null,
   "id": "e75614b5",
   "metadata": {},
   "outputs": [],
   "source": [
    "# Ans:\n",
    "\"\"\"\n",
    "An escape character is a backslash (\\) followed by the character you want to insert.\n",
    "\"\"\""
   ]
  },
  {
   "cell_type": "markdown",
   "id": "e98a5696",
   "metadata": {},
   "source": [
    "### Q-2 What do the escape characters n and t stand for?"
   ]
  },
  {
   "cell_type": "code",
   "execution_count": null,
   "id": "e22e4382",
   "metadata": {},
   "outputs": [],
   "source": [
    "# Ans:\n",
    "\"\"\"\n",
    "escape character (n) stands for New Line and escape character (t) stands for Tab. \n",
    "\"\"\""
   ]
  },
  {
   "cell_type": "markdown",
   "id": "58771fbe",
   "metadata": {},
   "source": [
    "### Q-3 What is the way to include backslash characters in a string?"
   ]
  },
  {
   "cell_type": "code",
   "execution_count": null,
   "id": "21fc6a80",
   "metadata": {},
   "outputs": [],
   "source": [
    "# Ans:\n",
    "\"\"\"\n",
    "txt = \"I am a \"software developer\" from India.\"\n",
    "\n",
    "finaltxt = \"I am a \\\"software developer\\\" from India.\"\n",
    "\"\"\""
   ]
  },
  {
   "cell_type": "markdown",
   "id": "abd8f9bb",
   "metadata": {},
   "source": [
    "### Q-4 The string \"Howl's Moving Castle\" is a correct value. Why isn't the single quote character in the word Howl's not escaped a problem?"
   ]
  },
  {
   "cell_type": "code",
   "execution_count": null,
   "id": "2545361f",
   "metadata": {},
   "outputs": [],
   "source": [
    "# Ans:\n",
    "\"\"\"\n",
    "Because we have used dobule quotes to mark the beginning and end of the string.\n",
    "\"\"\""
   ]
  },
  {
   "cell_type": "markdown",
   "id": "f5c962c3",
   "metadata": {},
   "source": [
    "### Q-5 How do you write a string of newlines if you don't want to use the n character?"
   ]
  },
  {
   "cell_type": "code",
   "execution_count": null,
   "id": "11f3cfc3",
   "metadata": {},
   "outputs": [],
   "source": [
    "# Ans:\n",
    "\"\"\"\n",
    "we can use multiline string to write a string of newlines. Multiline string allow us to use newlines in strings\n",
    "without using \\n escape character.\n",
    "\"\"\""
   ]
  },
  {
   "cell_type": "markdown",
   "id": "d715766f",
   "metadata": {},
   "source": [
    "### Q-6 What are the values of the given expressions?\n",
    "#### 'Hello, world!'[1]\n",
    "#### 'Hello, world!'[0:5]\n",
    "#### 'Hello, world!'[:5]\n",
    "#### 'Hello, world!'[3:]"
   ]
  },
  {
   "cell_type": "code",
   "execution_count": 3,
   "id": "f7d90e31",
   "metadata": {},
   "outputs": [
    {
     "name": "stdout",
     "output_type": "stream",
     "text": [
      "e\n",
      "Hello\n",
      "Hello\n",
      "lo, world!\n"
     ]
    }
   ],
   "source": [
    "# Ans:\n",
    "print('Hello, world!'[1])\n",
    "print('Hello, world!'[0:5])\n",
    "print('Hello, world!'[:5])\n",
    "print('Hello, world!'[3:])\n"
   ]
  },
  {
   "cell_type": "markdown",
   "id": "6d67734d",
   "metadata": {},
   "source": [
    "### Q-7 What are the values of the following expressions?\n",
    "#### 'Hello'.upper()\n",
    "#### 'Hello'.upper().isupper()\n",
    "#### 'Hello'.upper().lower()"
   ]
  },
  {
   "cell_type": "code",
   "execution_count": 6,
   "id": "12651b39",
   "metadata": {},
   "outputs": [
    {
     "name": "stdout",
     "output_type": "stream",
     "text": [
      "HELLO\n",
      "True\n",
      "False\n"
     ]
    }
   ],
   "source": [
    "# Ans:\n",
    "print('Hello'.upper())\n",
    "print('Hello'.upper().isupper())\n",
    "print('Hello'.upper().islower())"
   ]
  },
  {
   "cell_type": "markdown",
   "id": "5f5c41a1",
   "metadata": {},
   "source": [
    "### Q-8 What are the values of the following expressions?\n",
    "#### 'Remember, remember, the fifth of July.'.split()\n",
    "#### '-'.join('There can only one.'.split())"
   ]
  },
  {
   "cell_type": "code",
   "execution_count": 8,
   "id": "046b5a00",
   "metadata": {},
   "outputs": [
    {
     "name": "stdout",
     "output_type": "stream",
     "text": [
      "['Remember,', 'remember,', 'the', 'fifth', 'of', 'July.']\n",
      "There-can-only-one.\n"
     ]
    }
   ],
   "source": [
    "# Ans:\n",
    "print('Remember, remember, the fifth of July.'.split())\n",
    "print('-'.join('There can only one.'.split()))"
   ]
  },
  {
   "cell_type": "markdown",
   "id": "ab9efcca",
   "metadata": {},
   "source": [
    "### Q-9 What are the methods for right-justifying, left-justifying, and centering a string?"
   ]
  },
  {
   "cell_type": "code",
   "execution_count": null,
   "id": "a83c76e2",
   "metadata": {},
   "outputs": [],
   "source": [
    "# Ans:\n",
    "\"\"\"\n",
    "For right-justifying, left-justifying, and centering a string we can use ljust(), rjust() and center().\n",
    "\"\"\""
   ]
  },
  {
   "cell_type": "markdown",
   "id": "a753fb2e",
   "metadata": {},
   "source": [
    "### Q-10 What is the best way to remove whitespace characters from the start or end?"
   ]
  },
  {
   "cell_type": "code",
   "execution_count": null,
   "id": "5e8fc315",
   "metadata": {},
   "outputs": [],
   "source": [
    "# Ans:\n",
    "\"\"\"\n",
    "To remove the whitespace characters, we can use trimStart() for start and trimEnd() for end.\n",
    "\"\"\""
   ]
  },
  {
   "cell_type": "code",
   "execution_count": null,
   "id": "6407704e",
   "metadata": {},
   "outputs": [],
   "source": []
  },
  {
   "cell_type": "code",
   "execution_count": null,
   "id": "10fd90da",
   "metadata": {},
   "outputs": [],
   "source": []
  },
  {
   "cell_type": "code",
   "execution_count": null,
   "id": "afee198b",
   "metadata": {},
   "outputs": [],
   "source": []
  },
  {
   "cell_type": "code",
   "execution_count": null,
   "id": "65842f7a",
   "metadata": {},
   "outputs": [],
   "source": []
  }
 ],
 "metadata": {
  "kernelspec": {
   "display_name": "Python 3 (ipykernel)",
   "language": "python",
   "name": "python3"
  },
  "language_info": {
   "codemirror_mode": {
    "name": "ipython",
    "version": 3
   },
   "file_extension": ".py",
   "mimetype": "text/x-python",
   "name": "python",
   "nbconvert_exporter": "python",
   "pygments_lexer": "ipython3",
   "version": "3.8.0"
  }
 },
 "nbformat": 4,
 "nbformat_minor": 5
}
