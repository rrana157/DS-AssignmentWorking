{
 "cells": [
  {
   "cell_type": "markdown",
   "id": "e2623885",
   "metadata": {},
   "source": [
    "# Python Advance Assignment"
   ]
  },
  {
   "cell_type": "markdown",
   "id": "e519e4dc",
   "metadata": {},
   "source": [
    "### Q-1 Which two operator overloading methods can you use in your classes to support iteration?"
   ]
  },
  {
   "cell_type": "code",
   "execution_count": null,
   "id": "9b53490f",
   "metadata": {},
   "outputs": [],
   "source": [
    "# Ans:\n",
    "\"\"\"\n",
    "1. __iter__\n",
    "2. __next__\n",
    "\"\"\""
   ]
  },
  {
   "cell_type": "markdown",
   "id": "b49847ca",
   "metadata": {},
   "source": [
    "### Q-2 In what contexts do the two operator overloading methods manage printing?"
   ]
  },
  {
   "cell_type": "code",
   "execution_count": null,
   "id": "0b08671a",
   "metadata": {},
   "outputs": [],
   "source": [
    "# Ans:\n",
    "\"\"\"\n",
    "Below are the methods used to implement object print displays.\n",
    "1. __str__ \n",
    "2. __repr__ \n",
    "\n",
    "\"\"\""
   ]
  },
  {
   "cell_type": "markdown",
   "id": "681b67bf",
   "metadata": {},
   "source": [
    "### Q-3 In a class, how do you intercept slice operations?"
   ]
  },
  {
   "cell_type": "code",
   "execution_count": null,
   "id": "b15d6439",
   "metadata": {},
   "outputs": [],
   "source": [
    "# Ans:\n",
    "\"\"\"\n",
    "In a class, we use __getitem__ to intercept slice operations.\n",
    "\"\"\""
   ]
  },
  {
   "cell_type": "markdown",
   "id": "41e0e3ab",
   "metadata": {},
   "source": [
    "### Q-4 In a class, how do you capture in-place addition?"
   ]
  },
  {
   "cell_type": "code",
   "execution_count": null,
   "id": "c44baa00",
   "metadata": {},
   "outputs": [],
   "source": [
    "# Ans:\n",
    "\"\"\"\n",
    "In a class, addition tries __iadd__ first, and __add__ with an assignment second.\n",
    "The same pattern holds true for all binary operators. The __radd__ method is also available for right-side addition.\n",
    "\"\"\""
   ]
  },
  {
   "cell_type": "markdown",
   "id": "82a2d746",
   "metadata": {},
   "source": [
    "### Q-5 When is it appropriate to use operator overloading?"
   ]
  },
  {
   "cell_type": "code",
   "execution_count": null,
   "id": "2bc6916b",
   "metadata": {},
   "outputs": [],
   "source": [
    "# Ans:\n",
    "\"\"\"\n",
    "The operator overloading in Python, provide extended meaning beyond their pre-defined operational meaning.\n",
    "we use the '+' operator for adding two integers as well as joining two string or merging two lists.\n",
    "all this we can achieve by the '+' operator is overloaded by 'int' and 'str' class.\n",
    "\"\"\""
   ]
  },
  {
   "cell_type": "code",
   "execution_count": null,
   "id": "0b2287a1",
   "metadata": {},
   "outputs": [],
   "source": []
  },
  {
   "cell_type": "code",
   "execution_count": null,
   "id": "20f2a6f8",
   "metadata": {},
   "outputs": [],
   "source": []
  }
 ],
 "metadata": {
  "kernelspec": {
   "display_name": "Python 3 (ipykernel)",
   "language": "python",
   "name": "python3"
  },
  "language_info": {
   "codemirror_mode": {
    "name": "ipython",
    "version": 3
   },
   "file_extension": ".py",
   "mimetype": "text/x-python",
   "name": "python",
   "nbconvert_exporter": "python",
   "pygments_lexer": "ipython3",
   "version": "3.8.0"
  }
 },
 "nbformat": 4,
 "nbformat_minor": 5
}
